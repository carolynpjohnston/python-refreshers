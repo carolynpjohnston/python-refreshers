{
 "cells": [
  {
   "cell_type": "markdown",
   "metadata": {},
   "source": [
    "## This chapter in Dive Into Python also covers sys.modules, directory traversal, and for loops."
   ]
  },
  {
   "cell_type": "markdown",
   "metadata": {},
   "source": [
    "## Basics: Python uses try...except to handle exceptions and raise to generate them.\n",
    "\n",
    "standard exception types:\n",
    "\n",
    "    · Accessing a non−existent dictionary key will raise a KeyError exception.\n",
    "    · Searching a list for a non−existent value will raise a ValueError exception.\n",
    "    · Calling a non−existent method will raise an AttributeError exception.\n",
    "    · Referencing a non−existent variable will raise a NameError exception.\n",
    "    · Mixing datatypes without coercion will raise a TypeError exception.\n",
    "    Screwing up file IO will raise an IOError exception.\n",
    "    Failing an assert statement will cause an AssertionError (I love assert). \"assert\" is in the base language.\n",
    "    Importing a module that does not exist will raise an ImportError exception.\n",
    "    \n",
    "You can also define your own exceptions by creating a class that inherits from the built−in Exception class, and\n",
    "then raise your exceptions with the raise command.\n",
    "\n",
    "A try...except block can have an else clause, like an if statement. If no exception is raised during the\n",
    "try block, the else clause is executed afterwards. Example:\n",
    "\n",
    "    try:\n",
    "        import msvcrt\n",
    "    except ImportError:\n",
    "        try:\n",
    "            from EasyDialogs import AskPassword\n",
    "        except ImportError:\n",
    "            getpass = default_getpass\n",
    "        else:\n",
    "            getpass = AskPassword\n",
    "    else:\n",
    "        getpass = win_getpass"
   ]
  },
  {
   "cell_type": "markdown",
   "metadata": {},
   "source": [
    "## File Handling\n",
    "\n",
    "    f = open(\"/music/_singles/kairo.mp3\", \"rb\")\n",
    "    \n",
    "### file methods\n",
    "\n",
    "The tell() method of a file object tells you your current position in the open file.\n",
    "\n",
    "The seek() method of a file object moves to another position in the open file. The second parameter\n",
    "specifies what the first one means; 0 means move to an absolute position (counting from the start of the\n",
    "file), 1 means move to a relative position (counting from the current position), and 2 means move to a\n",
    "position relative to the end of the file.\n",
    "\n",
    "The read() method reads a specified number of bytes from the open file and returns a string with the data\n",
    "that was read.\n",
    "\n",
    "The readline() method reads to the next newline character.\n"
   ]
  },
  {
   "cell_type": "code",
   "execution_count": 85,
   "metadata": {
    "collapsed": false
   },
   "outputs": [
    {
     "name": "stdout",
     "output_type": "stream",
     "text": [
      "file(name[, mode[, buffering]]) -> file object\n",
      "\n",
      "Open a file.  The mode can be 'r', 'w' or 'a' for reading (default),\n",
      "writing or appending.  The file will be created if it doesn't exist\n",
      "when opened for writing or appending; it will be truncated when\n",
      "opened for writing.  Add a 'b' to the mode for binary files.\n",
      "Add a '+' to the mode to allow simultaneous reading and writing.\n",
      "If the buffering argument is given, 0 means unbuffered, 1 means line\n",
      "buffered, and larger numbers specify the buffer size.  The preferred way\n",
      "to open a file is with the builtin open() function.\n",
      "Add a 'U' to mode to open the file for input with universal newline\n",
      "support.  Any line ending in the input file will be seen as a '\\n'\n",
      "in Python.  Also, a file so opened gains the attribute 'newlines';\n",
      "the value for this attribute is one of None (no newline read yet),\n",
      "'\\r', '\\n', '\\r\\n' or a tuple containing all the newline types seen.\n",
      "\n",
      "'U' cannot be combined with 'w' or '+' mode.\n",
      "\n"
     ]
    }
   ],
   "source": [
    "print file.__doc__ #explains the modes"
   ]
  },
  {
   "cell_type": "code",
   "execution_count": 86,
   "metadata": {
    "collapsed": false
   },
   "outputs": [
    {
     "data": {
      "text/plain": [
       "False"
      ]
     },
     "execution_count": 86,
     "metadata": {},
     "output_type": "execute_result"
    }
   ],
   "source": [
    "fname = \"/mnt/xferUbuntu/jupyterNotes/PyRefreshers/music_singles/01_Red Rain_Peter Gabriel.mp3\"\n",
    "f = open(fname, \"rb\")\n",
    "f.closed"
   ]
  },
  {
   "cell_type": "code",
   "execution_count": 87,
   "metadata": {
    "collapsed": false
   },
   "outputs": [
    {
     "data": {
      "text/plain": [
       "True"
      ]
     },
     "execution_count": 87,
     "metadata": {},
     "output_type": "execute_result"
    }
   ],
   "source": [
    "f.close()\n",
    "f.closed # checks whether the file if closed. "
   ]
  },
  {
   "cell_type": "code",
   "execution_count": 88,
   "metadata": {
    "collapsed": false
   },
   "outputs": [
    {
     "name": "stdout",
     "output_type": "stream",
     "text": [
      "TAGRed Rain                      Peter Gabriel                 So                            1986                            \u0000\u0001\f",
      "\n"
     ]
    }
   ],
   "source": [
    "# graceful way to read and close a file\n",
    "try:\n",
    "    fsock = open(fname, \"rb\", 0)\n",
    "    try:\n",
    "        fsock.seek(-128, 2) # tags are stored in the last 128 bytes of an MP3 file\n",
    "        tagdata = fsock.read(128)\n",
    "        print tagdata\n",
    "    finally:\n",
    "        fsock.close()\n",
    "except IOError:\n",
    "    pass"
   ]
  },
  {
   "cell_type": "markdown",
   "metadata": {},
   "source": [
    "### Environment variables: access with: os.environ (this is a dictionary). "
   ]
  },
  {
   "cell_type": "markdown",
   "metadata": {},
   "source": [
    "## Accessing modules from sys.modules\n",
    "\n",
    "sys.modules is a dictionary containing key=name of module (string), value = module (module)\n",
    "\n",
    "sys contains some other things, like recursion limit information \n",
    "\n",
    "    sys.getrecursionlimit()\n",
    "    sys.setrecursionlimit(100)\n",
    "    \n",
    "As new modules are imported, they are added to sys.modules. This explains why importing the\n",
    "same module twice is very fast: Python has already loaded and cached the module in\n",
    "sys.modules, so importing the second time is simply a dictionary lookup.\n",
    "\n"
   ]
  },
  {
   "cell_type": "code",
   "execution_count": 89,
   "metadata": {
    "collapsed": false
   },
   "outputs": [
    {
     "data": {
      "text/plain": [
       "module"
      ]
     },
     "execution_count": 89,
     "metadata": {},
     "output_type": "execute_result"
    }
   ],
   "source": [
    "import sys, os\n",
    "type(sys)"
   ]
  },
  {
   "cell_type": "code",
   "execution_count": 90,
   "metadata": {
    "collapsed": false
   },
   "outputs": [],
   "source": [
    "## The function below uses sys.modules to pull the correct file info class for the file type"
   ]
  },
  {
   "cell_type": "code",
   "execution_count": 125,
   "metadata": {
    "collapsed": false
   },
   "outputs": [
    {
     "name": "stdout",
     "output_type": "stream",
     "text": [
      "TXTFileInfo init\n",
      "FileInfo init\n",
      "__main__.TXTFileInfo\n",
      "__main__.TXTFileInfo\n",
      "filename.txt\n"
     ]
    },
    {
     "ename": "TypeError",
     "evalue": "__str__ returned non-string (type NoneType)",
     "output_type": "error",
     "traceback": [
      "\u001b[1;31m---------------------------------------------------------------------------\u001b[0m",
      "\u001b[1;31mTypeError\u001b[0m                                 Traceback (most recent call last)",
      "\u001b[1;32m<ipython-input-125-5ec41867ca97>\u001b[0m in \u001b[0;36m<module>\u001b[1;34m()\u001b[0m\n\u001b[0;32m     45\u001b[0m \u001b[0mfinst\u001b[0m \u001b[1;33m=\u001b[0m \u001b[0mgetFileInfoClass\u001b[0m\u001b[1;33m(\u001b[0m\u001b[1;34m\"filename.txt\"\u001b[0m\u001b[1;33m)\u001b[0m\u001b[1;33m(\u001b[0m\u001b[1;34m\"filename.txt\"\u001b[0m\u001b[1;33m)\u001b[0m\u001b[1;33m\u001b[0m\u001b[0m\n\u001b[0;32m     46\u001b[0m \u001b[1;32mprint\u001b[0m \u001b[0mfinst\u001b[0m\u001b[1;33m.\u001b[0m\u001b[0m__class__\u001b[0m\u001b[1;33m\u001b[0m\u001b[0m\n\u001b[1;32m---> 47\u001b[1;33m \u001b[1;32mprint\u001b[0m \u001b[0mfinst\u001b[0m\u001b[1;33m\u001b[0m\u001b[0m\n\u001b[0m\u001b[0;32m     48\u001b[0m \u001b[1;32mprint\u001b[0m \u001b[0mgetFileInfoClass\u001b[0m\u001b[1;33m(\u001b[0m\u001b[1;34m\"filename.mp3\"\u001b[0m\u001b[1;33m)\u001b[0m\u001b[1;33m\u001b[0m\u001b[0m\n\u001b[0;32m     49\u001b[0m \u001b[1;32mprint\u001b[0m \u001b[0mgetFileInfoClass\u001b[0m\u001b[1;33m(\u001b[0m\u001b[1;34m\"filename.avi\"\u001b[0m\u001b[1;33m)\u001b[0m\u001b[1;33m\u001b[0m\u001b[0m\n",
      "\u001b[1;31mTypeError\u001b[0m: __str__ returned non-string (type NoneType)"
     ]
    }
   ],
   "source": [
    "class FileInfo:\n",
    "    \"\"\"base class for FileInfo stack\"\"\"\n",
    "    def __init__(self, filename=None):\n",
    "        print \"FileInfo init\"\n",
    "        self.fname = filename\n",
    "        \n",
    "    def __repr__(self):\n",
    "        return str(self.__class__) and \"class %s: filename %s\".format(str(self.__class__), str(self.fname)) or \"None\"\n",
    "        \n",
    "        \n",
    "class TXTFileInfo(FileInfo):\n",
    "    def __init__(self, filename):\n",
    "        print \"TXTFileInfo init\"\n",
    "        FileInfo.__init__(self, filename)\n",
    "\n",
    "    \n",
    "    def __repr__(self):\n",
    "        FileInfo.__repr__(self)\n",
    "        \n",
    "class MP3FileInfo(FileInfo):\n",
    "    def __init__(self, filename):\n",
    "        print \"MP3FileInfo init\"\n",
    "        FileInfo.__init__(self, filename)\n",
    "    \n",
    "    def __repr__(self):\n",
    "        FileInfo.__repr__(self)\n",
    "\n",
    "def getFileInfoClass(filename, module=sys.modules[FileInfo.__module__]):\n",
    "    \"get file info class from filename extension\"\n",
    "    \n",
    "    # get the name of the right subclass of FileInfo\n",
    "    # os.path.splitext splits the filename into a basename and an extension that includes the period (i.e., \".txt\")\n",
    "    # slicing the extension so it starts at 1 ditches the period.\n",
    "    # upper() creates the uppercase. \n",
    "    # note the use of the formatting operator %\n",
    "    subclass = \"%sFileInfo\" % os.path.splitext(filename)[1].upper()[1:]\n",
    "    \n",
    "    # note the A and B or C idiom\n",
    "    # if the extension was a file that doesn't have a fileinfo type, A will be 0 so C (the base class, FileInfo) will be returned. \n",
    "    # if it's a recognized type the subclass will be returned.\n",
    "    return hasattr(module, subclass) and getattr(module, subclass) or FileInfo\n",
    "\n",
    "finst = getFileInfoClass(\"filename.txt\")(\"filename.txt\")\n",
    "print finst.__class__\n",
    "print finst\n",
    "print getFileInfoClass(\"filename.mp3\")\n",
    "print getFileInfoClass(\"filename.avi\")"
   ]
  },
  {
   "cell_type": "markdown",
   "metadata": {},
   "source": [
    "## Directories and directory names\n",
    "\n",
    "os.path is a module whose function is system-dependent. "
   ]
  },
  {
   "cell_type": "code",
   "execution_count": 92,
   "metadata": {
    "collapsed": false
   },
   "outputs": [
    {
     "name": "stdout",
     "output_type": "stream",
     "text": [
      "/home/carolyn/Music\n"
     ]
    }
   ],
   "source": [
    "import os\n",
    "\n",
    "# Here's a function I didn't know about. It gets you the 'home directory' on whatever system you're working on.\n",
    "# it will get you other people's home directories if you use the '~other' syntax.\n",
    "os.path.expanduser(\"~\")\n",
    "dirname = os.path.join(os.path.expanduser(\"~carolyn\"), \"Music\" )\n",
    "print dirname"
   ]
  },
  {
   "cell_type": "code",
   "execution_count": 93,
   "metadata": {
    "collapsed": false
   },
   "outputs": [
    {
     "data": {
      "text/plain": [
       "('/home/carolyn', 'Music')"
      ]
     },
     "execution_count": 93,
     "metadata": {},
     "output_type": "execute_result"
    }
   ],
   "source": [
    "# os.path.split splits a full path filename into the directory part and the file part.\n",
    "# it assumes the file part is whatever is on the end.\n",
    "splitme = os.path.split(dirname)\n",
    "splitme"
   ]
  },
  {
   "cell_type": "code",
   "execution_count": 94,
   "metadata": {
    "collapsed": false
   },
   "outputs": [
    {
     "data": {
      "text/plain": [
       "True"
      ]
     },
     "execution_count": 94,
     "metadata": {},
     "output_type": "execute_result"
    }
   ],
   "source": [
    "# tells you if the object is a file.\n",
    "# os.path.isfile(dirname)\n",
    "os.path.isdir(dirname)"
   ]
  },
  {
   "cell_type": "code",
   "execution_count": 95,
   "metadata": {
    "collapsed": false
   },
   "outputs": [
    {
     "ename": "OSError",
     "evalue": "[Errno 2] No such file or directory: '~'",
     "output_type": "error",
     "traceback": [
      "\u001b[1;31m---------------------------------------------------------------------------\u001b[0m",
      "\u001b[1;31mOSError\u001b[0m                                   Traceback (most recent call last)",
      "\u001b[1;32m<ipython-input-95-f5e7e9d253d4>\u001b[0m in \u001b[0;36m<module>\u001b[1;34m()\u001b[0m\n\u001b[1;32m----> 1\u001b[1;33m \u001b[0mos\u001b[0m\u001b[1;33m.\u001b[0m\u001b[0mlistdir\u001b[0m\u001b[1;33m(\u001b[0m\u001b[1;34m\"~\"\u001b[0m\u001b[1;33m)\u001b[0m \u001b[1;31m# DOESN'T WORK\u001b[0m\u001b[1;33m\u001b[0m\u001b[0m\n\u001b[0m",
      "\u001b[1;31mOSError\u001b[0m: [Errno 2] No such file or directory: '~'"
     ]
    }
   ],
   "source": [
    "os.listdir(\"~\") # DOESN'T WORK"
   ]
  },
  {
   "cell_type": "code",
   "execution_count": 96,
   "metadata": {
    "collapsed": false
   },
   "outputs": [
    {
     "data": {
      "text/plain": [
       "['.compiz',\n",
       " 'Templates',\n",
       " '.local',\n",
       " '.mozilla',\n",
       " 'Documents',\n",
       " '.condarc',\n",
       " 'pyprosail',\n",
       " '.Xauthority',\n",
       " 'mount.sh',\n",
       " '.dbus',\n",
       " 'examples.desktop',\n",
       " '.cache',\n",
       " '.vboxclient-draganddrop.pid',\n",
       " '.bash_history',\n",
       " '.profile',\n",
       " '.condarc~',\n",
       " '.jupyter',\n",
       " '.bashrc-anaconda.bak',\n",
       " '.conda',\n",
       " 'mount.sh~',\n",
       " '.xsession-errors.old',\n",
       " '.bashrc',\n",
       " 'Pictures',\n",
       " '.gconf',\n",
       " 'Music',\n",
       " '.continuum',\n",
       " 'Desktop',\n",
       " 'jupyter-notebooks',\n",
       " '.vboxclient-seamless.pid',\n",
       " '.config',\n",
       " '.qgis2',\n",
       " '.emacs.d',\n",
       " '.ICEauthority',\n",
       " 'Downloads',\n",
       " 'Videos',\n",
       " '.vboxclient-display.pid',\n",
       " 'Public',\n",
       " 'HW1.Prob4.pdf',\n",
       " '.bash_logout',\n",
       " 'anaconda',\n",
       " '.xsession-errors',\n",
       " '.ipython',\n",
       " '.vboxclient-clipboard.pid',\n",
       " '.dmrc']"
      ]
     },
     "execution_count": 96,
     "metadata": {},
     "output_type": "execute_result"
    }
   ],
   "source": [
    "dirlist = os.listdir(os.path.expanduser(\"~\")) \n",
    "dirlist"
   ]
  },
  {
   "cell_type": "code",
   "execution_count": 97,
   "metadata": {
    "collapsed": false
   },
   "outputs": [
    {
     "data": {
      "text/plain": [
       "['/home/carolyn/.compiz',\n",
       " '/home/carolyn/Templates',\n",
       " '/home/carolyn/.local',\n",
       " '/home/carolyn/.mozilla',\n",
       " '/home/carolyn/Documents',\n",
       " '/home/carolyn/.condarc',\n",
       " '/home/carolyn/pyprosail',\n",
       " '/home/carolyn/.Xauthority',\n",
       " '/home/carolyn/mount.sh',\n",
       " '/home/carolyn/.dbus',\n",
       " '/home/carolyn/examples.desktop',\n",
       " '/home/carolyn/.cache',\n",
       " '/home/carolyn/.vboxclient-draganddrop.pid',\n",
       " '/home/carolyn/.bash_history',\n",
       " '/home/carolyn/.profile',\n",
       " '/home/carolyn/.condarc~',\n",
       " '/home/carolyn/.jupyter',\n",
       " '/home/carolyn/.bashrc-anaconda.bak',\n",
       " '/home/carolyn/.conda',\n",
       " '/home/carolyn/mount.sh~',\n",
       " '/home/carolyn/.xsession-errors.old',\n",
       " '/home/carolyn/.bashrc',\n",
       " '/home/carolyn/Pictures',\n",
       " '/home/carolyn/.gconf',\n",
       " '/home/carolyn/Music',\n",
       " '/home/carolyn/.continuum',\n",
       " '/home/carolyn/Desktop',\n",
       " '/home/carolyn/jupyter-notebooks',\n",
       " '/home/carolyn/.vboxclient-seamless.pid',\n",
       " '/home/carolyn/.config',\n",
       " '/home/carolyn/.qgis2',\n",
       " '/home/carolyn/.emacs.d',\n",
       " '/home/carolyn/.ICEauthority',\n",
       " '/home/carolyn/Downloads',\n",
       " '/home/carolyn/Videos',\n",
       " '/home/carolyn/.vboxclient-display.pid',\n",
       " '/home/carolyn/Public',\n",
       " '/home/carolyn/HW1.Prob4.pdf',\n",
       " '/home/carolyn/.bash_logout',\n",
       " '/home/carolyn/anaconda',\n",
       " '/home/carolyn/.xsession-errors',\n",
       " '/home/carolyn/.ipython',\n",
       " '/home/carolyn/.vboxclient-clipboard.pid',\n",
       " '/home/carolyn/.dmrc']"
      ]
     },
     "execution_count": 97,
     "metadata": {},
     "output_type": "execute_result"
    }
   ],
   "source": [
    "#WORKS: lists files in the home directory.\n",
    "\n",
    "pdirlist"
   ]
  },
  {
   "cell_type": "code",
   "execution_count": 98,
   "metadata": {
    "collapsed": true
   },
   "outputs": [],
   "source": [
    "# I had a lot of trouble just now with the one-step list comprehension:\n",
    "# justdirs = [y for y in [os.path.join(os.path.expanduser(\"~\"), x) for x in dirlist] if os.path.isdir(y)]\n",
    "# so I did it in two, and that worked.\n",
    "pdirlist = [os.path.join(os.path.expanduser(\"~\"), x) for x in dirlist]\n",
    "justdirs = [y for y in pdirlist if os.path.isdir(y)]"
   ]
  },
  {
   "cell_type": "code",
   "execution_count": 99,
   "metadata": {
    "collapsed": false
   },
   "outputs": [
    {
     "data": {
      "text/plain": [
       "['/home/carolyn/.compiz',\n",
       " '/home/carolyn/Templates',\n",
       " '/home/carolyn/.local',\n",
       " '/home/carolyn/.mozilla',\n",
       " '/home/carolyn/Documents',\n",
       " '/home/carolyn/pyprosail',\n",
       " '/home/carolyn/.dbus',\n",
       " '/home/carolyn/.cache',\n",
       " '/home/carolyn/.jupyter',\n",
       " '/home/carolyn/.conda',\n",
       " '/home/carolyn/Pictures',\n",
       " '/home/carolyn/.gconf',\n",
       " '/home/carolyn/Music',\n",
       " '/home/carolyn/.continuum',\n",
       " '/home/carolyn/Desktop',\n",
       " '/home/carolyn/jupyter-notebooks',\n",
       " '/home/carolyn/.config',\n",
       " '/home/carolyn/.qgis2',\n",
       " '/home/carolyn/.emacs.d',\n",
       " '/home/carolyn/Downloads',\n",
       " '/home/carolyn/Videos',\n",
       " '/home/carolyn/Public',\n",
       " '/home/carolyn/anaconda',\n",
       " '/home/carolyn/.ipython']"
      ]
     },
     "execution_count": 99,
     "metadata": {},
     "output_type": "execute_result"
    }
   ],
   "source": [
    "justdirs"
   ]
  },
  {
   "cell_type": "code",
   "execution_count": 100,
   "metadata": {
    "collapsed": true
   },
   "outputs": [],
   "source": [
    "justdirs2 = [y for y in [os.path.join(os.path.expanduser(\"~\"), x) for x in dirlist] if os.path.isdir(y)]"
   ]
  },
  {
   "cell_type": "code",
   "execution_count": 101,
   "metadata": {
    "collapsed": false
   },
   "outputs": [
    {
     "data": {
      "text/plain": [
       "['/home/carolyn/.compiz',\n",
       " '/home/carolyn/Templates',\n",
       " '/home/carolyn/.local',\n",
       " '/home/carolyn/.mozilla',\n",
       " '/home/carolyn/Documents',\n",
       " '/home/carolyn/pyprosail',\n",
       " '/home/carolyn/.dbus',\n",
       " '/home/carolyn/.cache',\n",
       " '/home/carolyn/.jupyter',\n",
       " '/home/carolyn/.conda',\n",
       " '/home/carolyn/Pictures',\n",
       " '/home/carolyn/.gconf',\n",
       " '/home/carolyn/Music',\n",
       " '/home/carolyn/.continuum',\n",
       " '/home/carolyn/Desktop',\n",
       " '/home/carolyn/jupyter-notebooks',\n",
       " '/home/carolyn/.config',\n",
       " '/home/carolyn/.qgis2',\n",
       " '/home/carolyn/.emacs.d',\n",
       " '/home/carolyn/Downloads',\n",
       " '/home/carolyn/Videos',\n",
       " '/home/carolyn/Public',\n",
       " '/home/carolyn/anaconda',\n",
       " '/home/carolyn/.ipython']"
      ]
     },
     "execution_count": 101,
     "metadata": {},
     "output_type": "execute_result"
    }
   ],
   "source": [
    "justdirs2 # it worked!"
   ]
  },
  {
   "cell_type": "markdown",
   "metadata": {},
   "source": [
    "## the glob module\n",
    "\n",
    "The glob module, on the other hand, takes a wildcard and returns the full path of all files and\n",
    "directories matching the wildcard. In short it works like the unix command line."
   ]
  },
  {
   "cell_type": "code",
   "execution_count": 102,
   "metadata": {
    "collapsed": false
   },
   "outputs": [
    {
     "data": {
      "text/plain": [
       "['/home/carolyn/.compiz',\n",
       " '/home/carolyn/.local',\n",
       " '/home/carolyn/.mozilla',\n",
       " '/home/carolyn/.condarc',\n",
       " '/home/carolyn/.Xauthority',\n",
       " '/home/carolyn/.dbus',\n",
       " '/home/carolyn/.cache',\n",
       " '/home/carolyn/.vboxclient-draganddrop.pid',\n",
       " '/home/carolyn/.bash_history',\n",
       " '/home/carolyn/.profile',\n",
       " '/home/carolyn/.condarc~',\n",
       " '/home/carolyn/.jupyter',\n",
       " '/home/carolyn/.bashrc-anaconda.bak',\n",
       " '/home/carolyn/.conda',\n",
       " '/home/carolyn/.xsession-errors.old',\n",
       " '/home/carolyn/.bashrc',\n",
       " '/home/carolyn/.gconf',\n",
       " '/home/carolyn/.continuum',\n",
       " '/home/carolyn/.vboxclient-seamless.pid',\n",
       " '/home/carolyn/.config',\n",
       " '/home/carolyn/.qgis2',\n",
       " '/home/carolyn/.emacs.d',\n",
       " '/home/carolyn/.ICEauthority',\n",
       " '/home/carolyn/.vboxclient-display.pid',\n",
       " '/home/carolyn/.bash_logout',\n",
       " '/home/carolyn/.xsession-errors',\n",
       " '/home/carolyn/.ipython',\n",
       " '/home/carolyn/.vboxclient-clipboard.pid',\n",
       " '/home/carolyn/.dmrc']"
      ]
     },
     "execution_count": 102,
     "metadata": {},
     "output_type": "execute_result"
    }
   ],
   "source": [
    "import glob\n",
    "glob.glob(os.path.join(os.path.expanduser(\"~\"), \".*\")) #finds all your dot files & dirs"
   ]
  },
  {
   "cell_type": "markdown",
   "metadata": {},
   "source": [
    "## SUMMARY\n",
    "\n",
    "Putting all the pieces together."
   ]
  },
  {
   "cell_type": "code",
   "execution_count": 103,
   "metadata": {
    "collapsed": true
   },
   "outputs": [],
   "source": [
    "def listDirectory(directory, fileExtList):\n",
    "    \"get list of file info objects for files of particular extensions\"\n",
    "    \n",
    "    #normcase normalizes the filename case. For Linux this does nothing.\n",
    "    fileList = [os.path.normcase(f)\n",
    "        for f in os.listdir(directory)] # multiline is okay for a list comprehension\n",
    "    \n",
    "    \n",
    "    # note this is one of those 2-step file comprehensions like I did before.\n",
    "    # the 2nd step just gets the full pathnames of files that have an extension matching one in fileExtList.\n",
    "    fileList = [os.path.join(directory, f)\n",
    "        for f in fileList\n",
    "        if os.path.splitext(f)[1] in fileExtList]\n",
    "    \n",
    "    # this function was analyzed above. It returns a subclass of FileInfo if the extension is matched. \n",
    "    # it returns FileInfo otherwise. \n",
    "    def getFileInfoClass(filename, module=sys.modules[FileInfo.__module__]):\n",
    "        \"get file info class from filename extension\"\n",
    "        \n",
    "        # gets the extension part of the filename, uppercases it, and removes the period, then sticks it onto the classname\n",
    "        subclass = \"%sFileInfo\" % os.path.splitext(filename)[1].upper()[1:]\n",
    "        # print subclass (for debug)\n",
    "        return hasattr(module, subclass) and getattr(module, subclass) or FileInfo\n",
    "    \n",
    "    # getFileInfoClass(f) returns the class object for the subclass of FileInfo that matches your extension.\n",
    "    # say that's TXTFileInfo. Then the second call returns TXTFileInfo(f), which is a constructor for that class, called with the filename. \n",
    "    return [getFileInfoClass(f)(f) for f in fileList]"
   ]
  },
  {
   "cell_type": "code",
   "execution_count": 104,
   "metadata": {
    "collapsed": false
   },
   "outputs": [
    {
     "data": {
      "text/plain": [
       "True"
      ]
     },
     "execution_count": 104,
     "metadata": {},
     "output_type": "execute_result"
    }
   ],
   "source": [
    "hasattr(sys.modules[FileInfo.__module__], \"MP3FileInfo\")"
   ]
  },
  {
   "cell_type": "code",
   "execution_count": 106,
   "metadata": {
    "collapsed": false
   },
   "outputs": [],
   "source": [
    "inst = listDirectory(\"/mnt/xferUbuntu/jupyterNotes/PyRefreshers/music_singles\", [\".mp3\"])\n"
   ]
  },
  {
   "cell_type": "code",
   "execution_count": 109,
   "metadata": {
    "collapsed": false
   },
   "outputs": [
    {
     "ename": "TypeError",
     "evalue": "__repr__ returned non-string (type NoneType)",
     "output_type": "error",
     "traceback": [
      "\u001b[1;31m---------------------------------------------------------------------------\u001b[0m",
      "\u001b[1;31mTypeError\u001b[0m                                 Traceback (most recent call last)",
      "\u001b[1;32m<ipython-input-109-681e8415707c>\u001b[0m in \u001b[0;36m<module>\u001b[1;34m()\u001b[0m\n\u001b[0;32m      1\u001b[0m \u001b[0mlen\u001b[0m\u001b[1;33m(\u001b[0m\u001b[0minst\u001b[0m\u001b[1;33m)\u001b[0m\u001b[1;33m\u001b[0m\u001b[0m\n\u001b[1;32m----> 2\u001b[1;33m \u001b[1;32mprint\u001b[0m \u001b[0minst\u001b[0m\u001b[1;33m\u001b[0m\u001b[0m\n\u001b[0m",
      "\u001b[1;31mTypeError\u001b[0m: __repr__ returned non-string (type NoneType)"
     ]
    }
   ],
   "source": [
    "len(inst)\n",
    "print inst"
   ]
  },
  {
   "cell_type": "code",
   "execution_count": null,
   "metadata": {
    "collapsed": true
   },
   "outputs": [],
   "source": []
  }
 ],
 "metadata": {
  "kernelspec": {
   "display_name": "Python 2",
   "language": "python",
   "name": "python2"
  },
  "language_info": {
   "codemirror_mode": {
    "name": "ipython",
    "version": 2
   },
   "file_extension": ".py",
   "mimetype": "text/x-python",
   "name": "python",
   "nbconvert_exporter": "python",
   "pygments_lexer": "ipython2",
   "version": "2.7.10"
  }
 },
 "nbformat": 4,
 "nbformat_minor": 0
}
