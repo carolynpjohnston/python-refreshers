{
 "cells": [
  {
   "cell_type": "markdown",
   "metadata": {},
   "source": [
    "Here's some weird code from Dive into Python.\n",
    "Note there's no return value.\n",
    "This prints out the name and doc strings for every callable method or function on the object.\n",
    "\n",
    "Some notes:\n",
    "\n",
    "* the syntax 'boolean and function1 or function2' returns function1 if bool is true, function 2 if false.\n",
    "* in an expression like 'a and b or c', the and clause executes first. \n",
    "* getattr(x, 'foobar') is equivalent to x.foobar; it returns the value of the attribute.\n",
    "* callable(object) returns true if the object is callable. \n"
   ]
  },
  {
   "cell_type": "code",
   "execution_count": 67,
   "metadata": {
    "collapsed": true
   },
   "outputs": [],
   "source": [
    "\n",
    "def info(object, spacing=10, collapse=1):\n",
    "\t\"\"\"Print methods and doc strings.\n",
    "\n",
    "\tTakes module, class, list, dictionary, or string.\"\"\"\n",
    "\tmethodList = [e for e in dir(object) if callable(getattr(object, e))]\n",
    "    \n",
    "    # collapse is an integer? I guess it is a boolean actually. \n",
    "    # if 'collapse' is 0, the rest of the line doesn't need to run. This is quite perlish.\n",
    "\tprocessFunc = collapse and (lambda s: \" \".join(s.split())) or (lambda s: s)\n",
    "    \n",
    "    # print a colon-separated list of method names and their doc strings.\n",
    "\tprint \"\\n\".join([\"%s: %s\" %\n",
    "\t\t\t\t\t (method.ljust(spacing),\n",
    "\t\t\t\t\t  processFunc(str(getattr(object, method).__doc__)))\n",
    "\t\t\t\t\t for method in methodList])"
   ]
  },
  {
   "cell_type": "code",
   "execution_count": 68,
   "metadata": {
    "collapsed": false
   },
   "outputs": [
    {
     "data": {
      "text/plain": [
       "True"
      ]
     },
     "execution_count": 68,
     "metadata": {},
     "output_type": "execute_result"
    }
   ],
   "source": [
    "# My first question: what is the order of operations for something like \"a and b or c\"?\n",
    "True and True or False # if that first 'and' goes first, this returns true"
   ]
  },
  {
   "cell_type": "code",
   "execution_count": 69,
   "metadata": {
    "collapsed": false
   },
   "outputs": [
    {
     "data": {
      "text/plain": [
       "True"
      ]
     },
     "execution_count": 69,
     "metadata": {},
     "output_type": "execute_result"
    }
   ],
   "source": [
    "True or True and False # should return True if 'and' goes first"
   ]
  },
  {
   "cell_type": "code",
   "execution_count": 70,
   "metadata": {
    "collapsed": false
   },
   "outputs": [
    {
     "data": {
      "text/plain": [
       "False"
      ]
     },
     "execution_count": 70,
     "metadata": {},
     "output_type": "execute_result"
    }
   ],
   "source": [
    "# I think 'and' dominates, regardless of where it is.\n",
    "False or True and False"
   ]
  },
  {
   "cell_type": "code",
   "execution_count": 71,
   "metadata": {
    "collapsed": false
   },
   "outputs": [
    {
     "data": {
      "text/plain": [
       "True"
      ]
     },
     "execution_count": 71,
     "metadata": {},
     "output_type": "execute_result"
    }
   ],
   "source": [
    "True and True or False"
   ]
  },
  {
   "cell_type": "markdown",
   "metadata": {},
   "source": [
    "I don't get this at all, so I'm going to make a version that just returns processFunc so I can see what it's doing."
   ]
  },
  {
   "cell_type": "code",
   "execution_count": 72,
   "metadata": {
    "collapsed": false
   },
   "outputs": [
    {
     "name": "stdout",
     "output_type": "stream",
     "text": [
      "<function <lambda> at 0x7f83d83b98c0>\n"
     ]
    }
   ],
   "source": [
    "def infoTest(myob, spacing=10, collapse=1):\n",
    "    \"\"\"Print methods and doc strings.\n",
    "    Takes module, class, list, dictionary, or string.\"\"\"\n",
    "    \n",
    "    # methodList is just a list of callable attributes of myob, i.e., the methods. \n",
    "    methodList = [e for e in dir(myob) if callable(getattr(myob, e))]\n",
    "    \n",
    "    # collapse is an integer? I guess it is a boolean actually. \n",
    "    # see below for how processFunc gets defined. This is quite perlish.\n",
    "    processFunc = collapse and (lambda s: \";\".join(s.split())) or (lambda s: s)\n",
    "    return processFunc\n",
    "\n",
    "myobj = range(3) \n",
    "\n",
    "# processFunc \n",
    "processFunc = infoTest(myobj)\n",
    "print processFunc"
   ]
  },
  {
   "cell_type": "code",
   "execution_count": 73,
   "metadata": {
    "collapsed": false
   },
   "outputs": [
    {
     "data": {
      "text/plain": [
       "<function __main__.<lambda>>"
      ]
     },
     "execution_count": 73,
     "metadata": {},
     "output_type": "execute_result"
    }
   ],
   "source": [
    "# so processFunc is a function, bizarrely defined. Never seen anything like this before in Python.\n",
    "# I'm going to change the join character to a comma so you can see what it's doing. \n",
    "# the default split character is whitespace, so s.split splits on whitespace.\n",
    "# it comes back together with a semicolon.\n",
    "# if collapse is 0, the first lambda doesn't get defined, the second one does.\n",
    "# if collapse is 1, the first lambda gets defined.\n",
    "# this is odd because that first term, \n",
    "\n",
    "collapse = 1\n",
    "pf_part1_func = collapse and (lambda s: \";\".join(s.split()))\n",
    "\n",
    "# if collapse was 0, then pf_part1_func is 0 and the second part of the 'or' clause will execute. \n",
    "# if collapse was 1, then pf_part1_func is a lambda!\n",
    "pf_part1_func\n"
   ]
  },
  {
   "cell_type": "code",
   "execution_count": 74,
   "metadata": {
    "collapsed": true
   },
   "outputs": [],
   "source": [
    "# below: original defn of processFunc1.\n",
    "# processFunc1 = collapse and (lambda s: \";\".join(s.split())) or (lambda s: s)\n",
    "\n",
    "# if collapse was 0, then pf_part1_func is 0 and the second lambda executes.\n",
    "# if collapse was 1, then pf_part1_func is nonzero (it's a function) and the second lambda does not execute. \n",
    "# so this is very perlish, programmerly code. Too effing terse if you ask me. \n",
    "processFunc1 = pf_part1_func or (lambda s: s) "
   ]
  },
  {
   "cell_type": "code",
   "execution_count": 75,
   "metadata": {
    "collapsed": false
   },
   "outputs": [
    {
     "data": {
      "text/plain": [
       "'starlight;in;the;gloaming'"
      ]
     },
     "execution_count": 75,
     "metadata": {},
     "output_type": "execute_result"
    }
   ],
   "source": [
    "processFunc1('starlight in the gloaming') # collapse was 1, so that first lambda executed."
   ]
  },
  {
   "cell_type": "markdown",
   "metadata": {},
   "source": [
    "The point of the join-split syntax in the next line is to normalize the white space. The default in the split is to split on whitespace, so an expression like\n",
    "\n",
    "    \" \".join(\"My   dog has    fleas\".split())\n",
    "    \n",
    "gets cleaned up."
   ]
  },
  {
   "cell_type": "code",
   "execution_count": 81,
   "metadata": {
    "collapsed": false
   },
   "outputs": [
    {
     "data": {
      "text/plain": [
       "'My dog has fleas'"
      ]
     },
     "execution_count": 81,
     "metadata": {},
     "output_type": "execute_result"
    }
   ],
   "source": [
    "\" \".join(\"My   dog has    fleas\".split())"
   ]
  },
  {
   "cell_type": "code",
   "execution_count": 76,
   "metadata": {
    "collapsed": true
   },
   "outputs": [],
   "source": [
    "collapse = 0\n",
    "processFunc0 = collapse and (lambda s: \" \".join(s.split())) or (lambda s: s)"
   ]
  },
  {
   "cell_type": "code",
   "execution_count": 77,
   "metadata": {
    "collapsed": false
   },
   "outputs": [
    {
     "data": {
      "text/plain": [
       "'starlight in the gloaming'"
      ]
     },
     "execution_count": 77,
     "metadata": {},
     "output_type": "execute_result"
    }
   ],
   "source": [
    "# collapse was 0, so the second lambda executed. That one is just the identity. I get this now.\n",
    "processFunc0('starlight in the gloaming')"
   ]
  },
  {
   "cell_type": "code",
   "execution_count": 78,
   "metadata": {
    "collapsed": false
   },
   "outputs": [
    {
     "data": {
      "text/plain": [
       "True"
      ]
     },
     "execution_count": 78,
     "metadata": {},
     "output_type": "execute_result"
    }
   ],
   "source": [
    "# Now I'll play a bit with the 'callable' function.\n",
    "# processFunc0 is a function so it should be callable.\n",
    "callable(processFunc0)"
   ]
  },
  {
   "cell_type": "code",
   "execution_count": 79,
   "metadata": {
    "collapsed": false
   },
   "outputs": [
    {
     "data": {
      "text/plain": [
       "False"
      ]
     },
     "execution_count": 79,
     "metadata": {},
     "output_type": "execute_result"
    }
   ],
   "source": [
    "# strings should not be callable.\n",
    "callable(\"my dog has fleas\")"
   ]
  },
  {
   "cell_type": "code",
   "execution_count": 85,
   "metadata": {
    "collapsed": false
   },
   "outputs": [
    {
     "name": "stdout",
     "output_type": "stream",
     "text": [
      "__add__   : x.__add__(y) <==> x+y\n",
      "__class__ : list() -> new empty list list(iterable) -> new list initialized from iterable's items\n",
      "__contains__: x.__contains__(y) <==> y in x\n",
      "__delattr__: x.__delattr__('name') <==> del x.name\n",
      "__delitem__: x.__delitem__(y) <==> del x[y]\n",
      "__delslice__: x.__delslice__(i, j) <==> del x[i:j] Use of negative indices is not supported.\n",
      "__eq__    : x.__eq__(y) <==> x==y\n",
      "__format__: default object formatter\n",
      "__ge__    : x.__ge__(y) <==> x>=y\n",
      "__getattribute__: x.__getattribute__('name') <==> x.name\n",
      "__getitem__: x.__getitem__(y) <==> x[y]\n",
      "__getslice__: x.__getslice__(i, j) <==> x[i:j] Use of negative indices is not supported.\n",
      "__gt__    : x.__gt__(y) <==> x>y\n",
      "__iadd__  : x.__iadd__(y) <==> x+=y\n",
      "__imul__  : x.__imul__(y) <==> x*=y\n",
      "__init__  : x.__init__(...) initializes x; see help(type(x)) for signature\n",
      "__iter__  : x.__iter__() <==> iter(x)\n",
      "__le__    : x.__le__(y) <==> x<=y\n",
      "__len__   : x.__len__() <==> len(x)\n",
      "__lt__    : x.__lt__(y) <==> x<y\n",
      "__mul__   : x.__mul__(n) <==> x*n\n",
      "__ne__    : x.__ne__(y) <==> x!=y\n",
      "__new__   : T.__new__(S, ...) -> a new object with type S, a subtype of T\n",
      "__reduce__: helper for pickle\n",
      "__reduce_ex__: helper for pickle\n",
      "__repr__  : x.__repr__() <==> repr(x)\n",
      "__reversed__: L.__reversed__() -- return a reverse iterator over the list\n",
      "__rmul__  : x.__rmul__(n) <==> n*x\n",
      "__setattr__: x.__setattr__('name', value) <==> x.name = value\n",
      "__setitem__: x.__setitem__(i, y) <==> x[i]=y\n",
      "__setslice__: x.__setslice__(i, j, y) <==> x[i:j]=y Use of negative indices is not supported.\n",
      "__sizeof__: L.__sizeof__() -- size of L in memory, in bytes\n",
      "__str__   : x.__str__() <==> str(x)\n",
      "__subclasshook__: Abstract classes can override this to customize issubclass(). This is invoked early on by abc.ABCMeta.__subclasscheck__(). It should return True, False or NotImplemented. If it returns NotImplemented, the normal algorithm is used. Otherwise, it overrides the normal algorithm (and the outcome is cached).\n",
      "append    : L.append(object) -- append object to end\n",
      "count     : L.count(value) -> integer -- return number of occurrences of value\n",
      "extend    : L.extend(iterable) -- extend list by appending elements from the iterable\n",
      "index     : L.index(value, [start, [stop]]) -> integer -- return first index of value. Raises ValueError if the value is not present.\n",
      "insert    : L.insert(index, object) -- insert object before index\n",
      "pop       : L.pop([index]) -> item -- remove and return item at index (default last). Raises IndexError if list is empty or index is out of range.\n",
      "remove    : L.remove(value) -- remove first occurrence of value. Raises ValueError if the value is not present.\n",
      "reverse   : L.reverse() -- reverse *IN PLACE*\n",
      "sort      : L.sort(cmp=None, key=None, reverse=False) -- stable sort *IN PLACE*; cmp(x, y) -> -1, 0, 1\n",
      "None\n"
     ]
    }
   ],
   "source": [
    "# print method info from a list object.\n",
    "print info(['a'])"
   ]
  },
  {
   "cell_type": "code",
   "execution_count": null,
   "metadata": {
    "collapsed": true
   },
   "outputs": [],
   "source": []
  }
 ],
 "metadata": {
  "kernelspec": {
   "display_name": "Python 2",
   "language": "python",
   "name": "python2"
  },
  "language_info": {
   "codemirror_mode": {
    "name": "ipython",
    "version": 2
   },
   "file_extension": ".py",
   "mimetype": "text/x-python",
   "name": "python",
   "nbconvert_exporter": "python",
   "pygments_lexer": "ipython2",
   "version": "2.7.10"
  }
 },
 "nbformat": 4,
 "nbformat_minor": 0
}
