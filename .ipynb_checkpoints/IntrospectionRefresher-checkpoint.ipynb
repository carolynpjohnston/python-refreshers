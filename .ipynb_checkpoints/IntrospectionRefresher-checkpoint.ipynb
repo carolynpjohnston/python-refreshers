{
 "cells": [
  {
   "cell_type": "markdown",
   "metadata": {},
   "source": [
    "# Type function\n",
    "The types module contains all the types. \n",
    "The type function will return the datatype of anything."
   ]
  },
  {
   "cell_type": "code",
   "execution_count": 4,
   "metadata": {
    "collapsed": false
   },
   "outputs": [
    {
     "name": "stdout",
     "output_type": "stream",
     "text": [
      "BooleanType\n",
      "BufferType\n",
      "BuiltinFunctionType\n",
      "BuiltinMethodType\n",
      "ClassType\n",
      "CodeType\n",
      "ComplexType\n",
      "DictProxyType\n",
      "DictType\n",
      "DictionaryType\n",
      "EllipsisType\n",
      "FileType\n",
      "FloatType\n",
      "FrameType\n",
      "FunctionType\n",
      "GeneratorType\n",
      "GetSetDescriptorType\n",
      "InstanceType\n",
      "IntType\n",
      "LambdaType\n",
      "ListType\n",
      "LongType\n",
      "MemberDescriptorType\n",
      "MethodType\n",
      "ModuleType\n",
      "NoneType\n",
      "NotImplementedType\n",
      "ObjectType\n",
      "SliceType\n",
      "StringType\n",
      "StringTypes\n",
      "TracebackType\n",
      "TupleType\n",
      "TypeType\n",
      "UnboundMethodType\n",
      "UnicodeType\n",
      "XRangeType\n",
      "__all__\n",
      "__builtins__\n",
      "__doc__\n",
      "__file__\n",
      "__name__\n",
      "__package__\n"
     ]
    }
   ],
   "source": [
    "import types\n",
    "print \"\\n\".join([str(item) for item in dir(types)])"
   ]
  },
  {
   "cell_type": "code",
   "execution_count": 5,
   "metadata": {
    "collapsed": false
   },
   "outputs": [
    {
     "data": {
      "text/plain": [
       "str"
      ]
     },
     "execution_count": 5,
     "metadata": {},
     "output_type": "execute_result"
    }
   ],
   "source": [
    "type(\"a\")"
   ]
  },
  {
   "cell_type": "code",
   "execution_count": 6,
   "metadata": {
    "collapsed": false
   },
   "outputs": [
    {
     "data": {
      "text/plain": [
       "list"
      ]
     },
     "execution_count": 6,
     "metadata": {},
     "output_type": "execute_result"
    }
   ],
   "source": [
    "type(range(2))"
   ]
  },
  {
   "cell_type": "markdown",
   "metadata": {},
   "source": [
    "## getattr() is 'the heart of introspection'\n",
    "\n",
    "You can use \"getattr\" to access an object method without knowing its name until runtime. \n",
    "This is useful, I guess, because it can be input at runtime or selected from a list at runtime. \n",
    "Apparently there are many things you can do with the power to grab a method or attribute at runtime. "
   ]
  },
  {
   "cell_type": "code",
   "execution_count": 10,
   "metadata": {
    "collapsed": false
   },
   "outputs": [
    {
     "data": {
      "text/plain": [
       "['larry', 'curly', 'moe']"
      ]
     },
     "execution_count": 10,
     "metadata": {},
     "output_type": "execute_result"
    }
   ],
   "source": [
    "li = [\"larry\", \"curly\"]\n",
    "getattr(li, 'append')(\"moe\")\n",
    "li #I've successfully appended moe."
   ]
  },
  {
   "cell_type": "markdown",
   "metadata": {},
   "source": [
    "getattr also works on modules."
   ]
  },
  {
   "cell_type": "code",
   "execution_count": 12,
   "metadata": {
    "collapsed": false
   },
   "outputs": [
    {
     "data": {
      "text/plain": [
       "False"
      ]
     },
     "execution_count": 12,
     "metadata": {},
     "output_type": "execute_result"
    }
   ],
   "source": [
    "import math\n",
    "mathlist= \"\\n\".join([e for e in dir(math)])\n",
    "# pi isn't callable\n",
    "callable(getattr(math, 'pi')) "
   ]
  },
  {
   "cell_type": "code",
   "execution_count": 13,
   "metadata": {
    "collapsed": false
   },
   "outputs": [
    {
     "data": {
      "text/plain": [
       "True"
      ]
     },
     "execution_count": 13,
     "metadata": {},
     "output_type": "execute_result"
    }
   ],
   "source": [
    "callable(getattr(math, 'sinh'))"
   ]
  },
  {
   "cell_type": "code",
   "execution_count": null,
   "metadata": {
    "collapsed": true
   },
   "outputs": [],
   "source": []
  }
 ],
 "metadata": {
  "kernelspec": {
   "display_name": "Python 2",
   "language": "python",
   "name": "python2"
  },
  "language_info": {
   "codemirror_mode": {
    "name": "ipython",
    "version": 2
   },
   "file_extension": ".py",
   "mimetype": "text/x-python",
   "name": "python",
   "nbconvert_exporter": "python",
   "pygments_lexer": "ipython2",
   "version": "2.7.10"
  }
 },
 "nbformat": 4,
 "nbformat_minor": 0
}
