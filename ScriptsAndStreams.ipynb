{
 "cells": [
  {
   "cell_type": "markdown",
   "metadata": {},
   "source": [
    "## File-like objects\n",
    "\n",
    "In the simplest case, a file−like object is any object with a read method with an optional size parameter, which\n",
    "returns a string. When called with no size parameter, it reads everything there is to read from the input source and\n",
    "returns all the data as a single string.\n",
    "\n",
    "minidom.parse is a function that can take any file-like object (an input stream). "
   ]
  },
  {
   "cell_type": "code",
   "execution_count": 4,
   "metadata": {
    "collapsed": false
   },
   "outputs": [
    {
     "name": "stdout",
     "output_type": "stream",
     "text": [
      "<?xml version=\"1.0\" ?><!DOCTYPE grammar  PUBLIC '-//diveintopython.org//DTD Kant Generator Pro v1.0//EN'  'kgp.dtd'><grammar>\n",
      "<ref id=\"bit\">\n",
      "  <p>0</p>\n",
      "  <p>1</p>\n",
      "</ref>\n",
      "<ref id=\"byte\">\n",
      "  <p><xref id=\"bit\"/><xref id=\"bit\"/><xref id=\"bit\"/><xref id=\"bit\"/><xref id=\"bit\"/><xref id=\"bit\"/><xref id=\"bit\"/><xref id=\"bit\"/></p>\n",
      "</ref>\n",
      "</grammar>\n"
     ]
    }
   ],
   "source": [
    "### file object as a file-like object\n",
    "\n",
    "from xml.dom import minidom\n",
    "\n",
    "fsock = open('binary.xml')\n",
    "xmldoc = minidom.parse(fsock)\n",
    "fsock.close()\n",
    "print xmldoc.toxml()\n"
   ]
  },
  {
   "cell_type": "code",
   "execution_count": 5,
   "metadata": {
    "collapsed": true
   },
   "outputs": [],
   "source": [
    "### url input stream as a file-like object\n",
    "import urllib\n",
    "usock = urllib.urlopen('http://slashdot.org/slashdot.rdf') #usock is a file-like object.\n",
    "xmldoc = minidom.parse(usock)\n",
    "usock.close()\n",
    "# print xmldoc.toxml() -- you won't usually want to do this here."
   ]
  },
  {
   "cell_type": "code",
   "execution_count": 8,
   "metadata": {
    "collapsed": false
   },
   "outputs": [
    {
     "ename": "IOError",
     "evalue": "[Errno 2] No such file or directory: \"<grammar><ref id='bit'><p>0</p><p>1</p></ref></grammar>\"",
     "output_type": "error",
     "traceback": [
      "\u001b[1;31m---------------------------------------------------------------------------\u001b[0m",
      "\u001b[1;31mIOError\u001b[0m                                   Traceback (most recent call last)",
      "\u001b[1;32m<ipython-input-8-55ceff1ceb3a>\u001b[0m in \u001b[0;36m<module>\u001b[1;34m()\u001b[0m\n\u001b[0;32m      2\u001b[0m \u001b[0mcontents\u001b[0m \u001b[1;33m=\u001b[0m \u001b[1;34m\"<grammar><ref id='bit'><p>0</p><p>1</p></ref></grammar>\"\u001b[0m\u001b[1;33m\u001b[0m\u001b[0m\n\u001b[0;32m      3\u001b[0m \u001b[0mssock\u001b[0m \u001b[1;33m=\u001b[0m \u001b[0mcontents\u001b[0m\u001b[1;33m\u001b[0m\u001b[0m\n\u001b[1;32m----> 4\u001b[1;33m \u001b[0mxmldoc\u001b[0m \u001b[1;33m=\u001b[0m \u001b[0mminidom\u001b[0m\u001b[1;33m.\u001b[0m\u001b[0mparse\u001b[0m\u001b[1;33m(\u001b[0m\u001b[0mssock\u001b[0m\u001b[1;33m)\u001b[0m\u001b[1;33m\u001b[0m\u001b[0m\n\u001b[0m\u001b[0;32m      5\u001b[0m \u001b[0mssock\u001b[0m\u001b[1;33m.\u001b[0m\u001b[0mclose\u001b[0m\u001b[1;33m(\u001b[0m\u001b[1;33m)\u001b[0m\u001b[1;33m\u001b[0m\u001b[0m\n\u001b[0;32m      6\u001b[0m \u001b[1;32mprint\u001b[0m \u001b[0mxmldoc\u001b[0m\u001b[1;33m.\u001b[0m\u001b[0mtoxml\u001b[0m\u001b[1;33m(\u001b[0m\u001b[1;33m)\u001b[0m\u001b[1;33m\u001b[0m\u001b[0m\n",
      "\u001b[1;32m/home/carolyn/anaconda/envs/notebk/lib/python2.7/xml/dom/minidom.pyc\u001b[0m in \u001b[0;36mparse\u001b[1;34m(file, parser, bufsize)\u001b[0m\n\u001b[0;32m   1916\u001b[0m     \u001b[1;32mif\u001b[0m \u001b[0mparser\u001b[0m \u001b[1;32mis\u001b[0m \u001b[0mNone\u001b[0m \u001b[1;32mand\u001b[0m \u001b[1;32mnot\u001b[0m \u001b[0mbufsize\u001b[0m\u001b[1;33m:\u001b[0m\u001b[1;33m\u001b[0m\u001b[0m\n\u001b[0;32m   1917\u001b[0m         \u001b[1;32mfrom\u001b[0m \u001b[0mxml\u001b[0m\u001b[1;33m.\u001b[0m\u001b[0mdom\u001b[0m \u001b[1;32mimport\u001b[0m \u001b[0mexpatbuilder\u001b[0m\u001b[1;33m\u001b[0m\u001b[0m\n\u001b[1;32m-> 1918\u001b[1;33m         \u001b[1;32mreturn\u001b[0m \u001b[0mexpatbuilder\u001b[0m\u001b[1;33m.\u001b[0m\u001b[0mparse\u001b[0m\u001b[1;33m(\u001b[0m\u001b[0mfile\u001b[0m\u001b[1;33m)\u001b[0m\u001b[1;33m\u001b[0m\u001b[0m\n\u001b[0m\u001b[0;32m   1919\u001b[0m     \u001b[1;32melse\u001b[0m\u001b[1;33m:\u001b[0m\u001b[1;33m\u001b[0m\u001b[0m\n\u001b[0;32m   1920\u001b[0m         \u001b[1;32mfrom\u001b[0m \u001b[0mxml\u001b[0m\u001b[1;33m.\u001b[0m\u001b[0mdom\u001b[0m \u001b[1;32mimport\u001b[0m \u001b[0mpulldom\u001b[0m\u001b[1;33m\u001b[0m\u001b[0m\n",
      "\u001b[1;32m/home/carolyn/anaconda/envs/notebk/lib/python2.7/xml/dom/expatbuilder.pyc\u001b[0m in \u001b[0;36mparse\u001b[1;34m(file, namespaces)\u001b[0m\n\u001b[0;32m    920\u001b[0m \u001b[1;33m\u001b[0m\u001b[0m\n\u001b[0;32m    921\u001b[0m     \u001b[1;32mif\u001b[0m \u001b[0misinstance\u001b[0m\u001b[1;33m(\u001b[0m\u001b[0mfile\u001b[0m\u001b[1;33m,\u001b[0m \u001b[0mStringTypes\u001b[0m\u001b[1;33m)\u001b[0m\u001b[1;33m:\u001b[0m\u001b[1;33m\u001b[0m\u001b[0m\n\u001b[1;32m--> 922\u001b[1;33m         \u001b[0mfp\u001b[0m \u001b[1;33m=\u001b[0m \u001b[0mopen\u001b[0m\u001b[1;33m(\u001b[0m\u001b[0mfile\u001b[0m\u001b[1;33m,\u001b[0m \u001b[1;34m'rb'\u001b[0m\u001b[1;33m)\u001b[0m\u001b[1;33m\u001b[0m\u001b[0m\n\u001b[0m\u001b[0;32m    923\u001b[0m         \u001b[1;32mtry\u001b[0m\u001b[1;33m:\u001b[0m\u001b[1;33m\u001b[0m\u001b[0m\n\u001b[0;32m    924\u001b[0m             \u001b[0mresult\u001b[0m \u001b[1;33m=\u001b[0m \u001b[0mbuilder\u001b[0m\u001b[1;33m.\u001b[0m\u001b[0mparseFile\u001b[0m\u001b[1;33m(\u001b[0m\u001b[0mfp\u001b[0m\u001b[1;33m)\u001b[0m\u001b[1;33m\u001b[0m\u001b[0m\n",
      "\u001b[1;31mIOError\u001b[0m: [Errno 2] No such file or directory: \"<grammar><ref id='bit'><p>0</p><p>1</p></ref></grammar>\""
     ]
    }
   ],
   "source": [
    "### ERROR: trying to use string as a file-like object doesn't work\n",
    "contents = \"<grammar><ref id='bit'><p>0</p><p>1</p></ref></grammar>\"\n",
    "ssock = contents\n",
    "xmldoc = minidom.parse(ssock)\n",
    "ssock.close()\n",
    "print xmldoc.toxml()"
   ]
  },
  {
   "cell_type": "code",
   "execution_count": 9,
   "metadata": {
    "collapsed": false
   },
   "outputs": [
    {
     "name": "stdout",
     "output_type": "stream",
     "text": [
      "<?xml version=\"1.0\" ?><grammar><ref id=\"bit\"><p>0</p><p>1</p></ref></grammar>\n"
     ]
    }
   ],
   "source": [
    "### wrap the string so that it behaves like a file-like object. Then it works.\n",
    "import StringIO\n",
    "\n",
    "contents = \"<grammar><ref id='bit'><p>0</p><p>1</p></ref></grammar>\"\n",
    "\n",
    "#wrap contents so it looks like a file object\n",
    "ssock = StringIO.StringIO(contents)\n",
    "xmldoc = minidom.parse(ssock)\n",
    "ssock.close()\n",
    "print xmldoc.toxml()"
   ]
  },
  {
   "cell_type": "code",
   "execution_count": 10,
   "metadata": {
    "collapsed": false
   },
   "outputs": [
    {
     "data": {
      "text/plain": [
       "['__doc__',\n",
       " '__init__',\n",
       " '__iter__',\n",
       " '__module__',\n",
       " 'buflist',\n",
       " 'close',\n",
       " 'closed',\n",
       " 'flush',\n",
       " 'getvalue',\n",
       " 'isatty',\n",
       " 'len',\n",
       " 'next',\n",
       " 'read',\n",
       " 'readline',\n",
       " 'readlines',\n",
       " 'seek',\n",
       " 'softspace',\n",
       " 'tell',\n",
       " 'truncate',\n",
       " 'write',\n",
       " 'writelines']"
      ]
     },
     "execution_count": 10,
     "metadata": {},
     "output_type": "execute_result"
    }
   ],
   "source": [
    "# note that ssock has all these file-like methods\n",
    "dir(ssock)"
   ]
  },
  {
   "cell_type": "markdown",
   "metadata": {},
   "source": [
    "### Open Anything. \n",
    "\n",
    "This function tries to open a URL, then a file, and then treat the source as a string. If it can't be coerced to a string, I guess you're screwed. \n",
    "\n"
   ]
  },
  {
   "cell_type": "code",
   "execution_count": 14,
   "metadata": {
    "collapsed": false
   },
   "outputs": [
    {
     "name": "stdout",
     "output_type": "stream",
     "text": [
      "this is a file\n"
     ]
    }
   ],
   "source": [
    "def openAnything(source):\n",
    "    # try to open with native open function (works if source is filename)\n",
    "    try:\n",
    "        fsock = open(source)\n",
    "        print \"this is a file\"\n",
    "        return fsock\n",
    "    except (IOError, OSError):\n",
    "        pass\n",
    "\n",
    "    # try to open with urllib (if source is http, ftp, or file URL)\n",
    "    import urllib\n",
    "    try:\n",
    "        usock = urllib.urlopen(source)\n",
    "        print \"This is a url\"\n",
    "        return usock\n",
    "    except (IOError, OSError):\n",
    "        pass\n",
    "\n",
    "    # treat source as string\n",
    "    import StringIO\n",
    "    print \"treating this as a string\"\n",
    "    return StringIO.StringIO(str(source))\n",
    "    \n",
    "sock = openAnything(\"binary.xml\") # APPARENTLY urllib can open this"
   ]
  },
  {
   "cell_type": "code",
   "execution_count": 16,
   "metadata": {
    "collapsed": false
   },
   "outputs": [
    {
     "name": "stdout",
     "output_type": "stream",
     "text": [
      "This is a url\n"
     ]
    }
   ],
   "source": [
    "sock = openAnything('http://slashdot.org/slashdot.rdf')\n",
    "sock.close()"
   ]
  },
  {
   "cell_type": "code",
   "execution_count": 17,
   "metadata": {
    "collapsed": false
   },
   "outputs": [
    {
     "ename": "AttributeError",
     "evalue": "addinfourl instance has no attribute 'closed'",
     "output_type": "error",
     "traceback": [
      "\u001b[1;31m---------------------------------------------------------------------------\u001b[0m",
      "\u001b[1;31mAttributeError\u001b[0m                            Traceback (most recent call last)",
      "\u001b[1;32m<ipython-input-17-a899ba8dc7c0>\u001b[0m in \u001b[0;36m<module>\u001b[1;34m()\u001b[0m\n\u001b[1;32m----> 1\u001b[1;33m \u001b[0msock\u001b[0m\u001b[1;33m.\u001b[0m\u001b[0mclosed\u001b[0m\u001b[1;33m\u001b[0m\u001b[0m\n\u001b[0m",
      "\u001b[1;31mAttributeError\u001b[0m: addinfourl instance has no attribute 'closed'"
     ]
    }
   ],
   "source": [
    "# this doesn't work. Apparently it's not that much like a file object. \n",
    "sock.closed"
   ]
  },
  {
   "cell_type": "markdown",
   "metadata": {},
   "source": [
    "## Command-line arguments\n",
    "\n",
    "Each command−line argument passed to the program will be in sys.argv, which is just a list.\n",
    "sys.argv[0] is always the name of the python script you're running.\n",
    "\n",
    "For anything very complicated, you need getopt. (Surely there must be something better than getopt by now). \n",
    "\n",
    "Check out this example (I can't run it cause I'm in a notebook):\n",
    "\n",
    "getopt() takes 3 inputs:\n",
    "\n",
    "1. the argument list (which is argv[1:])\n",
    "2. a string containing all the possible single-character command line flags the script accepts\n",
    "3. a list of longer command line flags that are equivalent to the single character flags\n",
    "\n",
    "I notice that there is a colon in the single-character flags \"hg:d\", and only the terms \"help\" and \"grammar=\" are on the other side.\n",
    "\n",
    "the colon is there because the 'g' flag, which it follows, must be followed by some argument. The equals sign is there on 'grammar' for the same reason.\n",
    "\n",
    "On the command line, single character flags appear as '-d'. \n",
    "Full keyword flags appear with double hyphens: '--help'. \n",
    "The order of the short and long flags must match. So specify all the short flags with matching long flags first. \n",
    "\n",
    "What does it return? a pair opts, args.\n",
    "\n",
    "If there is a problem like a non-matching argument, getopt throws getopt.GetoptError. \n",
    "\n",
    "opts should contain a list of pairs: (flag, argument). If the flag (like -d) takes no argument, then argument is None.\n",
    "\n",
    "\n",
    "    def main(argv):\n",
    "        ''' argv is actually sys.argv[1:] '''\n",
    "        \n",
    "        grammar = \"kant.xml\"\n",
    "        try:\n",
    "            opts, args = getopt.getopt(argv, \"hg:d\", [\"help\", \"grammar=\"])\n",
    "        except getopt.GetoptError:\n",
    "            usage()\n",
    "            sys.exit(2)\n",
    "        for opt, arg in opts: # note we are iterating over the tuples in 'opts'\n",
    "            if opt in (\"−h\", \"−−help\"):\n",
    "                usage()\n",
    "                sys.exit()\n",
    "            elif opt == '−d':\n",
    "                global _debug\n",
    "                _debug = 1\n",
    "            elif opt in (\"−g\", \"−−grammar\"):\n",
    "                grammar = arg\n",
    "                \n",
    "         # anything left must be command-line arguments, as opposed to flags\n",
    "         # if there is nothing except the flags, then args will be an empty list\n",
    "         source = \"\".join(args)\n",
    "         k = KantGenerator(grammar, source)\n",
    "         print k.output()    \n"
   ]
  }
 ],
 "metadata": {
  "kernelspec": {
   "display_name": "Python 2",
   "language": "python",
   "name": "python2"
  },
  "language_info": {
   "codemirror_mode": {
    "name": "ipython",
    "version": 2
   },
   "file_extension": ".py",
   "mimetype": "text/x-python",
   "name": "python",
   "nbconvert_exporter": "python",
   "pygments_lexer": "ipython2",
   "version": "2.7.10"
  }
 },
 "nbformat": 4,
 "nbformat_minor": 0
}
