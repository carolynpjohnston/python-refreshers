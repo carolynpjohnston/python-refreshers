{
 "cells": [
  {
   "cell_type": "code",
   "execution_count": null,
   "metadata": {
    "collapsed": true
   },
   "outputs": [],
   "source": [
    "1. from: https://www.hackerrank.com/challenges/no-idea"
   ]
  },
  {
   "cell_type": "code",
   "execution_count": 14,
   "metadata": {
    "collapsed": false
   },
   "outputs": [],
   "source": [
    "lines = [\"3 2\", \"1 5 3\", \"3 1\", \"5 7\"]\n",
    "try:\n",
    "    (mchar,nchar) = lines[0].split(\" \")\n",
    "    (m,n) = [int(s.strip()) for s in lines[0].split(\" \")]\n",
    "    myints = set([ int(s.strip()) for s in lines[1].split(\" \")])\n",
    "    if len(myints) != m:\n",
    "        raise ValueError(\"2nd line has to be of length equal to {}\".format(m))\n",
    "    A = set([int(s.strip()) for s in lines[2].split(\" \")])\n",
    "    if len(A) != n:\n",
    "        raise ValueError(\"3rd line has to be of length equal to {}\".format(n))\n",
    "    B = set([int(s.strip()) for s in lines[3].split(\" \")])\n",
    "    if len(B) != n:\n",
    "        raise ValueError(\"4th line has to be of length equal to {}\".format(n))\n",
    "    if not A.isdisjoint(B):\n",
    "        raise ValueError(\"A and B (the last two lines of integers) must have no common members\")\n",
    "except ValueError as v:\n",
    "    print v.message\n",
    "happy = len(A.intersection(myints))\n",
    "unhappy = len(B.intersection(myints))\n",
    "print happy - unhappy"
   ]
  },
  {
   "cell_type": "markdown",
   "metadata": {},
   "source": []
  },
  {
   "cell_type": "markdown",
   "metadata": {},
   "source": [
    "2. from  https://www.hackerrank.com/challenges/compress-the-string\n",
    "This is an exercise about itertools.groupby.\n",
    "It takes advantage of an odd fact about the groupby() function: it just iterates through the data, and whenever the key function changes, it creates a new group. If you want unique keys for your groups, you have to sort the data by key first. "
   ]
  },
  {
   "cell_type": "code",
   "execution_count": 26,
   "metadata": {
    "collapsed": false
   },
   "outputs": [
    {
     "name": "stdout",
     "output_type": "stream",
     "text": [
      "\n"
     ]
    }
   ],
   "source": [
    "# Submitted to HackerRank: \n",
    "# Enter your code here. Read input from STDIN. Print output to STDOUT\n",
    "import sys, itertools\n",
    "line = sys.stdin.readline()\n",
    "line = \"1222311\"\n",
    "list_result = []\n",
    "for k, g in itertools.groupby(line, lambda x: x):\n",
    "    counter = 0\n",
    "    for x in g:\n",
    "        counter+=1\n",
    "    list_result.append(\"({}, {})\".format(counter, k))\n",
    "print \" \".join(list_result)"
   ]
  },
  {
   "cell_type": "markdown",
   "metadata": {},
   "source": [
    "3. from https://www.hackerrank.com/challenges/iterables-and-iterators\n",
    "You are given a list of NN lowercase English letters. For a given integer KK, you can select any KK indices (assume 1-based indexing) with a uniform probability from the list.\n",
    "\n",
    "Find the probability that at least one of the KK indices selected will contain the letter: 'a'."
   ]
  },
  {
   "cell_type": "code",
   "execution_count": 54,
   "metadata": {
    "collapsed": false
   },
   "outputs": [],
   "source": [
    "import itertools, sys\n",
    "#lines = sys.stdin.readlines()\n",
    "lines = [\"4\", \"a a c d\", \"2\"]\n",
    "# should be 3 lines:\n",
    "# N: length of next list\n",
    "N = int(lines[0])\n",
    "\n",
    "# list_of_lowercase_letters: must be space-separated and of length N\n",
    "letters = lines[1].split(\" \")\n",
    "if len(letters) != N:\n",
    "    raise ValueError(\"2nd line must be a space-separated list of {} letters\".format(N))\n",
    "    \n",
    "# K: size of random draw from the list\n",
    "K = int(lines[2])\n",
    "if K >N or K<0:\n",
    "    raise ValueError(\"K must be between 0 and {}\".format(N))\n",
    "\n",
    "all_selections = itertools.combinations(range(N), K)\n",
    "a_indices = [x for x in range(N) if letters[x] == 'a']\n",
    "\n",
    "# this is slick :) if I do say so myself\n",
    "count = [not set(a_indices).isdisjoint(set(y)) and 1 or 0 for y in all_selections]\n",
    "print float(sum(count))/int(len(count))"
   ]
  },
  {
   "cell_type": "markdown",
   "metadata": {},
   "source": [
    "4. From https://www.hackerrank.com/challenges/maximize-it\n",
    "This doesn't seem 'hard', but maybe I'm missing something."
   ]
  },
  {
   "cell_type": "code",
   "execution_count": 68,
   "metadata": {
    "collapsed": false
   },
   "outputs": [
    {
     "name": "stdout",
     "output_type": "stream",
     "text": [
      "206.0\n"
     ]
    }
   ],
   "source": [
    "import itertools, sys\n",
    "#lines = sys.stdin.readlines()\n",
    "lines = [\"3 1000\",\n",
    "\"2 5 4\",\n",
    "\"3 7 8 9\", \n",
    "\"5 5 7 8 9 10\"]\n",
    "\n",
    "(K, M) = [int(x) for x in lines[0].split(\" \")]\n",
    "if K < 1 or K>7 or K!= len(lines)-1:\n",
    "    raise ValueError(\"There should be K={} input lines following the first one\".format(K))\n",
    "if M<1 or M>1000:\n",
    "    raise ValueError(\"The value of M is {}: should be between 1 and 1000\")\n",
    "\n",
    "#get rid of the first line\n",
    "lines = lines[1:]\n",
    "\n",
    "# create a list of integer lists to replace 'lines'\n",
    "int_lists = []\n",
    "lists = [[int(x) for x in line.split(\" \")] for line in lines]\n",
    "for mlist in lists:\n",
    "    length = mlist[0]\n",
    "    mlist = mlist[1:]\n",
    "    if length != len(mlist):\n",
    "        raise ValueError(\"first integer in line should be equal to the length of the remainder of it\")\n",
    "    int_lists.append(mlist)\n",
    "    \n",
    "# create a Cartesian product\n",
    "cart_prod = itertools.product(*int_lists)\n",
    "\n",
    "# define the function to be maximized\n",
    "def function_modM(item, M):\n",
    "    return sum([math.pow(x,2) for x in item]) % M\n",
    "\n",
    "results = [function_modM(item, M) for item in cart_prod]\n",
    "print int(max(results))\n"
   ]
  },
  {
   "cell_type": "markdown",
   "metadata": {},
   "source": [
    "5. https://www.hackerrank.com/challenges/defaultdict-tutorial\n",
    "\n",
    "This is supposed to be an easy tutorial for defaultdict. I cannot see, however, how a 'defaultdict' is essential to this problem in any way."
   ]
  },
  {
   "cell_type": "code",
   "execution_count": 99,
   "metadata": {
    "collapsed": false
   },
   "outputs": [],
   "source": [
    "import itertools, sys\n",
    "\n",
    "#lines = sys.stdin.readlines()\n",
    "lines = [\"5 2\",\n",
    "'a',\n",
    "'a',\n",
    "'b',\n",
    "'a',\n",
    "'b',\n",
    "'a',\n",
    "'b']\n",
    "\n",
    "(n,m) =[int(x) for x in lines[0].split(\" \")]\n",
    "lines = lines[1:]\n",
    "data = [x for x in enumerate(lines)]\n",
    "\n",
    "#reversed() returns an iterator \n",
    "#tuple will make a tuple with the iterator\n",
    "#this is a recipe for reversing all the tuples in the list\n",
    "#data = [tuple(reversed(x)) for x in data]\n",
    "\n",
    "(Awords, Bwords) = (data[:n],data[n:])\n",
    "assert len(Bwords) == m\n",
    "\n",
    "for dummy, word in Bwords:\n",
    "    inds = [x[0]+1 for x in Awords if x[1] == word]\n",
    "    if len(inds) == 0: \n",
    "        inds.append(-1)\n",
    "    print \" \".join([str(ind) for ind in inds])"
   ]
  },
  {
   "cell_type": "markdown",
   "metadata": {},
   "source": [
    "6. https://www.hackerrank.com/challenges/zipped\n",
    "       About the 'zip' function. "
   ]
  },
  {
   "cell_type": "code",
   "execution_count": 111,
   "metadata": {
    "collapsed": false
   },
   "outputs": [
    {
     "name": "stdout",
     "output_type": "stream",
     "text": [
      "90.0\n",
      "91.0\n",
      "82.0\n",
      "90.0\n",
      "85.5\n"
     ]
    }
   ],
   "source": [
    "#import sys\n",
    "#lines = sys.stdin.readlines()\n",
    "# input:\n",
    "# num students N , num subjects X\n",
    "# following are X lines containing the N grades of N students \n",
    "lines = [\"5 3\",\n",
    "\"89 90 78 93 80\",\n",
    "\"90 91 85 88 86\",  \n",
    "\"91 92 83 89 90.5\"]\n",
    "\n",
    "(N,X) = lines[0].split(\" \")\n",
    "lines = lines[1:]\n",
    "grades_by_subject = [[float(x) for x in line.split(\" \")] for line in lines]\n",
    "\n",
    "# I guess this next bit is the point -- \n",
    "# that * is important, in order to unpack the arguments to zip from the list!\n",
    "grades_by_student = zip(*grades_by_subject)\n",
    "averages_by_student = [sum(x)/len(x) for x in grades_by_student]\n",
    "for a in averages_by_student:\n",
    "    print a"
   ]
  },
  {
   "cell_type": "markdown",
   "metadata": {},
   "source": [
    "7. From: https://www.hackerrank.com/challenges/python-sort-sort\n",
    "    Sorting tabular data... I guess, without pandas."
   ]
  },
  {
   "cell_type": "code",
   "execution_count": 127,
   "metadata": {
    "collapsed": false
   },
   "outputs": [
    {
     "name": "stdout",
     "output_type": "stream",
     "text": [
      "7 1 0\n",
      "10 2 5\n",
      "6 5 9\n",
      "9 9 9\n",
      "1 23 12\n"
     ]
    }
   ],
   "source": [
    "lines = [\n",
    "\"5 3\", # number of rows, number of columns\n",
    "\"10 2 5\", # rows, in order\n",
    "\"7 1 0\",\n",
    "\"9 9 9\",\n",
    "\"1 23 12\",\n",
    "\"6 5 9\", # last of the rows\n",
    "\"1\" # column to sort on\n",
    "]\n",
    "\n",
    "# step 1: how I broke out the rows at first\n",
    "R, C = [ int(x) for x in lines[0].split(\" \")]\n",
    "K = int(lines[-1])\n",
    "# note indexing -- this pulls out the first and last rows\n",
    "rows = lines[1:-1]\n",
    "rowlist = [[int(x) for x in line.split(\" \")] for line in rows]\n",
    "\n",
    "# now get list by columns\n",
    "collist = zip(*rowlist)\n",
    "collist\n",
    "\n",
    "# pull out the column you'll sort by\n",
    "keycol = collist[K]\n",
    "\n",
    "# use enumerate in a list comprehension to get the indices\n",
    "# note what this is doing: x[0] will pick out the index from the sorted 'enumerate' tuples\n",
    "sort_index = [x[0] for x in sorted( #\"sorted\" takes two args: the list to sort, and the function to sort with \n",
    "        enumerate(keycol), # the list to sort -- enumerate(keycol) returns elements (n, val(n))\n",
    "        key=lambda (pair): pair[1])] # the function to sort with -- this lambda is sorting on the value \n",
    "\n",
    "collist = [[col[index] for index in sort_index] for col in collist]\n",
    "rowlist = zip(*collist)\n",
    "printlist = [\" \".join([str(item) for item in itup]) for itup in rowlist]\n",
    "for row in printlist: print row"
   ]
  },
  {
   "cell_type": "markdown",
   "metadata": {},
   "source": [
    "8. https://www.hackerrank.com/challenges/ginorts\n",
    "\n",
    "This one is about writing a function that does the specialized sorting required. The sorted function takes a 'cmp' function of two args that behaves like the built-in 'cmp' function does:\n",
    "\n",
    "i.e., cmp(a,b) returns:\n",
    "        -1 if a<b\n",
    "        0 if a==b\n",
    "        1 if a>b\n",
    "        \n",
    "you can't use join, for, or while in this code. I ended up using 'reduce' to turn the sorted list back into a string."
   ]
  },
  {
   "cell_type": "code",
   "execution_count": 151,
   "metadata": {
    "collapsed": false
   },
   "outputs": [
    {
     "name": "stdout",
     "output_type": "stream",
     "text": [
      "ginortS1324\n"
     ]
    }
   ],
   "source": [
    "\n",
    "# specialized compare function\n",
    "def ginorts_compare(char1, char2):\n",
    "    \n",
    "    # case char1 is lowercase, top of the stack\n",
    "    if char1.islower():\n",
    "        if not char2.islower():\n",
    "             return -1\n",
    "        else:\n",
    "            return cmp(char1, char2)\n",
    "        \n",
    "    # case char1 is uppercase, middle of the stack\n",
    "    elif char1.isupper():\n",
    "        if char2.islower():\n",
    "            return 1\n",
    "        elif char2.isdigit():\n",
    "            return -1\n",
    "        else: \n",
    "            return cmp(char1, char2)\n",
    "        \n",
    "    # case char1 is a digit, bottom of the stack\n",
    "    elif char1.isdigit():\n",
    "        if not char2.isdigit():\n",
    "            return 1\n",
    "        else:\n",
    "            # in the case where both are digits\n",
    "            dig1 = int(char1)\n",
    "            dig2 = int(char2)\n",
    "            if (dig1 + dig2 )%2 == 0:\n",
    "                # the digits have the same parity so just compare them\n",
    "                return cmp(dig1, dig2)\n",
    "            else:\n",
    "                if dig1%2 == 1:\n",
    "                    return -1\n",
    "                else: \n",
    "                    return 1\n",
    "    \n",
    "    raise ValueError(\"Something unexpected was entered\")\n",
    "\n",
    "\n",
    "\n",
    "# exercise does not allow use of for, join, or while. \n",
    "line = \"Sorting1234\"\n",
    "atr = sorted(line, cmp = ginorts_compare)\n",
    "final = reduce(lambda a, b: a+b, atr )\n",
    "print final"
   ]
  },
  {
   "cell_type": "markdown",
   "metadata": {},
   "source": [
    "9. https://www.hackerrank.com/challenges/class-1-dealing-with-complex-numbers\n",
    "    \n",
    "    Write a class implementing complex field operations, and the modulus function.\n",
    "    Note that below, I print dir(float) to see how the built-in field operations are named. I'll overload these.\n",
    "    \n",
    "    Also note:\n",
    "\n",
    "*Implement __repr__ for any class you implement. This should be second nature. Implement __str__ if you think it would be useful to have a string version which errs on the side of more readability in favor of more ambiguity.*\n",
    "\n",
    "Note: syntax for sprintf-style formatting used in the __repr__ implementation.\n",
    "\n",
    "Note: I had to make the abs() function return a ComplexNumber in order to make printing work right.\n",
    "\n",
    "Note: I then had to implement __float__, so that when I call math.pow(abs(z),2) in __div__, I don't get a type error."
   ]
  },
  {
   "cell_type": "code",
   "execution_count": 196,
   "metadata": {
    "collapsed": true
   },
   "outputs": [],
   "source": [
    "import math\n",
    "\n",
    "class ComplexNumber:\n",
    "    \n",
    "    '''Simple class implementing complex operations'''\n",
    "    def __init__(self, a=0.0, b=0.0):\n",
    "        self.re = a\n",
    "        self.im = b\n",
    "    \n",
    "    def __add__(self, z):\n",
    "        ''' complex addition'''\n",
    "        if z.__class__ != ComplexNumber:\n",
    "            z = ComplexNumber(z)\n",
    "        w = ComplexNumber()\n",
    "        w.re = self.re + z.re\n",
    "        w.im = self.im + z.im\n",
    "        return w\n",
    "    \n",
    "    def __sub__(self, z):\n",
    "        ''' complex subtraction '''\n",
    "        w = ComplexNumber()\n",
    "        if z.__class__ != ComplexNumber:\n",
    "            z = ComplexNumber(z)\n",
    "        w.re = self.re - z.re\n",
    "        w.im = self.im - z.im\n",
    "        return w\n",
    "    \n",
    "    def __mul__(self, z):\n",
    "        ''' complex multiplication'''\n",
    "        w = ComplexNumber()\n",
    "        if z.__class__ != ComplexNumber:\n",
    "            z = ComplexNumber(z)\n",
    "        w.re = self.re*z.re - self.im*z.im\n",
    "        w.im = self.re*z.im + self.im*z.re\n",
    "        return w\n",
    "    \n",
    "    def __abs__(self):\n",
    "        '''complex modulus function'''\n",
    "        modulus = math.sqrt(math.pow(self.re,2) + math.pow(self.im,2))\n",
    "        return ComplexNumber(modulus)\n",
    "    \n",
    "    def conjugate(self):\n",
    "        w = ComplexNumber()\n",
    "        w.re = self.re\n",
    "        w.im = -self.im\n",
    "        return w    \n",
    "    \n",
    "    def __div__(self, z):\n",
    "        ''' complex division'''\n",
    "        w = ComplexNumber()\n",
    "        if z.__class__ != ComplexNumber:\n",
    "            return ComplexNumber(self.re/z, self.im/z)\n",
    "        else:\n",
    "            return (self*z.conjugate())/math.pow(abs(z),2)\n",
    "        return w\n",
    "        \n",
    "    def __repr__(self):\n",
    "        if self.im >=0.0:\n",
    "            return \"{0:.2f} + {1:.2f}i\".format(self.re, self.im)\n",
    "        elif self.im <0.0:\n",
    "            return \"{0:.2f} + {1:.2f}i\".format(self.re, self.im)\n",
    "        \n",
    "    def __float__(self):\n",
    "        if self.im != 0.0:\n",
    "            raise ValueError\n",
    "        return float(self.re)"
   ]
  },
  {
   "cell_type": "code",
   "execution_count": 197,
   "metadata": {
    "collapsed": false
   },
   "outputs": [
    {
     "name": "stdout",
     "output_type": "stream",
     "text": [
      "7.00 + 7.00i\n",
      "-3.00 + -5.00i\n",
      "4.00 + 17.00i\n",
      "0.26 + -0.11i\n",
      "2.24 + 0.00i\n",
      "7.81 + 0.00i\n"
     ]
    }
   ],
   "source": [
    "z = ComplexNumber(2,1)\n",
    "w = ComplexNumber(5,6)\n",
    "print z+w\n",
    "print z-w\n",
    "print z*w\n",
    "print z/w\n",
    "print abs(z)\n",
    "print abs(w)\n"
   ]
  }
 ],
 "metadata": {
  "kernelspec": {
   "display_name": "Python 2",
   "language": "python",
   "name": "python2"
  },
  "language_info": {
   "codemirror_mode": {
    "name": "ipython",
    "version": 2
   },
   "file_extension": ".py",
   "mimetype": "text/x-python",
   "name": "python",
   "nbconvert_exporter": "python",
   "pygments_lexer": "ipython2",
   "version": "2.7.11"
  }
 },
 "nbformat": 4,
 "nbformat_minor": 0
}
