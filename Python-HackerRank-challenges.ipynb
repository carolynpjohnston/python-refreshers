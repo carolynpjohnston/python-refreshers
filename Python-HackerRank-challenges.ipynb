{
 "cells": [
  {
   "cell_type": "code",
   "execution_count": 52,
   "metadata": {
    "collapsed": false
   },
   "outputs": [
    {
     "ename": "SyntaxError",
     "evalue": "invalid syntax (<ipython-input-52-e1b7fda66c3d>, line 1)",
     "output_type": "error",
     "traceback": [
      "\u001b[1;36m  File \u001b[1;32m\"<ipython-input-52-e1b7fda66c3d>\"\u001b[1;36m, line \u001b[1;32m1\u001b[0m\n\u001b[1;33m    1. from: https://www.hackerrank.com/challenges/no-idea\u001b[0m\n\u001b[1;37m          ^\u001b[0m\n\u001b[1;31mSyntaxError\u001b[0m\u001b[1;31m:\u001b[0m invalid syntax\n"
     ]
    }
   ],
   "source": [
    "1. from: https://www.hackerrank.com/challenges/no-idea"
   ]
  },
  {
   "cell_type": "code",
   "execution_count": 53,
   "metadata": {
    "collapsed": false
   },
   "outputs": [
    {
     "name": "stdout",
     "output_type": "stream",
     "text": [
      "1\n"
     ]
    }
   ],
   "source": [
    "lines = [\"3 2\", \"1 5 3\", \"3 1\", \"5 7\"]\n",
    "try:\n",
    "    (mchar,nchar) = lines[0].split(\" \")\n",
    "    (m,n) = [int(s.strip()) for s in lines[0].split(\" \")]\n",
    "    myints = set([ int(s.strip()) for s in lines[1].split(\" \")])\n",
    "    if len(myints) != m:\n",
    "        raise ValueError(\"2nd line has to be of length equal to {}\".format(m))\n",
    "    A = set([int(s.strip()) for s in lines[2].split(\" \")])\n",
    "    if len(A) != n:\n",
    "        raise ValueError(\"3rd line has to be of length equal to {}\".format(n))\n",
    "    B = set([int(s.strip()) for s in lines[3].split(\" \")])\n",
    "    if len(B) != n:\n",
    "        raise ValueError(\"4th line has to be of length equal to {}\".format(n))\n",
    "    if not A.isdisjoint(B):\n",
    "        raise ValueError(\"A and B (the last two lines of integers) must have no common members\")\n",
    "except ValueError as v:\n",
    "    print v.message\n",
    "happy = len(A.intersection(myints))\n",
    "unhappy = len(B.intersection(myints))\n",
    "print happy - unhappy"
   ]
  },
  {
   "cell_type": "markdown",
   "metadata": {},
   "source": []
  },
  {
   "cell_type": "markdown",
   "metadata": {},
   "source": [
    "2. from  https://www.hackerrank.com/challenges/compress-the-string\n",
    "This is an exercise about itertools.groupby.\n",
    "It takes advantage of an odd fact about the groupby() function: it just iterates through the data, and whenever the key function changes, it creates a new group. If you want unique keys for your groups, you have to sort the data by key first. "
   ]
  },
  {
   "cell_type": "code",
   "execution_count": 54,
   "metadata": {
    "collapsed": false
   },
   "outputs": [
    {
     "name": "stdout",
     "output_type": "stream",
     "text": [
      "(1, 1) (3, 2) (1, 3) (2, 1)\n"
     ]
    }
   ],
   "source": [
    "# Submitted to HackerRank: \n",
    "# Enter your code here. Read input from STDIN. Print output to STDOUT\n",
    "import sys, itertools\n",
    "line = sys.stdin.readline()\n",
    "line = \"1222311\"\n",
    "list_result = []\n",
    "for k, g in itertools.groupby(line, lambda x: x):\n",
    "    counter = 0\n",
    "    for x in g:\n",
    "        counter+=1\n",
    "    list_result.append(\"({}, {})\".format(counter, k))\n",
    "print \" \".join(list_result)"
   ]
  },
  {
   "cell_type": "markdown",
   "metadata": {},
   "source": [
    "3. from https://www.hackerrank.com/challenges/iterables-and-iterators\n",
    "You are given a list of NN lowercase English letters. For a given integer KK, you can select any KK indices (assume 1-based indexing) with a uniform probability from the list.\n",
    "\n",
    "Find the probability that at least one of the KK indices selected will contain the letter: 'a'."
   ]
  },
  {
   "cell_type": "code",
   "execution_count": 55,
   "metadata": {
    "collapsed": false
   },
   "outputs": [
    {
     "name": "stdout",
     "output_type": "stream",
     "text": [
      "0.833333333333\n"
     ]
    }
   ],
   "source": [
    "import itertools, sys\n",
    "#lines = sys.stdin.readlines()\n",
    "lines = [\"4\", \"a a c d\", \"2\"]\n",
    "# should be 3 lines:\n",
    "# N: length of next list\n",
    "N = int(lines[0])\n",
    "\n",
    "# list_of_lowercase_letters: must be space-separated and of length N\n",
    "letters = lines[1].split(\" \")\n",
    "if len(letters) != N:\n",
    "    raise ValueError(\"2nd line must be a space-separated list of {} letters\".format(N))\n",
    "    \n",
    "# K: size of random draw from the list\n",
    "K = int(lines[2])\n",
    "if K >N or K<0:\n",
    "    raise ValueError(\"K must be between 0 and {}\".format(N))\n",
    "\n",
    "all_selections = itertools.combinations(range(N), K)\n",
    "a_indices = [x for x in range(N) if letters[x] == 'a']\n",
    "\n",
    "# this is slick :) if I do say so myself\n",
    "count = [not set(a_indices).isdisjoint(set(y)) and 1 or 0 for y in all_selections]\n",
    "print float(sum(count))/int(len(count))"
   ]
  },
  {
   "cell_type": "markdown",
   "metadata": {},
   "source": [
    "4. From https://www.hackerrank.com/challenges/maximize-it\n",
    "This doesn't seem 'hard', but maybe I'm missing something."
   ]
  },
  {
   "cell_type": "code",
   "execution_count": 56,
   "metadata": {
    "collapsed": false
   },
   "outputs": [
    {
     "ename": "NameError",
     "evalue": "global name 'math' is not defined",
     "output_type": "error",
     "traceback": [
      "\u001b[1;31m---------------------------------------------------------------------------\u001b[0m",
      "\u001b[1;31mNameError\u001b[0m                                 Traceback (most recent call last)",
      "\u001b[1;32m<ipython-input-56-24ab807ee1d0>\u001b[0m in \u001b[0;36m<module>\u001b[1;34m()\u001b[0m\n\u001b[0;32m     32\u001b[0m     \u001b[1;32mreturn\u001b[0m \u001b[0msum\u001b[0m\u001b[1;33m(\u001b[0m\u001b[1;33m[\u001b[0m\u001b[0mmath\u001b[0m\u001b[1;33m.\u001b[0m\u001b[0mpow\u001b[0m\u001b[1;33m(\u001b[0m\u001b[0mx\u001b[0m\u001b[1;33m,\u001b[0m\u001b[1;36m2\u001b[0m\u001b[1;33m)\u001b[0m \u001b[1;32mfor\u001b[0m \u001b[0mx\u001b[0m \u001b[1;32min\u001b[0m \u001b[0mitem\u001b[0m\u001b[1;33m]\u001b[0m\u001b[1;33m)\u001b[0m \u001b[1;33m%\u001b[0m \u001b[0mM\u001b[0m\u001b[1;33m\u001b[0m\u001b[0m\n\u001b[0;32m     33\u001b[0m \u001b[1;33m\u001b[0m\u001b[0m\n\u001b[1;32m---> 34\u001b[1;33m \u001b[0mresults\u001b[0m \u001b[1;33m=\u001b[0m \u001b[1;33m[\u001b[0m\u001b[0mfunction_modM\u001b[0m\u001b[1;33m(\u001b[0m\u001b[0mitem\u001b[0m\u001b[1;33m,\u001b[0m \u001b[0mM\u001b[0m\u001b[1;33m)\u001b[0m \u001b[1;32mfor\u001b[0m \u001b[0mitem\u001b[0m \u001b[1;32min\u001b[0m \u001b[0mcart_prod\u001b[0m\u001b[1;33m]\u001b[0m\u001b[1;33m\u001b[0m\u001b[0m\n\u001b[0m\u001b[0;32m     35\u001b[0m \u001b[1;32mprint\u001b[0m \u001b[0mint\u001b[0m\u001b[1;33m(\u001b[0m\u001b[0mmax\u001b[0m\u001b[1;33m(\u001b[0m\u001b[0mresults\u001b[0m\u001b[1;33m)\u001b[0m\u001b[1;33m)\u001b[0m\u001b[1;33m\u001b[0m\u001b[0m\n",
      "\u001b[1;32m<ipython-input-56-24ab807ee1d0>\u001b[0m in \u001b[0;36mfunction_modM\u001b[1;34m(item, M)\u001b[0m\n\u001b[0;32m     30\u001b[0m \u001b[1;31m# define the function to be maximized\u001b[0m\u001b[1;33m\u001b[0m\u001b[1;33m\u001b[0m\u001b[0m\n\u001b[0;32m     31\u001b[0m \u001b[1;32mdef\u001b[0m \u001b[0mfunction_modM\u001b[0m\u001b[1;33m(\u001b[0m\u001b[0mitem\u001b[0m\u001b[1;33m,\u001b[0m \u001b[0mM\u001b[0m\u001b[1;33m)\u001b[0m\u001b[1;33m:\u001b[0m\u001b[1;33m\u001b[0m\u001b[0m\n\u001b[1;32m---> 32\u001b[1;33m     \u001b[1;32mreturn\u001b[0m \u001b[0msum\u001b[0m\u001b[1;33m(\u001b[0m\u001b[1;33m[\u001b[0m\u001b[0mmath\u001b[0m\u001b[1;33m.\u001b[0m\u001b[0mpow\u001b[0m\u001b[1;33m(\u001b[0m\u001b[0mx\u001b[0m\u001b[1;33m,\u001b[0m\u001b[1;36m2\u001b[0m\u001b[1;33m)\u001b[0m \u001b[1;32mfor\u001b[0m \u001b[0mx\u001b[0m \u001b[1;32min\u001b[0m \u001b[0mitem\u001b[0m\u001b[1;33m]\u001b[0m\u001b[1;33m)\u001b[0m \u001b[1;33m%\u001b[0m \u001b[0mM\u001b[0m\u001b[1;33m\u001b[0m\u001b[0m\n\u001b[0m\u001b[0;32m     33\u001b[0m \u001b[1;33m\u001b[0m\u001b[0m\n\u001b[0;32m     34\u001b[0m \u001b[0mresults\u001b[0m \u001b[1;33m=\u001b[0m \u001b[1;33m[\u001b[0m\u001b[0mfunction_modM\u001b[0m\u001b[1;33m(\u001b[0m\u001b[0mitem\u001b[0m\u001b[1;33m,\u001b[0m \u001b[0mM\u001b[0m\u001b[1;33m)\u001b[0m \u001b[1;32mfor\u001b[0m \u001b[0mitem\u001b[0m \u001b[1;32min\u001b[0m \u001b[0mcart_prod\u001b[0m\u001b[1;33m]\u001b[0m\u001b[1;33m\u001b[0m\u001b[0m\n",
      "\u001b[1;31mNameError\u001b[0m: global name 'math' is not defined"
     ]
    }
   ],
   "source": [
    "import itertools, sys\n",
    "#lines = sys.stdin.readlines()\n",
    "lines = [\"3 1000\",\n",
    "\"2 5 4\",\n",
    "\"3 7 8 9\", \n",
    "\"5 5 7 8 9 10\"]\n",
    "\n",
    "(K, M) = [int(x) for x in lines[0].split(\" \")]\n",
    "if K < 1 or K>7 or K!= len(lines)-1:\n",
    "    raise ValueError(\"There should be K={} input lines following the first one\".format(K))\n",
    "if M<1 or M>1000:\n",
    "    raise ValueError(\"The value of M is {}: should be between 1 and 1000\")\n",
    "\n",
    "#get rid of the first line\n",
    "lines = lines[1:]\n",
    "\n",
    "# create a list of integer lists to replace 'lines'\n",
    "int_lists = []\n",
    "lists = [[int(x) for x in line.split(\" \")] for line in lines]\n",
    "for mlist in lists:\n",
    "    length = mlist[0]\n",
    "    mlist = mlist[1:]\n",
    "    if length != len(mlist):\n",
    "        raise ValueError(\"first integer in line should be equal to the length of the remainder of it\")\n",
    "    int_lists.append(mlist)\n",
    "    \n",
    "# create a Cartesian product\n",
    "cart_prod = itertools.product(*int_lists)\n",
    "\n",
    "# define the function to be maximized\n",
    "def function_modM(item, M):\n",
    "    return sum([math.pow(x,2) for x in item]) % M\n",
    "\n",
    "results = [function_modM(item, M) for item in cart_prod]\n",
    "print int(max(results))\n"
   ]
  },
  {
   "cell_type": "markdown",
   "metadata": {},
   "source": [
    "5. https://www.hackerrank.com/challenges/defaultdict-tutorial\n",
    "\n",
    "This is supposed to be an easy tutorial for defaultdict. I cannot see, however, how a 'defaultdict' is essential to this problem in any way."
   ]
  },
  {
   "cell_type": "code",
   "execution_count": null,
   "metadata": {
    "collapsed": false
   },
   "outputs": [],
   "source": [
    "import itertools, sys\n",
    "\n",
    "#lines = sys.stdin.readlines()\n",
    "lines = [\"5 2\",\n",
    "'a',\n",
    "'a',\n",
    "'b',\n",
    "'a',\n",
    "'b',\n",
    "'a',\n",
    "'b']\n",
    "\n",
    "(n,m) =[int(x) for x in lines[0].split(\" \")]\n",
    "lines = lines[1:]\n",
    "data = [x for x in enumerate(lines)]\n",
    "\n",
    "#reversed() returns an iterator \n",
    "#tuple will make a tuple with the iterator\n",
    "#this is a recipe for reversing all the tuples in the list\n",
    "#data = [tuple(reversed(x)) for x in data]\n",
    "\n",
    "(Awords, Bwords) = (data[:n],data[n:])\n",
    "assert len(Bwords) == m\n",
    "\n",
    "for dummy, word in Bwords:\n",
    "    inds = [x[0]+1 for x in Awords if x[1] == word]\n",
    "    if len(inds) == 0: \n",
    "        inds.append(-1)\n",
    "    print \" \".join([str(ind) for ind in inds])"
   ]
  },
  {
   "cell_type": "markdown",
   "metadata": {},
   "source": [
    "6. https://www.hackerrank.com/challenges/zipped\n",
    "       About the 'zip' function. "
   ]
  },
  {
   "cell_type": "code",
   "execution_count": null,
   "metadata": {
    "collapsed": false
   },
   "outputs": [],
   "source": [
    "#import sys\n",
    "#lines = sys.stdin.readlines()\n",
    "# input:\n",
    "# num students N , num subjects X\n",
    "# following are X lines containing the N grades of N students \n",
    "lines = [\"5 3\",\n",
    "\"89 90 78 93 80\",\n",
    "\"90 91 85 88 86\",  \n",
    "\"91 92 83 89 90.5\"]\n",
    "\n",
    "(N,X) = lines[0].split(\" \")\n",
    "lines = lines[1:]\n",
    "grades_by_subject = [[float(x) for x in line.split(\" \")] for line in lines]\n",
    "\n",
    "# I guess this next bit is the point -- \n",
    "# that * is important, in order to unpack the arguments to zip from the list!\n",
    "grades_by_student = zip(*grades_by_subject)\n",
    "averages_by_student = [sum(x)/len(x) for x in grades_by_student]\n",
    "for a in averages_by_student:\n",
    "    print a"
   ]
  },
  {
   "cell_type": "markdown",
   "metadata": {},
   "source": [
    "7. From: https://www.hackerrank.com/challenges/python-sort-sort\n",
    "    Sorting tabular data... I guess, without pandas."
   ]
  },
  {
   "cell_type": "code",
   "execution_count": null,
   "metadata": {
    "collapsed": false
   },
   "outputs": [],
   "source": [
    "lines = [\n",
    "\"5 3\", # number of rows, number of columns\n",
    "\"10 2 5\", # rows, in order\n",
    "\"7 1 0\",\n",
    "\"9 9 9\",\n",
    "\"1 23 12\",\n",
    "\"6 5 9\", # last of the rows\n",
    "\"1\" # column to sort on\n",
    "]\n",
    "\n",
    "# step 1: how I broke out the rows at first\n",
    "R, C = [ int(x) for x in lines[0].split(\" \")]\n",
    "K = int(lines[-1])\n",
    "# note indexing -- this pulls out the first and last rows\n",
    "rows = lines[1:-1]\n",
    "rowlist = [[int(x) for x in line.split(\" \")] for line in rows]\n",
    "\n",
    "# now get list by columns\n",
    "collist = zip(*rowlist)\n",
    "collist\n",
    "\n",
    "# pull out the column you'll sort by\n",
    "keycol = collist[K]\n",
    "\n",
    "# use enumerate in a list comprehension to get the indices\n",
    "# note what this is doing: x[0] will pick out the index from the sorted 'enumerate' tuples\n",
    "sort_index = [x[0] for x in sorted( #\"sorted\" takes two args: the list to sort, and the function to sort with \n",
    "        enumerate(keycol), # the list to sort -- enumerate(keycol) returns elements (n, val(n))\n",
    "        key=lambda (pair): pair[1])] # the function to sort with -- this lambda is sorting on the value \n",
    "\n",
    "collist = [[col[index] for index in sort_index] for col in collist]\n",
    "rowlist = zip(*collist)\n",
    "printlist = [\" \".join([str(item) for item in itup]) for itup in rowlist]\n",
    "for row in printlist: print row"
   ]
  },
  {
   "cell_type": "markdown",
   "metadata": {},
   "source": [
    "8. https://www.hackerrank.com/challenges/ginorts\n",
    "\n",
    "This one is about writing a function that does the specialized sorting required. The sorted function takes a 'cmp' function of two args that behaves like the built-in 'cmp' function does:\n",
    "\n",
    "i.e., cmp(a,b) returns:\n",
    "        -1 if a<b\n",
    "        0 if a==b\n",
    "        1 if a>b\n",
    "        \n",
    "you can't use join, for, or while in this code. I ended up using 'reduce' to turn the sorted list back into a string."
   ]
  },
  {
   "cell_type": "code",
   "execution_count": null,
   "metadata": {
    "collapsed": false
   },
   "outputs": [],
   "source": [
    "\n",
    "# specialized compare function\n",
    "def ginorts_compare(char1, char2):\n",
    "    \n",
    "    # case char1 is lowercase, top of the stack\n",
    "    if char1.islower():\n",
    "        if not char2.islower():\n",
    "             return -1\n",
    "        else:\n",
    "            return cmp(char1, char2)\n",
    "        \n",
    "    # case char1 is uppercase, middle of the stack\n",
    "    elif char1.isupper():\n",
    "        if char2.islower():\n",
    "            return 1\n",
    "        elif char2.isdigit():\n",
    "            return -1\n",
    "        else: \n",
    "            return cmp(char1, char2)\n",
    "        \n",
    "    # case char1 is a digit, bottom of the stack\n",
    "    elif char1.isdigit():\n",
    "        if not char2.isdigit():\n",
    "            return 1\n",
    "        else:\n",
    "            # in the case where both are digits\n",
    "            dig1 = int(char1)\n",
    "            dig2 = int(char2)\n",
    "            if (dig1 + dig2 )%2 == 0:\n",
    "                # the digits have the same parity so just compare them\n",
    "                return cmp(dig1, dig2)\n",
    "            else:\n",
    "                if dig1%2 == 1:\n",
    "                    return -1\n",
    "                else: \n",
    "                    return 1\n",
    "    \n",
    "    raise ValueError(\"Something unexpected was entered\")\n",
    "\n",
    "\n",
    "\n",
    "# exercise does not allow use of for, join, or while. \n",
    "line = \"Sorting1234\"\n",
    "atr = sorted(line, cmp = ginorts_compare)\n",
    "final = reduce(lambda a, b: a+b, atr )\n",
    "print final"
   ]
  },
  {
   "cell_type": "markdown",
   "metadata": {},
   "source": [
    "9. https://www.hackerrank.com/challenges/class-1-dealing-with-complex-numbers\n",
    "    \n",
    "    Write a class implementing complex field operations, and the modulus function.\n",
    "    Note that below, I print dir(float) to see how the built-in field operations are named. I'll overload these.\n",
    "    \n",
    "    Also note:\n",
    "\n",
    "*Implement __repr__ for any class you implement. This should be second nature. Implement __str__ if you think it would be useful to have a string version which errs on the side of more readability in favor of more ambiguity.*\n",
    "\n",
    "Note: syntax for sprintf-style formatting used in the __repr__ implementation.\n",
    "\n",
    "Note: I had to make the abs() function return a ComplexNumber in order to make printing work right.\n",
    "\n",
    "Note: I then had to implement __float__, so that when I call math.pow(abs(z),2) in __div__, I don't get a type error."
   ]
  },
  {
   "cell_type": "code",
   "execution_count": null,
   "metadata": {
    "collapsed": true
   },
   "outputs": [],
   "source": [
    "import math\n",
    "\n",
    "class ComplexNumber:\n",
    "    \n",
    "    '''Simple class implementing complex operations'''\n",
    "    def __init__(self, a=0.0, b=0.0):\n",
    "        self.re = a\n",
    "        self.im = b\n",
    "    \n",
    "    def __add__(self, z):\n",
    "        ''' complex addition'''\n",
    "        if z.__class__ != ComplexNumber:\n",
    "            z = ComplexNumber(z)\n",
    "        w = ComplexNumber()\n",
    "        w.re = self.re + z.re\n",
    "        w.im = self.im + z.im\n",
    "        return w\n",
    "    \n",
    "    def __sub__(self, z):\n",
    "        ''' complex subtraction '''\n",
    "        w = ComplexNumber()\n",
    "        if z.__class__ != ComplexNumber:\n",
    "            z = ComplexNumber(z)\n",
    "        w.re = self.re - z.re\n",
    "        w.im = self.im - z.im\n",
    "        return w\n",
    "    \n",
    "    def __mul__(self, z):\n",
    "        ''' complex multiplication'''\n",
    "        w = ComplexNumber()\n",
    "        if z.__class__ != ComplexNumber:\n",
    "            z = ComplexNumber(z)\n",
    "        w.re = self.re*z.re - self.im*z.im\n",
    "        w.im = self.re*z.im + self.im*z.re\n",
    "        return w\n",
    "    \n",
    "    def __abs__(self):\n",
    "        '''complex modulus function'''\n",
    "        modulus = math.sqrt(math.pow(self.re,2) + math.pow(self.im,2))\n",
    "        return ComplexNumber(modulus)\n",
    "    \n",
    "    def conjugate(self):\n",
    "        w = ComplexNumber()\n",
    "        w.re = self.re\n",
    "        w.im = -self.im\n",
    "        return w    \n",
    "    \n",
    "    def __div__(self, z):\n",
    "        ''' complex division'''\n",
    "        w = ComplexNumber()\n",
    "        if z.__class__ != ComplexNumber:\n",
    "            return ComplexNumber(self.re/z, self.im/z)\n",
    "        else:\n",
    "            return (self*z.conjugate())/math.pow(abs(z),2)\n",
    "        return w\n",
    "        \n",
    "    def __repr__(self):\n",
    "        if self.im >=0.0:\n",
    "            return \"{0:.2f} + {1:.2f}i\".format(self.re, self.im)\n",
    "        elif self.im <0.0:\n",
    "            return \"{0:.2f} + {1:.2f}i\".format(self.re, self.im)\n",
    "        \n",
    "    def __float__(self):\n",
    "        if self.im != 0.0:\n",
    "            raise ValueError\n",
    "        return float(self.re)"
   ]
  },
  {
   "cell_type": "code",
   "execution_count": null,
   "metadata": {
    "collapsed": false
   },
   "outputs": [],
   "source": [
    "z = ComplexNumber(2,1)\n",
    "w = ComplexNumber(5,6)\n",
    "print z+w\n",
    "print z-w\n",
    "print z*w\n",
    "print z/w\n",
    "print abs(z)\n",
    "print abs(w)\n"
   ]
  },
  {
   "cell_type": "markdown",
   "metadata": {},
   "source": [
    "10. From https://www.hackerrank.com/challenges/map-and-lambda-expression: Map and Lambda function. \n",
    "\n",
    "This exercise starts with generating the first N Fibonacci numbers. How would you do that with a map statement or a list comprehension? \n",
    "\n",
    "Trying a generator -- let's see if this works as I expect.\n",
    "\n",
    "Here's some commentary on this exercise:\n",
    "\n",
    "    1. To get an actual iterator, you call the function fibiter(): this returns a single iterator that is initialized and ready to start from 0. If I do the following:\n",
    "    \n",
    "    [fibiter() for x in range(5)]\n",
    "    \n",
    "    I will get 5 independent initialized iterator instances. \n",
    "    \n",
    "    If I want to get a list of the values that are generated as a single generator runs 5 times, I need to have only 1 iterator. I get it by calling fibi = fibiter(). \n",
    "    \n",
    "    2. Now I'll get the return value by calling next(fibi) 5 times. \n"
   ]
  },
  {
   "cell_type": "code",
   "execution_count": null,
   "metadata": {
    "collapsed": false
   },
   "outputs": [],
   "source": [
    "N = 5\n",
    "\n",
    "def fibiter():\n",
    "    '''An iterator that spits out fibonacci numbers\\nNeed to return '''\n",
    "    a = 0\n",
    "    b = 1\n",
    "    \n",
    "    # the first time through fibiter, a=0 is returned.\n",
    "    yield a\n",
    "    # the second time through fibiter, b=1 is returned\n",
    "    yield b\n",
    "    while 1:\n",
    "        # a and b are advanced\n",
    "        (a,b) = (b,a + b)\n",
    "        # the new value of b is returned\n",
    "        yield b\n",
    "\n",
    "fibi = fibiter()\n",
    "fibs = [next(fibi) for x in range(5) ] # [0, 1, 1, 2, 3]\n",
    "\n",
    "# now cube these, using map and lambda. That part is easy. \n",
    "y = map(lambda x: int(math.pow(x, 3)), fibs)\n",
    "y"
   ]
  },
  {
   "cell_type": "markdown",
   "metadata": {},
   "source": [
    "11. https://www.hackerrank.com/challenges/validate-list-of-email-address-with-filter\n",
    "\n",
    "The filter function accepts a function on list elements, returning true or false, and the list itself, and returns a reduced list containing only the elements that met the criterion. \n",
    "\n",
    "Example below.\n",
    "\n",
    "The task here is to take a list of email addresses and return only the valid ones, sorted lexicographically. \n",
    "\n",
    "I do it by defining an 'isValid' function returning a boolean, and using it in a filter, then returning the sort."
   ]
  },
  {
   "cell_type": "code",
   "execution_count": null,
   "metadata": {
    "collapsed": false
   },
   "outputs": [],
   "source": [
    "# example of filter call\n",
    "mylist = [x for x in range(-3,4)]\n",
    "print mylist\n",
    "mylist = list(filter(lambda x: x>=0, mylist))\n",
    "print mylist"
   ]
  },
  {
   "cell_type": "code",
   "execution_count": null,
   "metadata": {
    "collapsed": false
   },
   "outputs": [],
   "source": [
    "def isValid(email):\n",
    "    import re\n",
    "    \n",
    "    # first group is: ([0-9A-Za-z\\-_]+)\n",
    "    # that + at the end means: match one or more of the preceding character set\n",
    "    # the character set consists of all alphanumeric characters, plus \"_\" and \"-\" (the latter has to be escaped)\n",
    "    # second group is: ([0-9A-Za-z]+) \n",
    "    # third group is: ([A-Za-z]{3})\n",
    "    # it means: match exactly 3 alphabetical characters. \n",
    "    em_re_1 = re.compile(\"^([0-9A-Za-z_\\-]+)@([0-9A-Za-z]+)\\.([A-Za-z]{3})$\")\n",
    "    em_re_val = em_re_1.search(email)\n",
    "    return em_re_val is not None\n",
    "\n",
    "v = [\"lara@hackerrank.com\",\n",
    "    \"brian-23@hackerrank.com\",\n",
    "    \"britts_54@hackerrank.com\"]\n",
    "\n",
    "print \"\\n\".join(sorted(filter(isValid, v)))"
   ]
  },
  {
   "cell_type": "markdown",
   "metadata": {},
   "source": [
    "### Here are a bunch of regex practice problems\n",
    "\n",
    "1. https://www.hackerrank.com/challenges/re-split\n",
    "You are given a string S, containing , and/or . and 0-9 digits. \n",
    "    Your task is to re.split() all of the , and . symbols."
   ]
  },
  {
   "cell_type": "code",
   "execution_count": null,
   "metadata": {
    "collapsed": false
   },
   "outputs": [],
   "source": [
    "import re \n",
    "w = [\"100,000,000.000\", \"100,.00.0\"]\n",
    "[re.split(\"[,\\.]{1}\", x) for x in w] # note that last one splits between the adjacent , and . characters"
   ]
  },
  {
   "cell_type": "markdown",
   "metadata": {},
   "source": [
    "2. https://www.hackerrank.com/challenges/re-group-groups\n",
    "\n",
    "Your task is to find the first occurrence of an alphanumeric character in S (read from left to right) that has consecutive repetitions. (I have no idea how to do this).\n",
    "\n",
    "Here's how:\n",
    "    *All regular expression implementations that claim BRE (or higher) compatibility provide the last results of each separate match enclosed in parenthesis (officially called a subexpression but frequently called a submatch or group) in variables that may subsequently (after the regular expression has been executed) be used or substituted in an expression by using a backreference*.\n",
    "    \n",
    "    - so this expression: \"(\\w)\\1\" finds double characters.\n",
    "    - '(\\b\\w+)\\s+\\1' means: start at a word boundary (\\b), then match 1 or more alphanumeric characters.\n",
    "        \\s+ matches on any whitespace character (warning: \\S matches on any NON whitespace character)\n",
    "        so (\\b\\w+)\\s+ matches on a word followed by whitespace, and captures the word itself. \n",
    "        then the term \\1 means: match on whatever you captured in the first group.\n",
    "        So the regex '(\\b\\w+)\\s+\\1' matches on repeated words."
   ]
  },
  {
   "cell_type": "code",
   "execution_count": null,
   "metadata": {
    "collapsed": false
   },
   "outputs": [],
   "source": [
    "import re \n",
    "w = \"...abbaacccdd\"\n",
    "\n",
    "# The first regex does not work because you didn't capture anything in a group!\n",
    "# in fact, it's internally inconsistent and won't compile.\n",
    "#rex = re.compile(r'\\w\\1')  \n",
    "rex = re.compile(r'(\\w)\\1') # this one works.  \n",
    "rex.search(w).groups()"
   ]
  },
  {
   "cell_type": "markdown",
   "metadata": {},
   "source": [
    "3. https://www.hackerrank.com/challenges/re-findall-re-finditer\n",
    "\n",
    "You are given a string SS. It consists of alphanumeric characters, spaces and symbols(+,-). \n",
    "Your task is to find all the substrings of SS that contains 2 or more vowels. \n",
    "Also, these substrings must lie in between 2 consonants and should contain vowels only."
   ]
  },
  {
   "cell_type": "code",
   "execution_count": null,
   "metadata": {
    "collapsed": false
   },
   "outputs": [],
   "source": [
    "import re\n",
    "\n",
    "# note the use of the quantitative pattern {2,} which means 'match 2 or more'.\n",
    "pattern = r'[QWRTYPSDFGHJKLZXCVBNMqwrtypsdfghjklzxcvbnm\\+\\-]([AEIOUaeiou]{2,})[QWRTYPSDFGHJKLZXCVBNMqwrtypsdfghjklzxcvbnm\\+\\-]'\n",
    "rex = re.compile(pattern)\n",
    "matob = rex.findall('rabcdeefgyYhFjkIoomnpOeorteeeeet')\n",
    "matob"
   ]
  },
  {
   "cell_type": "code",
   "execution_count": null,
   "metadata": {
    "collapsed": false
   },
   "outputs": [],
   "source": [
    "# the return value of finditer is an iterator over match objects. Finditer is a little strange.\n",
    "matiter = re.finditer(pattern, 'rabcdeefgyYhFjkIoomnpOeorteeeeet')\n",
    "print [x.group(1) for x in matiter]"
   ]
  },
  {
   "cell_type": "markdown",
   "metadata": {},
   "source": [
    "4. https://www.hackerrank.com/challenges/re-start-re-end\n",
    "\n",
    "You are given a string SS. \n",
    "Your task is to find the indices of the start and end of string kk in SS (presumably, of all occurrences of kk in SS, judging from the example). \n",
    "\n",
    "For example, in the case below, you want to find (0,2), (1,3), and (4,6)."
   ]
  },
  {
   "cell_type": "code",
   "execution_count": null,
   "metadata": {
    "collapsed": false
   },
   "outputs": [],
   "source": [
    "SS = \"aaadaa\"\n",
    "kk = \"aa\"\n",
    "import re \n",
    "rex = re.compile(kk)\n",
    "mats = rex.search(SS)\n",
    "print mats.groups() #note, if you do this, it appears all the matches get collapsed into just 'aa'."
   ]
  },
  {
   "cell_type": "code",
   "execution_count": null,
   "metadata": {
    "collapsed": false
   },
   "outputs": [],
   "source": [
    "matsiter = re.finditer(kk, SS)\n",
    "print [(x.start(), x.end()) for x in matsiter] \n",
    "# why aren't I finding (1,3)? Answer: re does not support overlapping matches."
   ]
  },
  {
   "cell_type": "code",
   "execution_count": null,
   "metadata": {
    "collapsed": false
   },
   "outputs": [],
   "source": [
    "# there is this new module called regex that is supposed to support overlapped matches, \n",
    "# but it doesn't seem I have it installed. \n",
    "import regex as rgx\n",
    "miter = rgx.finditer(kk, SS, overlapped=True)\n",
    "print [(x.start(), x.end()) for x in miter]"
   ]
  },
  {
   "cell_type": "code",
   "execution_count": null,
   "metadata": {
    "collapsed": false
   },
   "outputs": [],
   "source": [
    "# this is kind of a horror, but I made it work.\n",
    "# there is a list comp within a list comp here:\n",
    "# the inner one yields tuples of the form (index of substring start, end of string)\n",
    "# and the outer one gives the desired result by adding the offset back to the match result if it is not None.\n",
    "print [(rr,SS[rr:]) for rr in range(len(SS))]\n",
    "\n",
    "# here's the desired answer, with overlaps\n",
    "[(s[0]+rex.match(s[1]).start(), s[0]+rex.match(s[1]).end()) for s in \n",
    "         [(rr,SS[rr:]) for rr in range(len(SS))]\n",
    "         if rex.match(s[1]) is not None] "
   ]
  },
  {
   "cell_type": "markdown",
   "metadata": {
    "collapsed": true
   },
   "source": [
    "https://www.hackerrank.com/challenges/xml-1-find-the-score\n",
    "\n",
    "*XML find the score*\n",
    "\n",
    "the score of a valid xml doc is the sum of the scores of all the elements; the score of an element is the number of attributes it has.\n",
    "\n",
    "To read xml docs, use the following code.\n",
    "\n",
    "ElementTree constructs an element tree from an xml document.\n",
    "\n",
    "tree.iter() returns each element from the tree. Note the depth-first iterator.\n",
    "\n",
    "The link below has decent documentation. Stackoverflow not too helpful with this class. \n",
    "\n",
    "https://docs.python.org/2/library/xml.etree.elementtree.html "
   ]
  },
  {
   "cell_type": "code",
   "execution_count": null,
   "metadata": {
    "collapsed": false
   },
   "outputs": [],
   "source": [
    "xmllines = [\"<feed xml:lang=\\'en\\'>\", # l0\n",
    "                \"<title>HackerRank</title>\", #l1 \n",
    "                \"<subtitle lang=\\'en\\'>Programming challenges\", #l1\n",
    "                    \"<subsubtitle lang=\\'en\\'>\", #l2\n",
    "                        \"<subsubsub what=\\'silly\\' why = \\'whynot\\'></subsubsub>\", #l3\n",
    "                    \"too bad for you</subsubtitle>\", #l2 \n",
    "                \"</subtitle>\", #l1\n",
    "                \"<link rel=\\'alternate\\' type=\\'text/html\\' href=\\'http://hackerrank.com/\\'/>\", #l1\n",
    "                \"<updated>2013-12-25T12:00:00</updated>\", #l1\n",
    "            \"</feed>\"] #l0\n",
    "\n",
    "import xml.etree.ElementTree as etree\n",
    "tree = etree.ElementTree(etree.fromstring(\"\".join(xmllines)))\n",
    "print \"\\n\".join([str(item) for item in tree.iter()]) #note item is an Element object\n",
    "print \"\\n\".join([str(item.attrib) for item in tree.iter()]) #note item.attrib is a dict\n",
    "sum([len(item.attrib) for item in tree.iter()]) # sum up the scores\n",
    "#    print len(item.attrib)\n"
   ]
  },
  {
   "cell_type": "markdown",
   "metadata": {},
   "source": [
    "https://www.hackerrank.com/challenges/xml2-find-the-maximum-depth\n",
    "\n",
    "*Find the maximum depth of the tree*\n",
    "\n",
    "You are given a valid XML document, and you have to print the maximum level of nesting in it. Take the depth of the root as 0.\n",
    "\n",
    "note that a list comprehension of the form \"[item] in [element]\" gives you an iterator over immediate child elements.\n"
   ]
  },
  {
   "cell_type": "code",
   "execution_count": null,
   "metadata": {
    "collapsed": false
   },
   "outputs": [],
   "source": [
    "import xml.etree.ElementTree as etree\n",
    "tree = etree.ElementTree(etree.fromstring(\"\".join(xmllines)))\n",
    "root = tree.getroot()\n",
    "root.__class__\n",
    "\n",
    "# this gives only child elements of the root\n",
    "\n",
    "print [child for child in root]\n",
    "\n",
    "# recursive function is confusing as always\n",
    "\n",
    "def getMaxDepth(element, depth):\n",
    "    depths = [getMaxDepth(child, depth+1) for child in element]\n",
    "    if len(depths) ==0:\n",
    "        return depth\n",
    "    else:\n",
    "        return max(depths)\n",
    "\n",
    "getMaxDepth(root, 0)"
   ]
  }
 ],
 "metadata": {
  "kernelspec": {
   "display_name": "Python 2",
   "language": "python",
   "name": "python2"
  },
  "language_info": {
   "codemirror_mode": {
    "name": "ipython",
    "version": 2
   },
   "file_extension": ".py",
   "mimetype": "text/x-python",
   "name": "python",
   "nbconvert_exporter": "python",
   "pygments_lexer": "ipython2",
   "version": "2.7.11"
  }
 },
 "nbformat": 4,
 "nbformat_minor": 0
}
