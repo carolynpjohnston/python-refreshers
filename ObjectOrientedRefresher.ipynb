{
 "cells": [
  {
   "cell_type": "markdown",
   "metadata": {},
   "source": [
    "# This is sample code for Chapter 5, Objects & Object Orientation"
   ]
  },
  {
   "cell_type": "code",
   "execution_count": 1,
   "metadata": {
    "collapsed": true
   },
   "outputs": [],
   "source": [
    "__author__ = \"Mark Pilgrim (mark@diveintopython.org)\"\n",
    "__version__ = \"$Revision: 1.3 $\"\n",
    "__date__ = \"$Date: 2004/05/05 21:57:19 $\"\n",
    "__copyright__ = \"Copyright (c) 2001 Mark Pilgrim\"\n",
    "__license__ = \"Python\"\n",
    "\n",
    "import os\n",
    "import sys\n",
    "from UserDict import UserDict\n",
    "\n",
    "def stripnulls(data):\n",
    "    \"strip whitespace and nulls\"\n",
    "    return data.replace(\"\\00\", \" \").strip()\n",
    "\n",
    "\n",
    "# UserDict is a class that acts like a dictionary, that you can subclass from. \n",
    "# There are also classes UserList and UserString.\n",
    "class FileInfo(UserDict):\n",
    "    \"store file metadata\"\n",
    "    \n",
    "    # If you define __init__ at the subclass level, you must explicitly call the superclass __init__ too. \n",
    "    def __init__(self, filename=None):\n",
    "        \n",
    "        # here is how you call the superclass initializer!\n",
    "        UserDict.__init__(self)\n",
    "        # here's the first instance of the class acting like a dictionary.\n",
    "        self[\"name\"] = filename\n",
    "    \n",
    "class MP3FileInfo(FileInfo):\n",
    "    \"store ID3v1.0 MP3 tags\"\n",
    "    tagDataMap = {\"title\"   : (  3,  33, stripnulls),\n",
    "                  \"artist\"  : ( 33,  63, stripnulls),\n",
    "                  \"album\"   : ( 63,  93, stripnulls),\n",
    "                  \"year\"    : ( 93,  97, stripnulls),\n",
    "                  \"comment\" : ( 97, 126, stripnulls),\n",
    "                  \"genre\"   : (127, 128, ord)}\n",
    "    \n",
    "    def __parse(self, filename):\n",
    "        \"parse ID3v1.0 tags from MP3 file\"\n",
    "        self.clear()\n",
    "        try:\n",
    "            fsock = open(filename, \"rb\", 0)\n",
    "            try:\n",
    "                fsock.seek(-128, 2)\n",
    "                tagdata = fsock.read(128)\n",
    "            finally:\n",
    "                fsock.close()\n",
    "            if tagdata[:3] == 'TAG':\n",
    "                for tag, (start, end, parseFunc) in self.tagDataMap.items():\n",
    "                    self[tag] = parseFunc(tagdata[start:end])\n",
    "        except IOError:\n",
    "            pass\n",
    "\n",
    "    def __setitem__(self, key, item):\n",
    "        if key == \"name\" and item:\n",
    "            self.__parse(item)\n",
    "        FileInfo.__setitem__(self, key, item)\n",
    "\n",
    "def listDirectory(directory, fileExtList):\n",
    "    \"get list of file info objects for files of particular extensions\"\n",
    "    fileList = [os.path.normcase(f) for f in os.listdir(directory)]\n",
    "    fileList = [os.path.join(directory, f) for f in fileList \\\n",
    "                if os.path.splitext(f)[1] in fileExtList]\n",
    "    \n",
    "    # note function def'd inside another function\n",
    "    def getFileInfoClass(filename, module=sys.modules[FileInfo.__module__]):\n",
    "        \"get file info class from filename extension\"\n",
    "        subclass = \"%sFileInfo\" % os.path.splitext(filename)[1].upper()[1:]\n",
    "        return hasattr(module, subclass) and getattr(module, subclass) or FileInfo\n",
    "    return [getFileInfoClass(f)(f) for f in fileList]"
   ]
  },
  {
   "cell_type": "code",
   "execution_count": 3,
   "metadata": {
    "collapsed": false
   },
   "outputs": [
    {
     "name": "stdout",
     "output_type": "stream",
     "text": [
      "album=Cross Road\n",
      "comment=YEAR: 1994\n",
      "name=music_singles/01 - Bon Jovi - Livin' on a Prayer.mp3\n",
      "title=Livin' on a Prayer\n",
      "artist=Bon Jovi\n",
      "year=1994\n",
      "genre=12\n",
      "\n",
      "name=music_singles/01 - Computer World.mp3\n",
      "\n",
      "name=music_singles/01 - Europe Endless.mp3\n",
      "\n",
      "album=The Look Of Love - The Very Be\n",
      "comment=Amazon.com Song ID: 20886239\n",
      "name=music_singles/01 - The Look Of Love (Part 1).mp3\n",
      "title=The Look Of Love (Part 1)\n",
      "artist=ABC\n",
      "year=2002\n",
      "genre=12\n",
      "\n",
      "album=So\n",
      "comment=\n",
      "name=music_singles/01_Red Rain_Peter Gabriel.mp3\n",
      "title=Red Rain\n",
      "artist=Peter Gabriel\n",
      "year=1986\n",
      "genre=12\n",
      "\n"
     ]
    }
   ],
   "source": [
    "# Run the code this way\n",
    "for info in listDirectory(\"music_singles\", [\".mp3\"]):\n",
    "        print \"\\n\".join([\"%s=%s\" % (k, v) for k, v in info.items()])\n",
    "        print"
   ]
  },
  {
   "cell_type": "code",
   "execution_count": 10,
   "metadata": {
    "collapsed": false
   },
   "outputs": [
    {
     "name": "stdout",
     "output_type": "stream",
     "text": [
      "__main__.FileInfo\n",
      "store file metadata\n",
      "{'name': '/PyRefreshers/music_singles/01_Red Rain_Peter Gabriel.mp3'}\n"
     ]
    }
   ],
   "source": [
    "# Define an instance of the FileInfo class\n",
    "f = FileInfo(\"/PyRefreshers/music_singles/01_Red Rain_Peter Gabriel.mp3\")\n",
    "\n",
    "# default attributes of the object\n",
    "# the __class__ attribute is a classobj so convert to a string in order to print it (it doesn't coerce to a string by default)\n",
    "print '\\n'.join((str(f.__class__), str(f.__doc__), str(f)))\n"
   ]
  },
  {
   "cell_type": "markdown",
   "metadata": {},
   "source": [
    "The UserDict.update(dict) method copies keys and values from the dict argument.\n",
    "\n",
    "Always define all attributes and give them reasonable init values in the __init__ method.\n",
    "\n",
    "The UserDict overloads the Dict methods by sending them to the Dict base class. \n",
    "\n",
    "If you look at the 'copy' function, it uses introspection. First it asks if the object is a UserDict: if not, it is a subclass of UserDict calling UserDict's copy function. In that case, since UserDict doesn't know how to copy its subclass, it calls the copy function in the \"copy\" module, which can copy any Python object. "
   ]
  },
  {
   "cell_type": "code",
   "execution_count": 12,
   "metadata": {
    "collapsed": false
   },
   "outputs": [
    {
     "name": "stdout",
     "output_type": "stream",
     "text": [
      "class UserDict:\n",
      "    def __init__(self, dict=None, **kwargs):\n",
      "        self.data = {}\n",
      "        if dict is not None:\n",
      "            self.update(dict)\n",
      "        if len(kwargs):\n",
      "            self.update(kwargs)\n",
      "    def __repr__(self): return repr(self.data)\n",
      "    def __cmp__(self, dict):\n",
      "        if isinstance(dict, UserDict):\n",
      "            return cmp(self.data, dict.data)\n",
      "        else:\n",
      "            return cmp(self.data, dict)\n",
      "    __hash__ = None # Avoid Py3k warning\n",
      "    def __len__(self): return len(self.data)\n",
      "    def __getitem__(self, key):\n",
      "        if key in self.data:\n",
      "            return self.data[key]\n",
      "        if hasattr(self.__class__, \"__missing__\"):\n",
      "            return self.__class__.__missing__(self, key)\n",
      "        raise KeyError(key)\n",
      "    def __setitem__(self, key, item): self.data[key] = item\n",
      "    def __delitem__(self, key): del self.data[key]\n",
      "    def clear(self): self.data.clear()\n",
      "    def copy(self):\n",
      "        if self.__class__ is UserDict:\n",
      "            return UserDict(self.data.copy())\n",
      "        import copy\n",
      "        data = self.data\n",
      "        try:\n",
      "            self.data = {}\n",
      "            c = copy.copy(self)\n",
      "        finally:\n",
      "            self.data = data\n",
      "        c.update(self)\n",
      "        return c\n",
      "    def keys(self): return self.data.keys()\n",
      "    def items(self): return self.data.items()\n",
      "    def iteritems(self): return self.data.iteritems()\n",
      "    def iterkeys(self): return self.data.iterkeys()\n",
      "    def itervalues(self): return self.data.itervalues()\n",
      "    def values(self): return self.data.values()\n",
      "    def has_key(self, key): return key in self.data\n",
      "    def update(self, dict=None, **kwargs):\n",
      "        if dict is None:\n",
      "            pass\n",
      "        elif isinstance(dict, UserDict):\n",
      "            self.data.update(dict.data)\n",
      "        elif isinstance(dict, type({})) or not hasattr(dict, 'items'):\n",
      "            self.data.update(dict)\n",
      "        else:\n",
      "            for k, v in dict.items():\n",
      "                self[k] = v\n",
      "        if len(kwargs):\n",
      "            self.data.update(kwargs)\n",
      "    def get(self, key, failobj=None):\n",
      "        if key not in self:\n",
      "            return failobj\n",
      "        return self[key]\n",
      "    def setdefault(self, key, failobj=None):\n",
      "        if key not in self:\n",
      "            self[key] = failobj\n",
      "        return self[key]\n",
      "    def pop(self, key, *args):\n",
      "        return self.data.pop(key, *args)\n",
      "    def popitem(self):\n",
      "        return self.data.popitem()\n",
      "    def __contains__(self, key):\n",
      "        return key in self.data\n",
      "    @classmethod\n",
      "    def fromkeys(cls, iterable, value=None):\n",
      "        d = cls()\n",
      "        for key in iterable:\n",
      "            d[key] = value\n",
      "        return d\n",
      "\n"
     ]
    }
   ],
   "source": [
    "# Now we look at the source code for the UserDict class.\n",
    "import inspect\n",
    "print inspect.getsource(UserDict)"
   ]
  },
  {
   "cell_type": "markdown",
   "metadata": {},
   "source": [
    "You can also inherit from the built-in data type 'dict'. \n",
    "\n",
    "Note that if you do this, you do not need to call dict.__init__ in the __init__ function. \n",
    "This is in contrast to the case where you inherit from UserDict.\n",
    "\n",
    "## Special class methods\n",
    "\n",
    "### In Python, all special methods (like __setitem__) and built−in attributes (like __doc__) follow a standard naming convention: they both start with and end with two underscores. Don't name your own methods and attributes this way, because it will only confuse you (and others) later.\n",
    "\n",
    "Some class methods are called without explicitly calling a method. For example, in a dict object,\n",
    "\n",
    "    >f[\"name\"]\n",
    "    >f.__getitem__(\"name\")\n",
    "    \n",
    "do the same thing. \n",
    "\n",
    "But you can still redefine them in child classes to make them do what you want, \n",
    "just as you'd redefine operator[]() in C++ subclasses. \n",
    "\n",
    "For example in the class MP3FileInfo, __setitem__ is overloaded this way (note that __parse is an MP3FileInfo method):\n",
    "\n",
    "    def __setitem__(self, key, item):\n",
    "        if key == \"name\" and item:\n",
    "            self.__parse(item) # <<<=== MP3FileInfo method\n",
    "        FileInfo.__setitem__(self, key, item)\n",
    "        \n",
    " ### Some fun special class methods (you can redefine these in child classes)\n",
    " \n",
    "     __repr__ returns a string representation of an object. It gets called when you enter the object's name in the interpreter.\n",
    "     __call__ is a class method that lets you call an instance of a class as though it were a function.\n",
    "     __len__ will be called on your class if you call len(instance)\n",
    "     __delitem__ is what gets called if you do del instance[key]\n",
    "     __cmp__ is what gets called if you use == ('equals')\n",
    "     \n",
    "     \n",
    "## Class attributes\n",
    "\n",
    "These are like static class variables in C++, I think.\n",
    "They are called class attributes, and instance variables are called data attributes. \n",
    "The difference is that data attributes are defined in the __init__ method.\n",
    "\n",
    "    class MP3FileInfo(FileInfo):\n",
    "        \"store ID3v1.0 MP3 tags\"\n",
    "    tagDataMap = {\"title\" : ( 3, 33, stripnulls),\n",
    "                \"artist\" : ( 33, 63, stripnulls),\n",
    "                \"album\" : ( 63, 93, stripnulls),\n",
    "                \"year\" : ( 93, 97, stripnulls),\n",
    "                \"comment\" : ( 97, 126, stripnulls),\n",
    "                \"genre\" : (127, 128, ord)}\n",
    "               \n",
    "## Private functions: Python has them. Who knew?\n",
    "\n",
    "If the name of a Python function, class method, or attribute starts with (but doesn't end with) two underscores, it's private; everything else is public. \n",
    "\n",
    "Python has no concept of protected class methods (accessible only in their own class and descendant classes). Class methods are either private (accessible only in their own class) or public (accessible\n",
    "from anywhere)."
   ]
  },
  {
   "cell_type": "code",
   "execution_count": 24,
   "metadata": {
    "collapsed": false
   },
   "outputs": [
    {
     "ename": "AttributeError",
     "evalue": "'MyClass' object has no attribute '_add2'",
     "output_type": "error",
     "traceback": [
      "\u001b[1;31m---------------------------------------------------------------------------\u001b[0m",
      "\u001b[1;31mAttributeError\u001b[0m                            Traceback (most recent call last)",
      "\u001b[1;32m<ipython-input-24-f6e4810bda3e>\u001b[0m in \u001b[0;36m<module>\u001b[1;34m()\u001b[0m\n\u001b[0;32m      7\u001b[0m \u001b[1;33m\u001b[0m\u001b[0m\n\u001b[0;32m      8\u001b[0m \u001b[0mob\u001b[0m \u001b[1;33m=\u001b[0m \u001b[0mMyClass\u001b[0m\u001b[1;33m(\u001b[0m\u001b[1;33m{\u001b[0m\u001b[1;33m}\u001b[0m\u001b[1;33m)\u001b[0m\u001b[1;33m\u001b[0m\u001b[0m\n\u001b[1;32m----> 9\u001b[1;33m \u001b[0mob\u001b[0m\u001b[1;33m.\u001b[0m\u001b[0m_add2\u001b[0m\u001b[1;33m(\u001b[0m\u001b[1;33m)\u001b[0m\u001b[1;33m\u001b[0m\u001b[0m\n\u001b[0m",
      "\u001b[1;31mAttributeError\u001b[0m: 'MyClass' object has no attribute '_add2'"
     ]
    }
   ],
   "source": [
    "class MyClass(dict):\n",
    "    def __init__(self, initdict):\n",
    "        self.data = initdict\n",
    "    def __add2(self):\n",
    "        if 2 not in self.data: \n",
    "            self.data[2]=3\n",
    "    \n",
    "ob = MyClass({})\n",
    "ob._add2()"
   ]
  },
  {
   "cell_type": "code",
   "execution_count": 25,
   "metadata": {
    "collapsed": false
   },
   "outputs": [
    {
     "data": {
      "text/plain": [
       "{3: 5, 4: 6}"
      ]
     },
     "execution_count": 25,
     "metadata": {},
     "output_type": "execute_result"
    }
   ],
   "source": [
    "# side note: operator=() for dictionaries equates by reference, it doesn't make a copy.\n",
    "mydict = {}\n",
    "mydict[3]=5\n",
    "md2 = mydict\n",
    "md2[4] = 6\n",
    "mydict"
   ]
  },
  {
   "cell_type": "markdown",
   "metadata": {},
   "source": [
    "## Copy module\n",
    "\n",
    "Assignment statements in Python do not copy objects, they create bindings between a target and an object. For collections that are mutable or contain mutable items, a copy is sometimes needed so one can change one copy without changing the other. This module provides generic shallow and deep copy operations."
   ]
  },
  {
   "cell_type": "code",
   "execution_count": 26,
   "metadata": {
    "collapsed": false
   },
   "outputs": [
    {
     "data": {
      "text/plain": [
       "{3: 5}"
      ]
     },
     "execution_count": 26,
     "metadata": {},
     "output_type": "execute_result"
    }
   ],
   "source": [
    "import copy\n",
    "md3 = {}\n",
    "md3[3]=5\n",
    "md4 = copy.deepcopy(md3)\n",
    "md4[4] = 6\n",
    "md3 #unchanged"
   ]
  },
  {
   "cell_type": "markdown",
   "metadata": {},
   "source": [
    "Every Python class has a built−in class attribute __module__, which is the name of the module in which the\n",
    "class is defined.\n",
    "\n",
    "Using this feature together with sys.modules means you can always get a ref to the module in which a class is defined. "
   ]
  },
  {
   "cell_type": "code",
   "execution_count": null,
   "metadata": {
    "collapsed": true
   },
   "outputs": [],
   "source": []
  }
 ],
 "metadata": {
  "kernelspec": {
   "display_name": "Python 2",
   "language": "python",
   "name": "python2"
  },
  "language_info": {
   "codemirror_mode": {
    "name": "ipython",
    "version": 2
   },
   "file_extension": ".py",
   "mimetype": "text/x-python",
   "name": "python",
   "nbconvert_exporter": "python",
   "pygments_lexer": "ipython2",
   "version": "2.7.10"
  }
 },
 "nbformat": 4,
 "nbformat_minor": 0
}
