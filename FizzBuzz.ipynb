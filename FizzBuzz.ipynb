{
 "cells": [
  {
   "cell_type": "markdown",
   "metadata": {},
   "source": [
    "## First pass: erroneous fizzbuzz"
   ]
  },
  {
   "cell_type": "code",
   "execution_count": 30,
   "metadata": {
    "collapsed": false
   },
   "outputs": [
    {
     "data": {
      "text/plain": [
       "True"
      ]
     },
     "execution_count": 30,
     "metadata": {},
     "output_type": "execute_result"
    }
   ],
   "source": [
    "def fizzbuzz(num):\n",
    "    try: \n",
    "        num1 = int(num)\n",
    "        if num1 != num:\n",
    "            raise 0\n",
    "        if (num1 % 3 == 0) & (num1 % 5 == 0):\n",
    "            return \"fizzbuzz\"\n",
    "        elif num1 % 3 == 0:\n",
    "            return \"fizz\"\n",
    "        elif num1 % 5 == 0:\n",
    "            return \"buzz\"\n",
    "        else:\n",
    "            return num1\n",
    "    except:\n",
    "        raise BaseException(\"not an integer\")\n",
    "            \n",
    "#map(fizzbuzz, range(1, 101))   \n",
    "3 % 3 == 0 & 3 % 5 == 0 # <<== THIS DOES NOT GET PARSED AS YOU WOULD EXPECT \n",
    "(3 % 3 == 0) & (3 % 5 == 0) # <<== <<== THIS IS WHAT YOU EXPECT BUT\n",
    "(3 % 3) == (0 & 3 % 5) == 0 # <<-- i THINK THIS IS HOW THIS GETS PARSED!"
   ]
  },
  {
   "cell_type": "code",
   "execution_count": 20,
   "metadata": {
    "collapsed": false
   },
   "outputs": [
    {
     "ename": "BaseException",
     "evalue": "not an integer",
     "output_type": "error",
     "traceback": [
      "\u001b[1;31m---------------------------------------------------------------------------\u001b[0m",
      "\u001b[1;31mBaseException\u001b[0m                             Traceback (most recent call last)",
      "\u001b[1;32m<ipython-input-20-637ee571f2c4>\u001b[0m in \u001b[0;36m<module>\u001b[1;34m()\u001b[0m\n\u001b[1;32m----> 1\u001b[1;33m \u001b[0mfizzbuzz\u001b[0m\u001b[1;33m(\u001b[0m\u001b[1;34m'rew'\u001b[0m\u001b[1;33m)\u001b[0m\u001b[1;33m\u001b[0m\u001b[0m\n\u001b[0m",
      "\u001b[1;32m<ipython-input-19-d0b4baa32d63>\u001b[0m in \u001b[0;36mfizzbuzz\u001b[1;34m(num)\u001b[0m\n\u001b[0;32m     13\u001b[0m             \u001b[1;32mreturn\u001b[0m \u001b[0mnum1\u001b[0m\u001b[1;33m\u001b[0m\u001b[0m\n\u001b[0;32m     14\u001b[0m     \u001b[1;32mexcept\u001b[0m\u001b[1;33m:\u001b[0m\u001b[1;33m\u001b[0m\u001b[0m\n\u001b[1;32m---> 15\u001b[1;33m         \u001b[1;32mraise\u001b[0m \u001b[0mBaseException\u001b[0m\u001b[1;33m(\u001b[0m\u001b[1;34m\"not an integer\"\u001b[0m\u001b[1;33m)\u001b[0m\u001b[1;33m\u001b[0m\u001b[0m\n\u001b[0m\u001b[0;32m     16\u001b[0m \u001b[1;33m\u001b[0m\u001b[0m\n\u001b[0;32m     17\u001b[0m \u001b[0mmap\u001b[0m\u001b[1;33m(\u001b[0m\u001b[0mfizzbuzz\u001b[0m\u001b[1;33m,\u001b[0m \u001b[0mrange\u001b[0m\u001b[1;33m(\u001b[0m\u001b[1;36m1\u001b[0m\u001b[1;33m,\u001b[0m \u001b[1;36m101\u001b[0m\u001b[1;33m)\u001b[0m\u001b[1;33m)\u001b[0m\u001b[1;33m\u001b[0m\u001b[0m\n",
      "\u001b[1;31mBaseException\u001b[0m: not an integer"
     ]
    }
   ],
   "source": [
    "fizzbuzz('rew') # this should throw an exception."
   ]
  },
  {
   "cell_type": "code",
   "execution_count": 21,
   "metadata": {
    "collapsed": false
   },
   "outputs": [
    {
     "ename": "BaseException",
     "evalue": "not an integer",
     "output_type": "error",
     "traceback": [
      "\u001b[1;31m---------------------------------------------------------------------------\u001b[0m",
      "\u001b[1;31mBaseException\u001b[0m                             Traceback (most recent call last)",
      "\u001b[1;32m<ipython-input-21-bbcad536c805>\u001b[0m in \u001b[0;36m<module>\u001b[1;34m()\u001b[0m\n\u001b[1;32m----> 1\u001b[1;33m \u001b[0mfizzbuzz\u001b[0m\u001b[1;33m(\u001b[0m\u001b[1;36m22.3\u001b[0m\u001b[1;33m)\u001b[0m\u001b[1;33m\u001b[0m\u001b[0m\n\u001b[0m",
      "\u001b[1;32m<ipython-input-19-d0b4baa32d63>\u001b[0m in \u001b[0;36mfizzbuzz\u001b[1;34m(num)\u001b[0m\n\u001b[0;32m     13\u001b[0m             \u001b[1;32mreturn\u001b[0m \u001b[0mnum1\u001b[0m\u001b[1;33m\u001b[0m\u001b[0m\n\u001b[0;32m     14\u001b[0m     \u001b[1;32mexcept\u001b[0m\u001b[1;33m:\u001b[0m\u001b[1;33m\u001b[0m\u001b[0m\n\u001b[1;32m---> 15\u001b[1;33m         \u001b[1;32mraise\u001b[0m \u001b[0mBaseException\u001b[0m\u001b[1;33m(\u001b[0m\u001b[1;34m\"not an integer\"\u001b[0m\u001b[1;33m)\u001b[0m\u001b[1;33m\u001b[0m\u001b[0m\n\u001b[0m\u001b[0;32m     16\u001b[0m \u001b[1;33m\u001b[0m\u001b[0m\n\u001b[0;32m     17\u001b[0m \u001b[0mmap\u001b[0m\u001b[1;33m(\u001b[0m\u001b[0mfizzbuzz\u001b[0m\u001b[1;33m,\u001b[0m \u001b[0mrange\u001b[0m\u001b[1;33m(\u001b[0m\u001b[1;36m1\u001b[0m\u001b[1;33m,\u001b[0m \u001b[1;36m101\u001b[0m\u001b[1;33m)\u001b[0m\u001b[1;33m)\u001b[0m\u001b[1;33m\u001b[0m\u001b[0m\n",
      "\u001b[1;31mBaseException\u001b[0m: not an integer"
     ]
    }
   ],
   "source": [
    "fizzbuzz(22.3)"
   ]
  },
  {
   "cell_type": "markdown",
   "metadata": {},
   "source": [
    "Modify the function definition so that the following calls all work. You should have 3 and 5 be the default parameters. (documentation)\n",
    "\n",
    "fizzbuzz(15)                  # \"FizzBuzz\"\n",
    "fizzbuzz(15, fizz=4)          # \"Buzz\"\n",
    "fizzbuzz(15, buzz=4)          # \"Fizz\"\n",
    "fizzbuzz(15, fizz=6, buzz=7)  # \"\"\n",
    "\n",
    "Now in the main block you should be able to remove the 2nd and 3rd parameters."
   ]
  },
  {
   "cell_type": "code",
   "execution_count": 42,
   "metadata": {
    "collapsed": false
   },
   "outputs": [
    {
     "data": {
      "text/plain": [
       "''"
      ]
     },
     "execution_count": 42,
     "metadata": {},
     "output_type": "execute_result"
    }
   ],
   "source": [
    "def fizzbuzz2(num, fizz=None, buzz=None):\n",
    "    try: \n",
    "        num1 = int(num)\n",
    "        if num1 != num:\n",
    "            raise 0\n",
    "        rstr = \"\"\n",
    "#        if (num1 % 3 != 0) & (num1 % 5 != 0):\n",
    "#            return num1\n",
    "        \n",
    "        if (num1 % 3 == 0) & (fizz is None):\n",
    "            rstr += \"Fizz\"\n",
    "        if (num1 % 5 == 0) & (buzz is None):\n",
    "            rstr += \"Buzz\"\n",
    "        return rstr\n",
    "    except:\n",
    "        raise BaseException(\"not an integer\")\n",
    "\n",
    "        \n",
    "fizzbuzz2(15)                  # \"FizzBuzz\"\n",
    "fizzbuzz2(15, fizz=4)          # \"Buzz\"\n",
    "fizzbuzz2(15, buzz=4)          # \"Fizz\"\n",
    "fizzbuzz2(15, fizz=6, buzz=7)  # \"\"\n"
   ]
  },
  {
   "cell_type": "code",
   "execution_count": 43,
   "metadata": {
    "collapsed": false
   },
   "outputs": [
    {
     "data": {
      "text/plain": [
       "'FizzBuzz'"
      ]
     },
     "execution_count": 43,
     "metadata": {},
     "output_type": "execute_result"
    }
   ],
   "source": [
    "fizzbuzz2(15)"
   ]
  },
  {
   "cell_type": "code",
   "execution_count": 44,
   "metadata": {
    "collapsed": false
   },
   "outputs": [
    {
     "data": {
      "text/plain": [
       "'Buzz'"
      ]
     },
     "execution_count": 44,
     "metadata": {},
     "output_type": "execute_result"
    }
   ],
   "source": [
    "fizzbuzz2(15, fizz=4)"
   ]
  },
  {
   "cell_type": "code",
   "execution_count": 45,
   "metadata": {
    "collapsed": false
   },
   "outputs": [
    {
     "data": {
      "text/plain": [
       "'Fizz'"
      ]
     },
     "execution_count": 45,
     "metadata": {},
     "output_type": "execute_result"
    }
   ],
   "source": [
    "fizzbuzz2(15, buzz=4)"
   ]
  },
  {
   "cell_type": "code",
   "execution_count": 46,
   "metadata": {
    "collapsed": false
   },
   "outputs": [
    {
     "data": {
      "text/plain": [
       "''"
      ]
     },
     "execution_count": 46,
     "metadata": {},
     "output_type": "execute_result"
    }
   ],
   "source": [
    "fizzbuzz2(15, fizz=6, buzz=7)"
   ]
  }
 ],
 "metadata": {
  "kernelspec": {
   "display_name": "Python 2",
   "language": "python",
   "name": "python2"
  },
  "language_info": {
   "codemirror_mode": {
    "name": "ipython",
    "version": 2
   },
   "file_extension": ".py",
   "mimetype": "text/x-python",
   "name": "python",
   "nbconvert_exporter": "python",
   "pygments_lexer": "ipython2",
   "version": "2.7.11"
  }
 },
 "nbformat": 4,
 "nbformat_minor": 0
}
