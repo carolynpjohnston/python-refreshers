{
 "cells": [
  {
   "cell_type": "markdown",
   "metadata": {},
   "source": [
    "## pandas operations and statistics"
   ]
  },
  {
   "cell_type": "code",
   "execution_count": 131,
   "metadata": {
    "collapsed": false
   },
   "outputs": [],
   "source": [
    "%matplotlib inline\n",
    "import pandas as pd\n",
    "import numpy as np\n",
    "import matplotlib.pyplot as plt\n",
    "\n",
    "dates = pd.date_range('20130101', periods=6, freq='H')\n",
    "df = pd.DataFrame(np.random.randint(100, size=(6,4)), index=dates, columns=list('ABCD'))"
   ]
  },
  {
   "cell_type": "code",
   "execution_count": 132,
   "metadata": {
    "collapsed": false
   },
   "outputs": [
    {
     "data": {
      "text/plain": [
       "A    38.666667\n",
       "B    31.833333\n",
       "C    54.500000\n",
       "D    40.000000\n",
       "dtype: float64"
      ]
     },
     "execution_count": 132,
     "metadata": {},
     "output_type": "execute_result"
    }
   ],
   "source": [
    "df.mean() # by default this is the mean of columns, which makes sense"
   ]
  },
  {
   "cell_type": "code",
   "execution_count": 133,
   "metadata": {
    "collapsed": false
   },
   "outputs": [
    {
     "data": {
      "text/plain": [
       "2013-01-01 00:00:00    47.25\n",
       "2013-01-01 01:00:00    41.50\n",
       "2013-01-01 02:00:00    59.25\n",
       "2013-01-01 03:00:00    43.25\n",
       "2013-01-01 04:00:00    25.50\n",
       "2013-01-01 05:00:00    30.75\n",
       "Freq: H, dtype: float64"
      ]
     },
     "execution_count": 133,
     "metadata": {},
     "output_type": "execute_result"
    }
   ],
   "source": [
    "df.mean(1) # axis = 1 means the mean across rows. "
   ]
  },
  {
   "cell_type": "code",
   "execution_count": 134,
   "metadata": {
    "collapsed": false
   },
   "outputs": [
    {
     "data": {
      "text/plain": [
       "2013-01-01 00:00:00     1\n",
       "2013-01-01 01:00:00     3\n",
       "2013-01-01 02:00:00     5\n",
       "2013-01-01 03:00:00   NaN\n",
       "2013-01-01 04:00:00     6\n",
       "2013-01-01 05:00:00     8\n",
       "Freq: H, dtype: float64"
      ]
     },
     "execution_count": 134,
     "metadata": {},
     "output_type": "execute_result"
    }
   ],
   "source": [
    "#Here's a weird thing.\n",
    "s = pd.Series([1,3,5,np.nan,6,8], index=dates)\n",
    "s"
   ]
  },
  {
   "cell_type": "code",
   "execution_count": 135,
   "metadata": {
    "collapsed": false
   },
   "outputs": [
    {
     "data": {
      "text/plain": [
       "2013-01-01 00:00:00   NaN\n",
       "2013-01-01 01:00:00   NaN\n",
       "2013-01-01 02:00:00     1\n",
       "2013-01-01 03:00:00     3\n",
       "2013-01-01 04:00:00     5\n",
       "2013-01-01 05:00:00   NaN\n",
       "Freq: H, dtype: float64"
      ]
     },
     "execution_count": 135,
     "metadata": {},
     "output_type": "execute_result"
    }
   ],
   "source": [
    "s1 = s.shift(2)\n",
    "s1"
   ]
  },
  {
   "cell_type": "code",
   "execution_count": 136,
   "metadata": {
    "collapsed": false
   },
   "outputs": [
    {
     "data": {
      "text/plain": [
       "2013-01-01 00:00:00     1\n",
       "2013-01-01 01:00:00     3\n",
       "2013-01-01 02:00:00     5\n",
       "2013-01-01 03:00:00   NaN\n",
       "2013-01-01 04:00:00   NaN\n",
       "2013-01-01 05:00:00   NaN\n",
       "Freq: H, dtype: float64"
      ]
     },
     "execution_count": 136,
     "metadata": {},
     "output_type": "execute_result"
    }
   ],
   "source": [
    "s.shift(2).shift(-2) # note that whenever it has to pull in missing data, it pulls in Nans."
   ]
  },
  {
   "cell_type": "code",
   "execution_count": 137,
   "metadata": {
    "collapsed": false
   },
   "outputs": [
    {
     "data": {
      "text/html": [
       "<div>\n",
       "<table border=\"1\" class=\"dataframe\">\n",
       "  <thead>\n",
       "    <tr style=\"text-align: right;\">\n",
       "      <th></th>\n",
       "      <th>A</th>\n",
       "      <th>B</th>\n",
       "      <th>C</th>\n",
       "      <th>D</th>\n",
       "    </tr>\n",
       "  </thead>\n",
       "  <tbody>\n",
       "    <tr>\n",
       "      <th>2013-01-01 00:00:00</th>\n",
       "      <td>NaN</td>\n",
       "      <td>NaN</td>\n",
       "      <td>NaN</td>\n",
       "      <td>NaN</td>\n",
       "    </tr>\n",
       "    <tr>\n",
       "      <th>2013-01-01 01:00:00</th>\n",
       "      <td>NaN</td>\n",
       "      <td>NaN</td>\n",
       "      <td>NaN</td>\n",
       "      <td>NaN</td>\n",
       "    </tr>\n",
       "    <tr>\n",
       "      <th>2013-01-01 02:00:00</th>\n",
       "      <td>36</td>\n",
       "      <td>62</td>\n",
       "      <td>64</td>\n",
       "      <td>71</td>\n",
       "    </tr>\n",
       "    <tr>\n",
       "      <th>2013-01-01 03:00:00</th>\n",
       "      <td>9</td>\n",
       "      <td>21</td>\n",
       "      <td>95</td>\n",
       "      <td>36</td>\n",
       "    </tr>\n",
       "    <tr>\n",
       "      <th>2013-01-01 04:00:00</th>\n",
       "      <td>44</td>\n",
       "      <td>23</td>\n",
       "      <td>9</td>\n",
       "      <td>6</td>\n",
       "    </tr>\n",
       "    <tr>\n",
       "      <th>2013-01-01 05:00:00</th>\n",
       "      <td>NaN</td>\n",
       "      <td>NaN</td>\n",
       "      <td>NaN</td>\n",
       "      <td>NaN</td>\n",
       "    </tr>\n",
       "  </tbody>\n",
       "</table>\n",
       "</div>"
      ],
      "text/plain": [
       "                      A   B   C   D\n",
       "2013-01-01 00:00:00 NaN NaN NaN NaN\n",
       "2013-01-01 01:00:00 NaN NaN NaN NaN\n",
       "2013-01-01 02:00:00  36  62  64  71\n",
       "2013-01-01 03:00:00   9  21  95  36\n",
       "2013-01-01 04:00:00  44  23   9   6\n",
       "2013-01-01 05:00:00 NaN NaN NaN NaN"
      ]
     },
     "execution_count": 137,
     "metadata": {},
     "output_type": "execute_result"
    }
   ],
   "source": [
    "# Now what if you want to use this series as indices to select rows from the data frame? \n",
    "# You can, but the 'Nan' indexed rows get defined as Nans themselves. \n",
    "df.sub(s1, axis = 'index')"
   ]
  },
  {
   "cell_type": "markdown",
   "metadata": {},
   "source": [
    "# The apply function\n",
    "\n",
    "    Applies function along input axis of DataFrame.\n",
    "\n",
    "    The objects that 'apply' passes to functions are Series objects having the same index as\n",
    "    either the DataFrame's index (axis=0) or the columns (axis=1).\n",
    "    The return type from 'apply' depends on whether the passed function aggregates results.\n",
    "    \n",
    "    Setting the reduce argument will try to reduce the result if the DataFrame is empty.\n",
    "\n",
    "    Parameters\n",
    "    ----------\n",
    "    func : function\n",
    "        Function to apply to each column/row\n",
    "    axis : {0 or 'index', 1 or 'columns'}, default 0\n",
    "        * 0 or 'index': apply function to each column\n",
    "        * 1 or 'columns': apply function to each row"
   ]
  },
  {
   "cell_type": "code",
   "execution_count": 138,
   "metadata": {
    "collapsed": false
   },
   "outputs": [
    {
     "data": {
      "text/html": [
       "<div>\n",
       "<table border=\"1\" class=\"dataframe\">\n",
       "  <thead>\n",
       "    <tr style=\"text-align: right;\">\n",
       "      <th></th>\n",
       "      <th>A</th>\n",
       "      <th>B</th>\n",
       "      <th>C</th>\n",
       "      <th>D</th>\n",
       "    </tr>\n",
       "  </thead>\n",
       "  <tbody>\n",
       "    <tr>\n",
       "      <th>2013-01-01 00:00:00</th>\n",
       "      <td>46</td>\n",
       "      <td>7</td>\n",
       "      <td>99</td>\n",
       "      <td>37</td>\n",
       "    </tr>\n",
       "    <tr>\n",
       "      <th>2013-01-01 01:00:00</th>\n",
       "      <td>17</td>\n",
       "      <td>63</td>\n",
       "      <td>46</td>\n",
       "      <td>40</td>\n",
       "    </tr>\n",
       "    <tr>\n",
       "      <th>2013-01-01 02:00:00</th>\n",
       "      <td>37</td>\n",
       "      <td>63</td>\n",
       "      <td>65</td>\n",
       "      <td>72</td>\n",
       "    </tr>\n",
       "    <tr>\n",
       "      <th>2013-01-01 03:00:00</th>\n",
       "      <td>12</td>\n",
       "      <td>24</td>\n",
       "      <td>98</td>\n",
       "      <td>39</td>\n",
       "    </tr>\n",
       "    <tr>\n",
       "      <th>2013-01-01 04:00:00</th>\n",
       "      <td>49</td>\n",
       "      <td>28</td>\n",
       "      <td>14</td>\n",
       "      <td>11</td>\n",
       "    </tr>\n",
       "    <tr>\n",
       "      <th>2013-01-01 05:00:00</th>\n",
       "      <td>71</td>\n",
       "      <td>6</td>\n",
       "      <td>5</td>\n",
       "      <td>41</td>\n",
       "    </tr>\n",
       "  </tbody>\n",
       "</table>\n",
       "</div>"
      ],
      "text/plain": [
       "                      A   B   C   D\n",
       "2013-01-01 00:00:00  46   7  99  37\n",
       "2013-01-01 01:00:00  17  63  46  40\n",
       "2013-01-01 02:00:00  37  63  65  72\n",
       "2013-01-01 03:00:00  12  24  98  39\n",
       "2013-01-01 04:00:00  49  28  14  11\n",
       "2013-01-01 05:00:00  71   6   5  41"
      ]
     },
     "execution_count": 138,
     "metadata": {},
     "output_type": "execute_result"
    }
   ],
   "source": [
    "df # look at df again"
   ]
  },
  {
   "cell_type": "code",
   "execution_count": 139,
   "metadata": {
    "collapsed": false
   },
   "outputs": [
    {
     "data": {
      "text/html": [
       "<div>\n",
       "<table border=\"1\" class=\"dataframe\">\n",
       "  <thead>\n",
       "    <tr style=\"text-align: right;\">\n",
       "      <th></th>\n",
       "      <th>A</th>\n",
       "      <th>B</th>\n",
       "      <th>C</th>\n",
       "      <th>D</th>\n",
       "    </tr>\n",
       "  </thead>\n",
       "  <tbody>\n",
       "    <tr>\n",
       "      <th>2013-01-01 00:00:00</th>\n",
       "      <td>46</td>\n",
       "      <td>7</td>\n",
       "      <td>99</td>\n",
       "      <td>37</td>\n",
       "    </tr>\n",
       "    <tr>\n",
       "      <th>2013-01-01 01:00:00</th>\n",
       "      <td>63</td>\n",
       "      <td>70</td>\n",
       "      <td>145</td>\n",
       "      <td>77</td>\n",
       "    </tr>\n",
       "    <tr>\n",
       "      <th>2013-01-01 02:00:00</th>\n",
       "      <td>100</td>\n",
       "      <td>133</td>\n",
       "      <td>210</td>\n",
       "      <td>149</td>\n",
       "    </tr>\n",
       "    <tr>\n",
       "      <th>2013-01-01 03:00:00</th>\n",
       "      <td>112</td>\n",
       "      <td>157</td>\n",
       "      <td>308</td>\n",
       "      <td>188</td>\n",
       "    </tr>\n",
       "    <tr>\n",
       "      <th>2013-01-01 04:00:00</th>\n",
       "      <td>161</td>\n",
       "      <td>185</td>\n",
       "      <td>322</td>\n",
       "      <td>199</td>\n",
       "    </tr>\n",
       "    <tr>\n",
       "      <th>2013-01-01 05:00:00</th>\n",
       "      <td>232</td>\n",
       "      <td>191</td>\n",
       "      <td>327</td>\n",
       "      <td>240</td>\n",
       "    </tr>\n",
       "  </tbody>\n",
       "</table>\n",
       "</div>"
      ],
      "text/plain": [
       "                       A    B    C    D\n",
       "2013-01-01 00:00:00   46    7   99   37\n",
       "2013-01-01 01:00:00   63   70  145   77\n",
       "2013-01-01 02:00:00  100  133  210  149\n",
       "2013-01-01 03:00:00  112  157  308  188\n",
       "2013-01-01 04:00:00  161  185  322  199\n",
       "2013-01-01 05:00:00  232  191  327  240"
      ]
     },
     "execution_count": 139,
     "metadata": {},
     "output_type": "execute_result"
    }
   ],
   "source": [
    "# apply cumulative summing within the columns. \n",
    "# it makes sense that this is the default, since columns of data will have the same data type. \n",
    "df2 = df.apply(np.cumsum) \n",
    "df2"
   ]
  },
  {
   "cell_type": "code",
   "execution_count": 140,
   "metadata": {
    "collapsed": false
   },
   "outputs": [
    {
     "data": {
      "text/plain": [
       "A    59\n",
       "B    57\n",
       "C    94\n",
       "D    61\n",
       "dtype: int64"
      ]
     },
     "execution_count": 140,
     "metadata": {},
     "output_type": "execute_result"
    }
   ],
   "source": [
    "# this lambda takes a series and returns a scalar, so it's lower by one dimension. \n",
    "# so the return type is a series. \n",
    "df3 = df.apply(lambda x: x.max() - x.min())\n",
    "df3"
   ]
  },
  {
   "cell_type": "markdown",
   "metadata": {},
   "source": [
    "## Concatenating records together"
   ]
  },
  {
   "cell_type": "code",
   "execution_count": 141,
   "metadata": {
    "collapsed": false
   },
   "outputs": [
    {
     "data": {
      "text/html": [
       "<div>\n",
       "<table border=\"1\" class=\"dataframe\">\n",
       "  <thead>\n",
       "    <tr style=\"text-align: right;\">\n",
       "      <th></th>\n",
       "      <th>0</th>\n",
       "      <th>1</th>\n",
       "      <th>2</th>\n",
       "      <th>3</th>\n",
       "    </tr>\n",
       "  </thead>\n",
       "  <tbody>\n",
       "    <tr>\n",
       "      <th>0</th>\n",
       "      <td>-0.243654</td>\n",
       "      <td>0.112562</td>\n",
       "      <td>-1.639776</td>\n",
       "      <td>0.079508</td>\n",
       "    </tr>\n",
       "    <tr>\n",
       "      <th>1</th>\n",
       "      <td>-0.634371</td>\n",
       "      <td>1.953839</td>\n",
       "      <td>0.222370</td>\n",
       "      <td>-1.917715</td>\n",
       "    </tr>\n",
       "    <tr>\n",
       "      <th>2</th>\n",
       "      <td>-0.126426</td>\n",
       "      <td>-0.601316</td>\n",
       "      <td>-0.655130</td>\n",
       "      <td>1.160817</td>\n",
       "    </tr>\n",
       "    <tr>\n",
       "      <th>5</th>\n",
       "      <td>-1.552019</td>\n",
       "      <td>-0.701856</td>\n",
       "      <td>-1.364096</td>\n",
       "      <td>0.034347</td>\n",
       "    </tr>\n",
       "    <tr>\n",
       "      <th>8</th>\n",
       "      <td>-0.682345</td>\n",
       "      <td>0.250001</td>\n",
       "      <td>0.461032</td>\n",
       "      <td>-0.230795</td>\n",
       "    </tr>\n",
       "    <tr>\n",
       "      <th>9</th>\n",
       "      <td>-1.023404</td>\n",
       "      <td>2.954261</td>\n",
       "      <td>0.222707</td>\n",
       "      <td>0.516149</td>\n",
       "    </tr>\n",
       "  </tbody>\n",
       "</table>\n",
       "</div>"
      ],
      "text/plain": [
       "          0         1         2         3\n",
       "0 -0.243654  0.112562 -1.639776  0.079508\n",
       "1 -0.634371  1.953839  0.222370 -1.917715\n",
       "2 -0.126426 -0.601316 -0.655130  1.160817\n",
       "5 -1.552019 -0.701856 -1.364096  0.034347\n",
       "8 -0.682345  0.250001  0.461032 -0.230795\n",
       "9 -1.023404  2.954261  0.222707  0.516149"
      ]
     },
     "execution_count": 141,
     "metadata": {},
     "output_type": "execute_result"
    }
   ],
   "source": [
    "# this creates a data frame with default labels (0-based indices)\n",
    "dfa = pd.DataFrame(np.random.randn(10, 4))\n",
    "\n",
    "pieces = [dfa[:3], dfa[5:6], dfa[8:]] \n",
    "dfa = pd.concat(pieces)\n",
    "dfa # note reduced row indices -- there were 10 to begin with."
   ]
  },
  {
   "cell_type": "markdown",
   "metadata": {},
   "source": [
    "## Database-style join using pd.merge()"
   ]
  },
  {
   "cell_type": "code",
   "execution_count": 142,
   "metadata": {
    "collapsed": false
   },
   "outputs": [
    {
     "data": {
      "text/html": [
       "<div>\n",
       "<table border=\"1\" class=\"dataframe\">\n",
       "  <thead>\n",
       "    <tr style=\"text-align: right;\">\n",
       "      <th></th>\n",
       "      <th>key</th>\n",
       "      <th>lval</th>\n",
       "    </tr>\n",
       "  </thead>\n",
       "  <tbody>\n",
       "    <tr>\n",
       "      <th>0</th>\n",
       "      <td>aa</td>\n",
       "      <td>la</td>\n",
       "    </tr>\n",
       "    <tr>\n",
       "      <th>1</th>\n",
       "      <td>bb</td>\n",
       "      <td>lb</td>\n",
       "    </tr>\n",
       "  </tbody>\n",
       "</table>\n",
       "</div>"
      ],
      "text/plain": [
       "  key lval\n",
       "0  aa   la\n",
       "1  bb   lb"
      ]
     },
     "execution_count": 142,
     "metadata": {},
     "output_type": "execute_result"
    }
   ],
   "source": [
    "left = pd.DataFrame({'key': ['aa', 'bb'], 'lval': ['la', 'lb']})\n",
    "right = pd.DataFrame({'key': ['bb', 'cc'], 'rval': ['rb', 'rc']})\n",
    "left"
   ]
  },
  {
   "cell_type": "code",
   "execution_count": 143,
   "metadata": {
    "collapsed": false
   },
   "outputs": [
    {
     "data": {
      "text/html": [
       "<div>\n",
       "<table border=\"1\" class=\"dataframe\">\n",
       "  <thead>\n",
       "    <tr style=\"text-align: right;\">\n",
       "      <th></th>\n",
       "      <th>key</th>\n",
       "      <th>rval</th>\n",
       "    </tr>\n",
       "  </thead>\n",
       "  <tbody>\n",
       "    <tr>\n",
       "      <th>0</th>\n",
       "      <td>bb</td>\n",
       "      <td>rb</td>\n",
       "    </tr>\n",
       "    <tr>\n",
       "      <th>1</th>\n",
       "      <td>cc</td>\n",
       "      <td>rc</td>\n",
       "    </tr>\n",
       "  </tbody>\n",
       "</table>\n",
       "</div>"
      ],
      "text/plain": [
       "  key rval\n",
       "0  bb   rb\n",
       "1  cc   rc"
      ]
     },
     "execution_count": 143,
     "metadata": {},
     "output_type": "execute_result"
    }
   ],
   "source": [
    "right"
   ]
  },
  {
   "cell_type": "code",
   "execution_count": 144,
   "metadata": {
    "collapsed": false
   },
   "outputs": [
    {
     "data": {
      "text/html": [
       "<div>\n",
       "<table border=\"1\" class=\"dataframe\">\n",
       "  <thead>\n",
       "    <tr style=\"text-align: right;\">\n",
       "      <th></th>\n",
       "      <th>key</th>\n",
       "      <th>lval</th>\n",
       "      <th>rval</th>\n",
       "    </tr>\n",
       "  </thead>\n",
       "  <tbody>\n",
       "    <tr>\n",
       "      <th>0</th>\n",
       "      <td>bb</td>\n",
       "      <td>lb</td>\n",
       "      <td>rb</td>\n",
       "    </tr>\n",
       "  </tbody>\n",
       "</table>\n",
       "</div>"
      ],
      "text/plain": [
       "  key lval rval\n",
       "0  bb   lb   rb"
      ]
     },
     "execution_count": 144,
     "metadata": {},
     "output_type": "execute_result"
    }
   ],
   "source": [
    "pd.merge(left, right) # I think this is an inner join, not an outer join."
   ]
  },
  {
   "cell_type": "markdown",
   "metadata": {},
   "source": [
    "## Group by operations\n",
    "\n",
    "By “group by” we are referring to a process involving one or more of the following steps\n",
    "\n",
    "- Splitting the data into groups based on some criteria\n",
    "- Applying a function to each group independently\n",
    "- Combining the results into a data structure"
   ]
  },
  {
   "cell_type": "code",
   "execution_count": 145,
   "metadata": {
    "collapsed": true
   },
   "outputs": [],
   "source": [
    "dfb = pd.DataFrame({'A' : ['foo', 'bar', 'foo', 'bar',\n",
    "                           'foo', 'bar', 'foo', 'foo'],\n",
    "                    'B' : ['one', 'one', 'two', 'three',\n",
    "                           'two', 'two', 'one', 'three'],\n",
    "                    'C' : np.random.randn(8),\n",
    "                    'D' : np.random.randn(8)\n",
    "                   })"
   ]
  },
  {
   "cell_type": "code",
   "execution_count": 146,
   "metadata": {
    "collapsed": false
   },
   "outputs": [
    {
     "data": {
      "text/html": [
       "<div>\n",
       "<table border=\"1\" class=\"dataframe\">\n",
       "  <thead>\n",
       "    <tr style=\"text-align: right;\">\n",
       "      <th></th>\n",
       "      <th>A</th>\n",
       "      <th>B</th>\n",
       "      <th>C</th>\n",
       "      <th>D</th>\n",
       "    </tr>\n",
       "  </thead>\n",
       "  <tbody>\n",
       "    <tr>\n",
       "      <th>0</th>\n",
       "      <td>foo</td>\n",
       "      <td>one</td>\n",
       "      <td>-0.886485</td>\n",
       "      <td>0.230920</td>\n",
       "    </tr>\n",
       "    <tr>\n",
       "      <th>1</th>\n",
       "      <td>bar</td>\n",
       "      <td>one</td>\n",
       "      <td>0.418398</td>\n",
       "      <td>-0.805344</td>\n",
       "    </tr>\n",
       "    <tr>\n",
       "      <th>2</th>\n",
       "      <td>foo</td>\n",
       "      <td>two</td>\n",
       "      <td>0.939130</td>\n",
       "      <td>0.243422</td>\n",
       "    </tr>\n",
       "    <tr>\n",
       "      <th>3</th>\n",
       "      <td>bar</td>\n",
       "      <td>three</td>\n",
       "      <td>-1.268786</td>\n",
       "      <td>-0.253152</td>\n",
       "    </tr>\n",
       "    <tr>\n",
       "      <th>4</th>\n",
       "      <td>foo</td>\n",
       "      <td>two</td>\n",
       "      <td>-0.400010</td>\n",
       "      <td>-1.821968</td>\n",
       "    </tr>\n",
       "    <tr>\n",
       "      <th>5</th>\n",
       "      <td>bar</td>\n",
       "      <td>two</td>\n",
       "      <td>-0.110012</td>\n",
       "      <td>0.141083</td>\n",
       "    </tr>\n",
       "    <tr>\n",
       "      <th>6</th>\n",
       "      <td>foo</td>\n",
       "      <td>one</td>\n",
       "      <td>-1.256544</td>\n",
       "      <td>-0.679587</td>\n",
       "    </tr>\n",
       "    <tr>\n",
       "      <th>7</th>\n",
       "      <td>foo</td>\n",
       "      <td>three</td>\n",
       "      <td>1.523957</td>\n",
       "      <td>1.051411</td>\n",
       "    </tr>\n",
       "  </tbody>\n",
       "</table>\n",
       "</div>"
      ],
      "text/plain": [
       "     A      B         C         D\n",
       "0  foo    one -0.886485  0.230920\n",
       "1  bar    one  0.418398 -0.805344\n",
       "2  foo    two  0.939130  0.243422\n",
       "3  bar  three -1.268786 -0.253152\n",
       "4  foo    two -0.400010 -1.821968\n",
       "5  bar    two -0.110012  0.141083\n",
       "6  foo    one -1.256544 -0.679587\n",
       "7  foo  three  1.523957  1.051411"
      ]
     },
     "execution_count": 146,
     "metadata": {},
     "output_type": "execute_result"
    }
   ],
   "source": [
    "dfb"
   ]
  },
  {
   "cell_type": "code",
   "execution_count": 147,
   "metadata": {
    "collapsed": false
   },
   "outputs": [
    {
     "data": {
      "text/html": [
       "<div>\n",
       "<table border=\"1\" class=\"dataframe\">\n",
       "  <thead>\n",
       "    <tr style=\"text-align: right;\">\n",
       "      <th></th>\n",
       "      <th>C</th>\n",
       "      <th>D</th>\n",
       "    </tr>\n",
       "    <tr>\n",
       "      <th>A</th>\n",
       "      <th></th>\n",
       "      <th></th>\n",
       "    </tr>\n",
       "  </thead>\n",
       "  <tbody>\n",
       "    <tr>\n",
       "      <th>bar</th>\n",
       "      <td>-0.960400</td>\n",
       "      <td>-0.917412</td>\n",
       "    </tr>\n",
       "    <tr>\n",
       "      <th>foo</th>\n",
       "      <td>-0.079952</td>\n",
       "      <td>-0.975801</td>\n",
       "    </tr>\n",
       "  </tbody>\n",
       "</table>\n",
       "</div>"
      ],
      "text/plain": [
       "            C         D\n",
       "A                      \n",
       "bar -0.960400 -0.917412\n",
       "foo -0.079952 -0.975801"
      ]
     },
     "execution_count": 147,
     "metadata": {},
     "output_type": "execute_result"
    }
   ],
   "source": [
    "# the result of this: the function groups those records that have the same 'A' value.\n",
    "# then it applies the 'sum' function to the columns in each group for which the function makes sense. \n",
    "# in this case, it only makes sense for columns C and D.\n",
    "dfb.groupby('A').sum()"
   ]
  },
  {
   "cell_type": "code",
   "execution_count": 148,
   "metadata": {
    "collapsed": false
   },
   "outputs": [
    {
     "data": {
      "text/plain": [
       "2"
      ]
     },
     "execution_count": 148,
     "metadata": {},
     "output_type": "execute_result"
    }
   ],
   "source": [
    "# the function you apply has to be one of the functions that the GroupBy object supports. There are a lot.\n",
    "dfb.groupby('A').ngroups"
   ]
  },
  {
   "cell_type": "markdown",
   "metadata": {},
   "source": [
    "## Brief refresher on 'zip' and the '*' and '**' unpack operator things\n",
    "\n",
    "The '*' operator is an unpack operator. It will take a list object, containing the arguments for a function, and 'unpack' the arguments out of the container. "
   ]
  },
  {
   "cell_type": "code",
   "execution_count": 149,
   "metadata": {
    "collapsed": false
   },
   "outputs": [
    {
     "data": {
      "text/plain": [
       "[('bar', 'one'),\n",
       " ('bar', 'two'),\n",
       " ('baz', 'one'),\n",
       " ('baz', 'two'),\n",
       " ('foo', 'one'),\n",
       " ('foo', 'two'),\n",
       " ('qux', 'one'),\n",
       " ('qux', 'two')]"
      ]
     },
     "execution_count": 149,
     "metadata": {},
     "output_type": "execute_result"
    }
   ],
   "source": [
    "# this * isn't valid syntax unless it is inside a function call. \n",
    "ll = [['bar', 'bar', 'baz', 'baz',\n",
    "                         'foo', 'foo', 'qux', 'qux'],\n",
    "                        ['one', 'two', 'one', 'two',\n",
    "                         'one', 'two', 'one', 'two']]\n",
    "\n",
    "## what the * does is to unpack the inner two lists from the outer list. \n",
    "# then the zip function can take the two arguments as lists to be zipped. \n",
    "\n",
    "zip(*ll)"
   ]
  },
  {
   "cell_type": "code",
   "execution_count": 150,
   "metadata": {
    "collapsed": false
   },
   "outputs": [
    {
     "name": "stdout",
     "output_type": "stream",
     "text": [
      "-- This parrot wouldn't VOOM if you put four million volts through it. E's bleedin' demised !\n"
     ]
    }
   ],
   "source": [
    "# the ** operator does almost the same thing for dictionaries \n",
    "# ** unpacks values out of dictionaries corresponding to the appropriate keywords,\n",
    "def parrot(voltage, state='a stiff', action='voom'):\n",
    "    print \"-- This parrot wouldn't\", action,\n",
    "    print \"if you put\", voltage, \"volts through it.\",\n",
    "    print \"E's\", state, \"!\"\n",
    "\n",
    "d = {\"voltage\": \"four million\", \"state\": \"bleedin' demised\", \"action\": \"VOOM\"}\n",
    "parrot(**d)\n"
   ]
  },
  {
   "cell_type": "code",
   "execution_count": 151,
   "metadata": {
    "collapsed": false
   },
   "outputs": [
    {
     "name": "stdout",
     "output_type": "stream",
     "text": [
      "-- This parrot wouldn't voom if you put four volts through it. E's a stiff !\n"
     ]
    }
   ],
   "source": [
    "# now let's see what that dictionary d has to contain.\n",
    "# my guess is it has to contain voltage but not state or action, since it has defaults. \n",
    "# be careful to use the two stars, since it messes up but doesn't fail if you don't. \n",
    "dd = {\"voltage\": \"four\"}\n",
    "parrot(**dd)"
   ]
  },
  {
   "cell_type": "code",
   "execution_count": 152,
   "metadata": {
    "collapsed": false
   },
   "outputs": [
    {
     "ename": "TypeError",
     "evalue": "parrot() got an unexpected keyword argument 'prince'",
     "output_type": "error",
     "traceback": [
      "\u001b[1;31m---------------------------------------------------------------------------\u001b[0m",
      "\u001b[1;31mTypeError\u001b[0m                                 Traceback (most recent call last)",
      "\u001b[1;32m<ipython-input-152-97481fee60d9>\u001b[0m in \u001b[0;36m<module>\u001b[1;34m()\u001b[0m\n\u001b[0;32m      1\u001b[0m \u001b[1;31m# you can't have keywords in the directory that are unrecognized. This fails.\u001b[0m\u001b[1;33m\u001b[0m\u001b[1;33m\u001b[0m\u001b[0m\n\u001b[0;32m      2\u001b[0m \u001b[0mdd\u001b[0m \u001b[1;33m=\u001b[0m \u001b[1;33m{\u001b[0m\u001b[1;34m\"voltage\"\u001b[0m\u001b[1;33m:\u001b[0m \u001b[1;34m\"four\"\u001b[0m\u001b[1;33m,\u001b[0m \u001b[1;34m\"prince\"\u001b[0m\u001b[1;33m:\u001b[0m\u001b[1;34m\"charming\"\u001b[0m\u001b[1;33m}\u001b[0m\u001b[1;33m\u001b[0m\u001b[0m\n\u001b[1;32m----> 3\u001b[1;33m \u001b[0mparrot\u001b[0m\u001b[1;33m(\u001b[0m\u001b[1;33m**\u001b[0m\u001b[0mdd\u001b[0m\u001b[1;33m)\u001b[0m\u001b[1;33m\u001b[0m\u001b[0m\n\u001b[0m",
      "\u001b[1;31mTypeError\u001b[0m: parrot() got an unexpected keyword argument 'prince'"
     ]
    }
   ],
   "source": [
    "# you can't have keywords in the directory that are unrecognized. This fails. \n",
    "dd = {\"voltage\": \"four\", \"prince\":\"charming\"}\n",
    "parrot(**dd)"
   ]
  },
  {
   "cell_type": "markdown",
   "metadata": {},
   "source": [
    "## the stack() function on data frames.\n",
    "\n",
    "This is a lot like pivoting in Excel."
   ]
  },
  {
   "cell_type": "code",
   "execution_count": null,
   "metadata": {
    "collapsed": false
   },
   "outputs": [],
   "source": [
    "tuples = zip(*ll) # creates a list of pair tuples \n",
    "tuples # note that there are 8 pairs\n"
   ]
  },
  {
   "cell_type": "code",
   "execution_count": null,
   "metadata": {
    "collapsed": false
   },
   "outputs": [],
   "source": [
    "index = pd.MultiIndex.from_tuples(tuples, names=['first', 'second'])\n",
    "index"
   ]
  },
  {
   "cell_type": "markdown",
   "metadata": {},
   "source": [
    "### MultiIndex.from_tuples function: what I think each part of the return value means\n",
    "\n",
    "- levels: a list of the levels each part of the multi-index can have\n",
    "- labels: the indices of the levels in each of the multi-index dimensions \n",
    "- names: the names of the multi-index dimensions"
   ]
  },
  {
   "cell_type": "code",
   "execution_count": null,
   "metadata": {
    "collapsed": false
   },
   "outputs": [],
   "source": [
    "dfc = pd.DataFrame(np.random.randn(8, 2), index=index, columns=['A', 'B'])\n",
    "dfc # note how the __repr__ function treats the multi-index."
   ]
  },
  {
   "cell_type": "code",
   "execution_count": null,
   "metadata": {
    "collapsed": false
   },
   "outputs": [],
   "source": [
    "stacked = dfc.stack()\n",
    "stacked # what does this accomplish exactly?"
   ]
  },
  {
   "cell_type": "code",
   "execution_count": null,
   "metadata": {
    "collapsed": false
   },
   "outputs": [],
   "source": [
    "# I SEE! It creates a new multi-index with the inner-most column labels now treated as a level in the row index. \n",
    "print dfc.stack.__doc__"
   ]
  },
  {
   "cell_type": "code",
   "execution_count": null,
   "metadata": {
    "collapsed": false
   },
   "outputs": [],
   "source": [
    "# now if you unstack... the inner labels, 'second', will become part of a MultiIndex that describes the columns.\n",
    "unstacked = dfc.unstack()\n",
    "unstacked "
   ]
  },
  {
   "cell_type": "markdown",
   "metadata": {},
   "source": [
    "## Pivot tables!\n",
    "\n"
   ]
  },
  {
   "cell_type": "code",
   "execution_count": null,
   "metadata": {
    "collapsed": false
   },
   "outputs": [],
   "source": [
    "dfe = pd.DataFrame({'A' : ['one', 'one', 'two', 'three'] * 3,\n",
    "                  'B' : ['x', 'y', 'z'] * 4,\n",
    "                       'C' : ['foo', 'foo', 'foo', 'bar', 'bar', 'bar'] * 2,\n",
    "                      'D' : np.random.randn(12),\n",
    "                      'E' : np.random.randn(12)})\n",
    "dfe"
   ]
  },
  {
   "cell_type": "code",
   "execution_count": null,
   "metadata": {
    "collapsed": false
   },
   "outputs": [],
   "source": [
    "# what does this do?\n",
    "# note that if you look up the value in D for A = three, B = y, C = bar: there is nothing. \n",
    "# so the entry for that in the pivot table is Nan.\n",
    "# \n",
    "pd.pivot_table(dfe, values='D', index=['A', 'B'], columns=['C'])"
   ]
  },
  {
   "cell_type": "markdown",
   "metadata": {},
   "source": [
    "## Time Series"
   ]
  },
  {
   "cell_type": "code",
   "execution_count": null,
   "metadata": {
    "collapsed": false
   },
   "outputs": [],
   "source": [
    "# define a range of dates sampled by second.\n",
    "rng = pd.date_range('1/1/2012', periods=100, freq='S')\n",
    "\n",
    "# create a time series of the same length consisting of random integers from 0 to 500\n",
    "tseries = pd.Series(np.random.randint(0, 500, len(rng)), index=rng)\n",
    "tseries"
   ]
  },
  {
   "cell_type": "code",
   "execution_count": null,
   "metadata": {
    "collapsed": false
   },
   "outputs": [],
   "source": [
    "ts2 = tseries.resample('5S', how = 'mean')\n",
    "ts2"
   ]
  },
  {
   "cell_type": "markdown",
   "metadata": {},
   "source": []
  },
  {
   "cell_type": "code",
   "execution_count": null,
   "metadata": {
    "collapsed": false
   },
   "outputs": [],
   "source": [
    "# Note: this has resampled the time series to one value every 5 original values. \n",
    "# the resampling method is the mean.\n",
    "first5 = np.array([267,\n",
    "432,\n",
    "427,\n",
    "15,\n",
    "429])\n",
    "first5.mean()"
   ]
  },
  {
   "cell_type": "markdown",
   "metadata": {},
   "source": [
    "## Categorical data \n",
    "\n",
    "You can define categorical data types. \n",
    "\n",
    "In the example velow, you start as a raw grade which is just a letter, and coerce it to be a categorical variable. \n",
    "\n",
    "This, I presume, is like a factor in R."
   ]
  },
  {
   "cell_type": "code",
   "execution_count": null,
   "metadata": {
    "collapsed": false
   },
   "outputs": [],
   "source": [
    "# raw grade has type, I guess, string. Redefine it as a categorical (factor) variable.\n",
    "dff = pd.DataFrame({\"id\":[1,2,3,4,5,6], \"raw_grade\":['a', 'b', 'b', 'a', 'a', 'e']})\n",
    "\n",
    "# this is a pd.Series\n",
    "dff[\"grade\"] = dff[\"raw_grade\"].astype(\"category\")\n",
    "\n",
    "# give the categories new names\n",
    "# at this point, the categories are a, b, and e\n",
    "# print dff[\"grade\"].cat.categories\n",
    "\n",
    "# rename them to these more meaningful categories\n",
    "# note the total number of categories is still 3\n",
    "dff[\"grade\"].cat.categories = [\"very good\", \"good\", \"very bad\"]\n",
    "print dff[\"grade\"]"
   ]
  },
  {
   "cell_type": "code",
   "execution_count": null,
   "metadata": {
    "collapsed": false
   },
   "outputs": [],
   "source": [
    "# now 'interpolate' the current categories to a new denser set of categories\n",
    "dfg = dff.copy()\n",
    "dfg[\"grade\"] = dfg[\"grade\"].cat.set_categories([\"very bad\", \"bad\", \"medium\", \"good\", \"very good\"])\n",
    "dfg[\"grade\"]"
   ]
  },
  {
   "cell_type": "code",
   "execution_count": null,
   "metadata": {
    "collapsed": false
   },
   "outputs": [],
   "source": [
    "# now 'interpolate' the current categories to a new, completely different set of categories\n",
    "# the results make no sense anymore. \n",
    "dfh = dff.copy()\n",
    "dfh[\"grade\"] = dfh[\"grade\"].cat.set_categories([\"very zoom\", \"bad zoom\", \"medium zuck\", \"good zuck\", \"very good zuck\"])\n",
    "dfh[\"grade\"]"
   ]
  },
  {
   "cell_type": "code",
   "execution_count": null,
   "metadata": {
    "collapsed": false
   },
   "outputs": [],
   "source": [
    "# sorting is by the order of the categories (as they were defined). \n",
    "dfg.sort(columns=\"grade\")"
   ]
  },
  {
   "cell_type": "code",
   "execution_count": null,
   "metadata": {
    "collapsed": false
   },
   "outputs": [],
   "source": [
    "# this is strange. In the example, the size of the missing categories was 0, which is logical. \n",
    "# here, it is NaN, which makes no sense.\n",
    "dfg.groupby(\"grade\").size()"
   ]
  },
  {
   "cell_type": "markdown",
   "metadata": {},
   "source": [
    "# Plotting with Pandas!\n",
    "\n",
    "It kind of looks as though matpoltlib plotting is built into these objects."
   ]
  },
  {
   "cell_type": "code",
   "execution_count": 153,
   "metadata": {
    "collapsed": false
   },
   "outputs": [
    {
     "data": {
      "text/plain": [
       "<matplotlib.axes._subplots.AxesSubplot at 0x7f3551794910>"
      ]
     },
     "execution_count": 153,
     "metadata": {},
     "output_type": "execute_result"
    },
    {
     "data": {
      "image/png": "[encoded data removed]",
      "text/plain": [
       "<matplotlib.figure.Figure at 0x7f355179e890>"
      ]
     },
     "metadata": {},
     "output_type": "display_data"
    }
   ],
   "source": [
    "ts = pd.Series(np.random.randn(1000), index=pd.date_range('1/1/2000', periods=1000))\n",
    "tss = ts.cumsum() # new time series that does partial sums of the original one, I presume\n",
    "tss.plot()"
   ]
  },
  {
   "cell_type": "markdown",
   "metadata": {},
   "source": [
    "## multiple curves on one plot"
   ]
  },
  {
   "cell_type": "code",
   "execution_count": 155,
   "metadata": {
    "collapsed": false
   },
   "outputs": [
    {
     "data": {
      "text/plain": [
       "<matplotlib.legend.Legend at 0x7f3551705b90>"
      ]
     },
     "execution_count": 155,
     "metadata": {},
     "output_type": "execute_result"
    },
    {
     "data": {
      "text/plain": [
       "<matplotlib.figure.Figure at 0x7f355180fe50>"
      ]
     },
     "metadata": {},
     "output_type": "display_data"
    },
    {
     "data": {
      "image/png": "[encoded data removed]",
      "text/plain": [
       "<matplotlib.figure.Figure at 0x7f355180ff50>"
      ]
     },
     "metadata": {},
     "output_type": "display_data"
    }
   ],
   "source": [
    "dfi = pd.DataFrame(np.random.randn(1000, 4), index = ts.index, columns = list('ABCD'))\n",
    "dfi = dfi.cumsum()\n",
    "plt.figure() # create a new figure\n",
    "dfi.plot()\n",
    "plt.legend(loc=\"best\") # I like this. \"Put it in the best location\""
   ]
  },
  {
   "cell_type": "markdown",
   "metadata": {},
   "source": [
    "## Reading and writing data\n",
    "\n",
    "### to csv:\n",
    "\n",
    "df.to_csv('foo.csv')\n",
    "\n",
    "df = pd.read_csv('foo.csv')\n",
    "\n",
    "### to hdf5\n",
    "(I guess you need to tell it what its name is when you store it)\n",
    "\n",
    "df.to_hdf('foo.h5','df')\n",
    "\n",
    "(Does this next piece of code create an object called df?)\n",
    "\n",
    "pf.read_hdf('foo.h5', 'df')\n",
    "\n",
    "### to excel\n",
    "\n",
    "df.to_excel('foo.xlsx', sheet_name='Sheet1')\n",
    "\n",
    "pd.read_excel('foo.xlsx', 'Sheet1', index_col=None, na_values=['NA'])"
   ]
  },
  {
   "cell_type": "code",
   "execution_count": null,
   "metadata": {
    "collapsed": true
   },
   "outputs": [],
   "source": []
  }
 ],
 "metadata": {
  "kernelspec": {
   "display_name": "Python 2",
   "language": "python",
   "name": "python2"
  },
  "language_info": {
   "codemirror_mode": {
    "name": "ipython",
    "version": 2
   },
   "file_extension": ".py",
   "mimetype": "text/x-python",
   "name": "python",
   "nbconvert_exporter": "python",
   "pygments_lexer": "ipython2",
   "version": "2.7.11"
  }
 },
 "nbformat": 4,
 "nbformat_minor": 0
}
