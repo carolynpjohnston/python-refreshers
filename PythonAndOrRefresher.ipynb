{
 "cells": [
  {
   "cell_type": "markdown",
   "metadata": {},
   "source": [
    "## and & or clauses do not return boolean values. They return one of the values they are comparing. \n",
    "\n",
    "That's why 'ProcessFunc' in the 'FunctionExample1' notebook ends up as a function.  \n",
    "Because the syntax is:\n",
    "\n",
    "    ProcessFunc = (integer) and (function 1) or (function 2)\n",
    "\n",
    "the 'and' clause executes first. \n",
    "\n",
    "If (integer) is 0, the rest of the (integer) and (function 1) variable assignment doesn't execute, and instead the ProcessFunc variable is set to function 2. "
   ]
  },
  {
   "cell_type": "code",
   "execution_count": 1,
   "metadata": {
    "collapsed": false
   },
   "outputs": [
    {
     "data": {
      "text/plain": [
       "'b'"
      ]
     },
     "execution_count": 1,
     "metadata": {},
     "output_type": "execute_result"
    }
   ],
   "source": [
    "# 'a' doesn't evaluate to 0, but you have to check to be sure 'b' isn't 0, so that's the variable's assignment.\n",
    "'a' and 'b'"
   ]
  },
  {
   "cell_type": "code",
   "execution_count": 2,
   "metadata": {
    "collapsed": false
   },
   "outputs": [
    {
     "data": {
      "text/plain": [
       "'a'"
      ]
     },
     "execution_count": 2,
     "metadata": {},
     "output_type": "execute_result"
    }
   ],
   "source": [
    "# 'a' doesn't evaluate to 0, so the variable gets that value assigned.\n",
    "'a' or 'b'"
   ]
  },
  {
   "cell_type": "code",
   "execution_count": 3,
   "metadata": {
    "collapsed": false
   },
   "outputs": [
    {
     "data": {
      "text/plain": [
       "'b'"
      ]
     },
     "execution_count": 3,
     "metadata": {},
     "output_type": "execute_result"
    }
   ],
   "source": [
    "# the and clause executes first, and isn't 0, so the 'c' part doesn't get evaluated.\n",
    "'a' and 'b' or 'c'"
   ]
  },
  {
   "cell_type": "code",
   "execution_count": 4,
   "metadata": {
    "collapsed": false
   },
   "outputs": [
    {
     "data": {
      "text/plain": [
       "'c'"
      ]
     },
     "execution_count": 4,
     "metadata": {},
     "output_type": "execute_result"
    }
   ],
   "source": [
    "# the 'and' clause evaluates to 0.\n",
    "'a' and 0 or 'c'"
   ]
  },
  {
   "cell_type": "code",
   "execution_count": 5,
   "metadata": {
    "collapsed": false
   },
   "outputs": [
    {
     "data": {
      "text/plain": [
       "'c'"
      ]
     },
     "execution_count": 5,
     "metadata": {},
     "output_type": "execute_result"
    }
   ],
   "source": [
    "'c' or 'a' and 0"
   ]
  },
  {
   "cell_type": "markdown",
   "metadata": {},
   "source": [
    " I think that associations are made ffrom left to right, i.e.:\n",
    "\n",
    "    'a' <and/or> 'b' <and/or> 'c' is treated as  ('a' <and/or> 'b') <and/or> 'c'\n",
    "    \n",
    " Here's what they identify as the 'and-or trick'.\n",
    " \n",
    "     This syntax looks similar to the bool ? a : b expression in C.\n",
    " \n",
    " But you have to be a bit careful of Python objects, like empty strings, that evaluate to False in a boolean context.\n",
    " \n",
    "     Make sure a never evaluates to False in a boolean context and you'll be okay. You can put an empty string into a list, for example.\n",
    "     Why would you want to do this instead of using 'if'? \n",
    "     Because you can't use 'if' in a lambda."
   ]
  },
  {
   "cell_type": "code",
   "execution_count": 7,
   "metadata": {
    "collapsed": false
   },
   "outputs": [
    {
     "data": {
      "text/plain": [
       "'first'"
      ]
     },
     "execution_count": 7,
     "metadata": {},
     "output_type": "execute_result"
    }
   ],
   "source": [
    "a = 'first'\n",
    "b = 'second'\n",
    "1 and a or b"
   ]
  },
  {
   "cell_type": "code",
   "execution_count": 8,
   "metadata": {
    "collapsed": false
   },
   "outputs": [
    {
     "data": {
      "text/plain": [
       "'second'"
      ]
     },
     "execution_count": 8,
     "metadata": {},
     "output_type": "execute_result"
    }
   ],
   "source": [
    "0 and a or b"
   ]
  },
  {
   "cell_type": "code",
   "execution_count": 9,
   "metadata": {
    "collapsed": false
   },
   "outputs": [
    {
     "data": {
      "text/plain": [
       "'second'"
      ]
     },
     "execution_count": 9,
     "metadata": {},
     "output_type": "execute_result"
    }
   ],
   "source": [
    "# be careful -- empty strings and lists evaluate to False. \n",
    "1 and '' or b"
   ]
  },
  {
   "cell_type": "code",
   "execution_count": 10,
   "metadata": {
    "collapsed": false
   },
   "outputs": [
    {
     "data": {
      "text/plain": [
       "'second'"
      ]
     },
     "execution_count": 10,
     "metadata": {},
     "output_type": "execute_result"
    }
   ],
   "source": [
    "1 and [] or b # broken"
   ]
  },
  {
   "cell_type": "code",
   "execution_count": 11,
   "metadata": {
    "collapsed": false
   },
   "outputs": [
    {
     "data": {
      "text/plain": [
       "['']"
      ]
     },
     "execution_count": 11,
     "metadata": {},
     "output_type": "execute_result"
    }
   ],
   "source": [
    "1 and [''] or b # works, and you can get the empty string out of the list when it's over."
   ]
  }
 ],
 "metadata": {
  "kernelspec": {
   "display_name": "Python 2",
   "language": "python",
   "name": "python2"
  },
  "language_info": {
   "codemirror_mode": {
    "name": "ipython",
    "version": 2
   },
   "file_extension": ".py",
   "mimetype": "text/x-python",
   "name": "python",
   "nbconvert_exporter": "python",
   "pygments_lexer": "ipython2",
   "version": "2.7.10"
  }
 },
 "nbformat": 4,
 "nbformat_minor": 0
}
