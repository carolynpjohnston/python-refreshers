{
 "cells": [
  {
   "cell_type": "markdown",
   "metadata": {},
   "source": [
    "## Lambda functions are one-line mini-functions.\n",
    "\n",
    "Python supports an interesting syntax that lets you define one−line mini−functions on the fly.\n",
    "\n",
    "To generalize, a lambda function is a function that takes any number of arguments (including optional arguments)\n",
    "and returns the value of a single expression. lambda functions can not contain commands, and they can not contain\n",
    "more than one expression.\n",
    "\n",
    "Think of a lambda as an inline function from C++."
   ]
  },
  {
   "cell_type": "code",
   "execution_count": 1,
   "metadata": {
    "collapsed": false
   },
   "outputs": [
    {
     "data": {
      "text/plain": [
       "'my dog has fleas'"
      ]
     },
     "execution_count": 1,
     "metadata": {},
     "output_type": "execute_result"
    }
   ],
   "source": [
    "# lambdas themselves never evaluate to 0 in a boolean context.\n",
    "# collapse = 0 means 'don't collapse contiguous whitespace into a single space'.\n",
    "collapse = 1\n",
    "processFunc = collapse and (lambda s: \" \".join(s.split())) or (lambda s: s)\n",
    "processFunc(\"my    dog has    fleas\")"
   ]
  },
  {
   "cell_type": "code",
   "execution_count": 2,
   "metadata": {
    "collapsed": false
   },
   "outputs": [
    {
     "data": {
      "text/plain": [
       "'my    dog has    fleas'"
      ]
     },
     "execution_count": 2,
     "metadata": {},
     "output_type": "execute_result"
    }
   ],
   "source": [
    "collapse = 0\n",
    "processFunc = collapse and (lambda s: \" \".join(s.split())) or (lambda s: s)\n",
    "processFunc(\"my    dog has    fleas\")"
   ]
  },
  {
   "cell_type": "code",
   "execution_count": null,
   "metadata": {
    "collapsed": true
   },
   "outputs": [],
   "source": []
  }
 ],
 "metadata": {
  "kernelspec": {
   "display_name": "Python 2",
   "language": "python",
   "name": "python2"
  },
  "language_info": {
   "codemirror_mode": {
    "name": "ipython",
    "version": 2
   },
   "file_extension": ".py",
   "mimetype": "text/x-python",
   "name": "python",
   "nbconvert_exporter": "python",
   "pygments_lexer": "ipython2",
   "version": "2.7.10"
  }
 },
 "nbformat": 4,
 "nbformat_minor": 0
}
